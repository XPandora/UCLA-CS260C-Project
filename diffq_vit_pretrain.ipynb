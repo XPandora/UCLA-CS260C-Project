{
  "cells": [
    {
      "cell_type": "code",
      "execution_count": 1,
      "metadata": {
        "colab": {
          "base_uri": "https://localhost:8080/"
        },
        "id": "8VHOJZ33jgaB",
        "outputId": "3ef39de4-1bef-4af6-810b-f245476cc9f1"
      },
      "outputs": [
        {
          "output_type": "stream",
          "name": "stdout",
          "text": [
            "Cloning into 'diffq'...\n",
            "remote: Enumerating objects: 461, done.\u001b[K\n",
            "remote: Counting objects: 100% (461/461), done.\u001b[K\n",
            "remote: Compressing objects: 100% (302/302), done.\u001b[K\n",
            "remote: Total 461 (delta 272), reused 307 (delta 153), pack-reused 0\u001b[K\n",
            "Receiving objects: 100% (461/461), 174.61 KiB | 12.47 MiB/s, done.\n",
            "Resolving deltas: 100% (272/272), done.\n"
          ]
        }
      ],
      "source": [
        "# !git clone https://github.com/facebookresearch/diffq.git\n",
        "!git clone https://github.com/Eurus-Holmes/diffq.git"
      ]
    },
    {
      "cell_type": "code",
      "execution_count": 2,
      "metadata": {
        "colab": {
          "base_uri": "https://localhost:8080/"
        },
        "id": "EHAYbP1lqAEO",
        "outputId": "566799ed-d5bb-483e-e589-21169c0bdfea"
      },
      "outputs": [
        {
          "output_type": "stream",
          "name": "stdout",
          "text": [
            "/content/diffq\n"
          ]
        }
      ],
      "source": [
        "%cd diffq/"
      ]
    },
    {
      "cell_type": "code",
      "execution_count": 3,
      "metadata": {
        "colab": {
          "base_uri": "https://localhost:8080/"
        },
        "id": "o2utjkVtqOEB",
        "outputId": "593867df-d63d-4b1e-adee-8b1556b28833"
      },
      "outputs": [
        {
          "output_type": "stream",
          "name": "stdout",
          "text": [
            "Processing /content/diffq\n",
            "\u001b[33m  DEPRECATION: A future pip version will change local packages to be built in-place without first copying to a temporary directory. We recommend you use --use-feature=in-tree-build to test your packages with this new behavior before it becomes the default.\n",
            "   pip 21.3 will remove support for this functionality. You can find discussion regarding this at https://github.com/pypa/pip/issues/7555.\u001b[0m\n",
            "Requirement already satisfied: Cython in /usr/local/lib/python3.7/dist-packages (from diffq==0.2.2) (0.29.28)\n",
            "Requirement already satisfied: numpy in /usr/local/lib/python3.7/dist-packages (from diffq==0.2.2) (1.21.5)\n",
            "Requirement already satisfied: torch in /usr/local/lib/python3.7/dist-packages (from diffq==0.2.2) (1.10.0+cu111)\n",
            "Requirement already satisfied: typing-extensions in /usr/local/lib/python3.7/dist-packages (from torch->diffq==0.2.2) (3.10.0.2)\n",
            "Building wheels for collected packages: diffq\n",
            "  Building wheel for diffq (setup.py) ... \u001b[?25l\u001b[?25hdone\n",
            "  Created wheel for diffq: filename=diffq-0.2.2-cp37-cp37m-linux_x86_64.whl size=309485 sha256=c2cc301edb465104a79472cf1b8121354696a83662d42676cc880def29783f5c\n",
            "  Stored in directory: /tmp/pip-ephem-wheel-cache-s4g5mjh7/wheels/4e/49/91/12e45240328398fc41817120437abb4845c605b67fb43bfa69\n",
            "Successfully built diffq\n",
            "Installing collected packages: diffq\n",
            "Successfully installed diffq-0.2.2\n"
          ]
        }
      ],
      "source": [
        "!pip install ."
      ]
    },
    {
      "cell_type": "code",
      "execution_count": 4,
      "metadata": {
        "colab": {
          "base_uri": "https://localhost:8080/"
        },
        "id": "sKeRzCyrqYWX",
        "outputId": "484068a8-68db-4657-d2b5-7b09228ea8f0"
      },
      "outputs": [
        {
          "output_type": "stream",
          "name": "stdout",
          "text": [
            "/content/diffq/examples/cifar\n"
          ]
        }
      ],
      "source": [
        "%cd examples/cifar/"
      ]
    },
    {
      "cell_type": "code",
      "execution_count": 5,
      "metadata": {
        "colab": {
          "base_uri": "https://localhost:8080/"
        },
        "id": "lFnlSWSuqdSx",
        "outputId": "ea3cd48c-bec9-4269-db02-75122a783ff6"
      },
      "outputs": [
        {
          "output_type": "stream",
          "name": "stdout",
          "text": [
            "Requirement already satisfied: torch in /usr/local/lib/python3.7/dist-packages (from -r requirements.txt (line 1)) (1.10.0+cu111)\n",
            "Requirement already satisfied: torchvision in /usr/local/lib/python3.7/dist-packages (from -r requirements.txt (line 2)) (0.11.1+cu111)\n",
            "Collecting hydra_core<1.1\n",
            "  Downloading hydra_core-1.0.7-py3-none-any.whl (123 kB)\n",
            "\u001b[K     |████████████████████████████████| 123 kB 29.0 MB/s \n",
            "\u001b[?25hCollecting hydra-colorlog<1.1\n",
            "  Downloading hydra_colorlog-1.0.1-py3-none-any.whl (3.6 kB)\n",
            "Collecting submitit\n",
            "  Downloading submitit-1.4.1-py3-none-any.whl (70 kB)\n",
            "\u001b[K     |████████████████████████████████| 70 kB 11.0 MB/s \n",
            "\u001b[?25hCollecting einops\n",
            "  Downloading einops-0.4.0-py3-none-any.whl (28 kB)\n",
            "Collecting antlr4-python3-runtime==4.8\n",
            "  Downloading antlr4-python3-runtime-4.8.tar.gz (112 kB)\n",
            "\u001b[K     |████████████████████████████████| 112 kB 66.1 MB/s \n",
            "\u001b[?25hCollecting omegaconf<2.1,>=2.0.5\n",
            "  Downloading omegaconf-2.0.6-py3-none-any.whl (36 kB)\n",
            "Requirement already satisfied: importlib-resources in /usr/local/lib/python3.7/dist-packages (from hydra_core<1.1->-r requirements.txt (line 3)) (5.4.0)\n",
            "Collecting colorlog\n",
            "  Downloading colorlog-6.6.0-py2.py3-none-any.whl (11 kB)\n",
            "Requirement already satisfied: typing-extensions in /usr/local/lib/python3.7/dist-packages (from omegaconf<2.1,>=2.0.5->hydra_core<1.1->-r requirements.txt (line 3)) (3.10.0.2)\n",
            "Collecting PyYAML>=5.1.*\n",
            "  Downloading PyYAML-6.0-cp37-cp37m-manylinux_2_5_x86_64.manylinux1_x86_64.manylinux_2_12_x86_64.manylinux2010_x86_64.whl (596 kB)\n",
            "\u001b[K     |████████████████████████████████| 596 kB 41.2 MB/s \n",
            "\u001b[?25hRequirement already satisfied: numpy in /usr/local/lib/python3.7/dist-packages (from torchvision->-r requirements.txt (line 2)) (1.21.5)\n",
            "Requirement already satisfied: pillow!=8.3.0,>=5.3.0 in /usr/local/lib/python3.7/dist-packages (from torchvision->-r requirements.txt (line 2)) (7.1.2)\n",
            "Requirement already satisfied: cloudpickle>=1.2.1 in /usr/local/lib/python3.7/dist-packages (from submitit->-r requirements.txt (line 5)) (1.3.0)\n",
            "Requirement already satisfied: zipp>=3.1.0 in /usr/local/lib/python3.7/dist-packages (from importlib-resources->hydra_core<1.1->-r requirements.txt (line 3)) (3.7.0)\n",
            "Building wheels for collected packages: antlr4-python3-runtime\n",
            "  Building wheel for antlr4-python3-runtime (setup.py) ... \u001b[?25l\u001b[?25hdone\n",
            "  Created wheel for antlr4-python3-runtime: filename=antlr4_python3_runtime-4.8-py3-none-any.whl size=141230 sha256=777bf4cbe8b1ef7ca8369988b55d8a2d7df0bf3c4191f4eed2d5168ecbc61f3a\n",
            "  Stored in directory: /root/.cache/pip/wheels/ca/33/b7/336836125fc9bb4ceaa4376d8abca10ca8bc84ddc824baea6c\n",
            "Successfully built antlr4-python3-runtime\n",
            "Installing collected packages: PyYAML, omegaconf, antlr4-python3-runtime, hydra-core, colorlog, submitit, hydra-colorlog, einops\n",
            "  Attempting uninstall: PyYAML\n",
            "    Found existing installation: PyYAML 3.13\n",
            "    Uninstalling PyYAML-3.13:\n",
            "      Successfully uninstalled PyYAML-3.13\n",
            "Successfully installed PyYAML-6.0 antlr4-python3-runtime-4.8 colorlog-6.6.0 einops-0.4.0 hydra-colorlog-1.0.1 hydra-core-1.0.7 omegaconf-2.0.6 submitit-1.4.1\n"
          ]
        }
      ],
      "source": [
        "!pip install -r requirements.txt"
      ]
    },
    {
      "cell_type": "code",
      "execution_count": 6,
      "metadata": {
        "colab": {
          "base_uri": "https://localhost:8080/"
        },
        "id": "9_GCR7C6_hH_",
        "outputId": "0fd9f173-1f74-4cc6-cc07-88cd70bbefd2"
      },
      "outputs": [
        {
          "output_type": "stream",
          "name": "stdout",
          "text": [
            "Collecting timm\n",
            "  Downloading timm-0.5.4-py3-none-any.whl (431 kB)\n",
            "\u001b[?25l\r\u001b[K     |▊                               | 10 kB 32.7 MB/s eta 0:00:01\r\u001b[K     |█▌                              | 20 kB 39.8 MB/s eta 0:00:01\r\u001b[K     |██▎                             | 30 kB 41.4 MB/s eta 0:00:01\r\u001b[K     |███                             | 40 kB 45.4 MB/s eta 0:00:01\r\u001b[K     |███▉                            | 51 kB 34.4 MB/s eta 0:00:01\r\u001b[K     |████▋                           | 61 kB 37.8 MB/s eta 0:00:01\r\u001b[K     |█████▎                          | 71 kB 30.1 MB/s eta 0:00:01\r\u001b[K     |██████                          | 81 kB 27.5 MB/s eta 0:00:01\r\u001b[K     |██████▉                         | 92 kB 29.6 MB/s eta 0:00:01\r\u001b[K     |███████▋                        | 102 kB 31.6 MB/s eta 0:00:01\r\u001b[K     |████████▍                       | 112 kB 31.6 MB/s eta 0:00:01\r\u001b[K     |█████████▏                      | 122 kB 31.6 MB/s eta 0:00:01\r\u001b[K     |█████████▉                      | 133 kB 31.6 MB/s eta 0:00:01\r\u001b[K     |██████████▋                     | 143 kB 31.6 MB/s eta 0:00:01\r\u001b[K     |███████████▍                    | 153 kB 31.6 MB/s eta 0:00:01\r\u001b[K     |████████████▏                   | 163 kB 31.6 MB/s eta 0:00:01\r\u001b[K     |█████████████                   | 174 kB 31.6 MB/s eta 0:00:01\r\u001b[K     |█████████████▊                  | 184 kB 31.6 MB/s eta 0:00:01\r\u001b[K     |██████████████▍                 | 194 kB 31.6 MB/s eta 0:00:01\r\u001b[K     |███████████████▏                | 204 kB 31.6 MB/s eta 0:00:01\r\u001b[K     |████████████████                | 215 kB 31.6 MB/s eta 0:00:01\r\u001b[K     |████████████████▊               | 225 kB 31.6 MB/s eta 0:00:01\r\u001b[K     |█████████████████▌              | 235 kB 31.6 MB/s eta 0:00:01\r\u001b[K     |██████████████████▎             | 245 kB 31.6 MB/s eta 0:00:01\r\u001b[K     |███████████████████             | 256 kB 31.6 MB/s eta 0:00:01\r\u001b[K     |███████████████████▊            | 266 kB 31.6 MB/s eta 0:00:01\r\u001b[K     |████████████████████▌           | 276 kB 31.6 MB/s eta 0:00:01\r\u001b[K     |█████████████████████▎          | 286 kB 31.6 MB/s eta 0:00:01\r\u001b[K     |██████████████████████          | 296 kB 31.6 MB/s eta 0:00:01\r\u001b[K     |██████████████████████▉         | 307 kB 31.6 MB/s eta 0:00:01\r\u001b[K     |███████████████████████▌        | 317 kB 31.6 MB/s eta 0:00:01\r\u001b[K     |████████████████████████▎       | 327 kB 31.6 MB/s eta 0:00:01\r\u001b[K     |█████████████████████████       | 337 kB 31.6 MB/s eta 0:00:01\r\u001b[K     |█████████████████████████▉      | 348 kB 31.6 MB/s eta 0:00:01\r\u001b[K     |██████████████████████████▋     | 358 kB 31.6 MB/s eta 0:00:01\r\u001b[K     |███████████████████████████▍    | 368 kB 31.6 MB/s eta 0:00:01\r\u001b[K     |████████████████████████████    | 378 kB 31.6 MB/s eta 0:00:01\r\u001b[K     |████████████████████████████▉   | 389 kB 31.6 MB/s eta 0:00:01\r\u001b[K     |█████████████████████████████▋  | 399 kB 31.6 MB/s eta 0:00:01\r\u001b[K     |██████████████████████████████▍ | 409 kB 31.6 MB/s eta 0:00:01\r\u001b[K     |███████████████████████████████▏| 419 kB 31.6 MB/s eta 0:00:01\r\u001b[K     |████████████████████████████████| 430 kB 31.6 MB/s eta 0:00:01\r\u001b[K     |████████████████████████████████| 431 kB 31.6 MB/s \n",
            "\u001b[?25hRequirement already satisfied: torchvision in /usr/local/lib/python3.7/dist-packages (from timm) (0.11.1+cu111)\n",
            "Requirement already satisfied: torch>=1.4 in /usr/local/lib/python3.7/dist-packages (from timm) (1.10.0+cu111)\n",
            "Requirement already satisfied: typing-extensions in /usr/local/lib/python3.7/dist-packages (from torch>=1.4->timm) (3.10.0.2)\n",
            "Requirement already satisfied: pillow!=8.3.0,>=5.3.0 in /usr/local/lib/python3.7/dist-packages (from torchvision->timm) (7.1.2)\n",
            "Requirement already satisfied: numpy in /usr/local/lib/python3.7/dist-packages (from torchvision->timm) (1.21.5)\n",
            "Installing collected packages: timm\n",
            "Successfully installed timm-0.5.4\n"
          ]
        }
      ],
      "source": [
        "!pip install timm"
      ]
    },
    {
      "cell_type": "code",
      "execution_count": null,
      "metadata": {
        "colab": {
          "background_save": true,
          "base_uri": "https://localhost:8080/"
        },
        "id": "nxiYs3WoTs15",
        "outputId": "9799ae7e-3934-40f0-d1db-28332645ae16"
      },
      "outputs": [
        {
          "name": "stdout",
          "output_type": "stream",
          "text": [
            "[\u001b[36m02-25 07:39:20\u001b[0m][\u001b[34m__main__\u001b[0m][\u001b[32mINFO\u001b[0m] - For logs, checkpoints and samples check /content/diffq/examples/cifar/outputs/exp_db.name=cifar10,model=vit_timm,quant.group_size=16,quant.penalty=5\u001b[0m\n",
            "[\u001b[36m02-25 07:39:21\u001b[0m][\u001b[34mnumexpr.utils\u001b[0m][\u001b[32mINFO\u001b[0m] - NumExpr defaulting to 2 threads.\u001b[0m\n",
            "[\u001b[36m02-25 07:39:22\u001b[0m][\u001b[34m__main__\u001b[0m][\u001b[32mINFO\u001b[0m] - Running on host 9c0c62ee9700\u001b[0m\n",
            "Files already downloaded and verified\n",
            "Files already downloaded and verified\n",
            "/usr/local/lib/python3.7/dist-packages/torch/utils/data/dataloader.py:481: UserWarning: This DataLoader will create 5 worker processes in total. Our suggested max number of worker in current system is 2, which is smaller than what this DataLoader is going to create. Please be aware that excessive worker creation might get DataLoader running slow or even freeze, lower the worker number to avoid potential slowness/freeze if necessary.\n",
            "  cpuset_checked))\n",
            "[\u001b[36m02-25 07:39:26\u001b[0m][\u001b[34mtimm.models.hub\u001b[0m][\u001b[32mINFO\u001b[0m] - Downloading: \"https://storage.googleapis.com/vit_models/augreg/B_16-i21k-300ep-lr_0.001-aug_medium1-wd_0.1-do_0.0-sd_0.0--imagenet2012-steps_20k-lr_0.01-res_224.npz\" to /root/.cache/torch/hub/checkpoints/B_16-i21k-300ep-lr_0.001-aug_medium1-wd_0.1-do_0.0-sd_0.0--imagenet2012-steps_20k-lr_0.01-res_224.npz\n",
            "\u001b[0m\n",
            "[\u001b[36m02-25 07:39:29\u001b[0m][\u001b[34m__main__\u001b[0m][\u001b[32mINFO\u001b[0m] - Size: 327.3 MB\u001b[0m\n",
            "[\u001b[36m02-25 07:39:33\u001b[0m][\u001b[34msrc.solver\u001b[0m][\u001b[32mINFO\u001b[0m] - ----------------------------------------------------------------------\u001b[0m\n",
            "[\u001b[36m02-25 07:39:33\u001b[0m][\u001b[34msrc.solver\u001b[0m][\u001b[32mINFO\u001b[0m] - Training...\u001b[0m\n",
            "[\u001b[36m02-25 08:01:14\u001b[0m][\u001b[34msrc.solver\u001b[0m][\u001b[32mINFO\u001b[0m] - Train | Epoch 1 | 156/782 | 0.1 it/sec | Loss 419.56402 | Accuracy 11.41827 | Ms 78.457\u001b[0m\n",
            "[\u001b[36m02-25 08:22:54\u001b[0m][\u001b[34msrc.solver\u001b[0m][\u001b[32mINFO\u001b[0m] - Train | Epoch 1 | 312/782 | 0.1 it/sec | Loss 399.62762 | Accuracy 13.43149 | Ms 72.017\u001b[0m\n",
            "[\u001b[36m02-25 08:44:35\u001b[0m][\u001b[34msrc.solver\u001b[0m][\u001b[32mINFO\u001b[0m] - Train | Epoch 1 | 468/782 | 0.1 it/sec | Loss 382.88110 | Accuracy 14.31958 | Ms 66.755\u001b[0m\n",
            "[\u001b[36m02-25 09:06:18\u001b[0m][\u001b[34msrc.solver\u001b[0m][\u001b[32mINFO\u001b[0m] - Train | Epoch 1 | 624/782 | 0.1 it/sec | Loss 368.88205 | Accuracy 14.78866 | Ms 62.668\u001b[0m\n",
            "[\u001b[36m02-25 09:28:01\u001b[0m][\u001b[34msrc.solver\u001b[0m][\u001b[32mINFO\u001b[0m] - Train | Epoch 1 | 780/782 | 0.1 it/sec | Loss 356.44957 | Accuracy 15.42668 | Ms 58.808\u001b[0m\n",
            "[\u001b[36m02-25 09:28:12\u001b[0m][\u001b[34msrc.solver\u001b[0m][\u001b[32mINFO\u001b[0m] - \u001b[1mTrain Summary | End of Epoch 1 | Time 6519.61s | train loss 356.29722 | train accuracy 15.43\u001b[0m\n",
            "[\u001b[36m02-25 09:28:12\u001b[0m][\u001b[34msrc.solver\u001b[0m][\u001b[32mINFO\u001b[0m] - ----------------------------------------------------------------------\u001b[0m\n",
            "[\u001b[36m02-25 09:28:12\u001b[0m][\u001b[34msrc.solver\u001b[0m][\u001b[32mINFO\u001b[0m] - Cross validation...\u001b[0m\n",
            "[\u001b[36m02-25 09:29:07\u001b[0m][\u001b[34msrc.solver\u001b[0m][\u001b[32mINFO\u001b[0m] - Valid | Epoch 1 | 31/157 | 0.6 it/sec | Loss 8.34777 | Accuracy 10.78629\u001b[0m\n",
            "[\u001b[36m02-25 09:30:01\u001b[0m][\u001b[34msrc.solver\u001b[0m][\u001b[32mINFO\u001b[0m] - Valid | Epoch 1 | 62/157 | 0.6 it/sec | Loss 8.39953 | Accuracy 9.95464\u001b[0m\n",
            "[\u001b[36m02-25 09:30:54\u001b[0m][\u001b[34msrc.solver\u001b[0m][\u001b[32mINFO\u001b[0m] - Valid | Epoch 1 | 93/157 | 0.6 it/sec | Loss 8.43709 | Accuracy 10.09745\u001b[0m\n",
            "[\u001b[36m02-25 09:31:48\u001b[0m][\u001b[34msrc.solver\u001b[0m][\u001b[32mINFO\u001b[0m] - Valid | Epoch 1 | 124/157 | 0.6 it/sec | Loss 8.46020 | Accuracy 9.87903\u001b[0m\n",
            "[\u001b[36m02-25 09:32:41\u001b[0m][\u001b[34msrc.solver\u001b[0m][\u001b[32mINFO\u001b[0m] - Valid | Epoch 1 | 155/157 | 0.6 it/sec | Loss 8.44965 | Accuracy 10.07056\u001b[0m\n",
            "[\u001b[36m02-25 09:32:43\u001b[0m][\u001b[34msrc.solver\u001b[0m][\u001b[32mINFO\u001b[0m] - \u001b[1mValid Summary | End of Epoch 1 | Time 6790.90s | valid Loss 8.44449 | valid accuracy 10.02\u001b[0m\n",
            "[\u001b[36m02-25 09:32:43\u001b[0m][\u001b[34msrc.solver\u001b[0m][\u001b[32mINFO\u001b[0m] - \u001b[1mTrue model size is 57.83 MB\u001b[0m\n",
            "[\u001b[36m02-25 09:32:52\u001b[0m][\u001b[34msrc.solver\u001b[0m][\u001b[32mINFO\u001b[0m] - Learning rate adjusted: 0.10000\u001b[0m\n",
            "[\u001b[36m02-25 09:32:52\u001b[0m][\u001b[34msrc.solver\u001b[0m][\u001b[32mINFO\u001b[0m] - ----------------------------------------------------------------------\u001b[0m\n",
            "[\u001b[36m02-25 09:32:52\u001b[0m][\u001b[34msrc.solver\u001b[0m][\u001b[32mINFO\u001b[0m] - \u001b[1mOverall Summary | Epoch 1 | Train 356.29722 | Train_acc 15.42800 | Valid 8.44449 | Valid_acc 10.02000 | Best inf | Best_size 0.00000 | Best_acc 0.00000 | Compressed_model_size 31.57859 | Model_size 57.83366\u001b[0m\n",
            "[\u001b[36m02-25 09:32:54\u001b[0m][\u001b[34msrc.solver\u001b[0m][\u001b[32mINFO\u001b[0m] - ----------------------------------------------------------------------\u001b[0m\n",
            "[\u001b[36m02-25 09:32:54\u001b[0m][\u001b[34msrc.solver\u001b[0m][\u001b[32mINFO\u001b[0m] - Training...\u001b[0m\n",
            "[\u001b[36m02-25 09:54:40\u001b[0m][\u001b[34msrc.solver\u001b[0m][\u001b[32mINFO\u001b[0m] - Train | Epoch 2 | 156/782 | 0.1 it/sec | Loss 287.46954 | Accuracy 19.90184 | Ms 55.016\u001b[0m\n",
            "[\u001b[36m02-25 10:16:25\u001b[0m][\u001b[34msrc.solver\u001b[0m][\u001b[32mINFO\u001b[0m] - Train | Epoch 2 | 312/782 | 0.1 it/sec | Loss 277.32061 | Accuracy 23.09195 | Ms 51.201\u001b[0m\n",
            "[\u001b[36m02-25 10:38:11\u001b[0m][\u001b[34msrc.solver\u001b[0m][\u001b[32mINFO\u001b[0m] - Train | Epoch 2 | 468/782 | 0.1 it/sec | Loss 268.04655 | Accuracy 24.78966 | Ms 47.975\u001b[0m\n",
            "[\u001b[36m02-25 10:59:56\u001b[0m][\u001b[34msrc.solver\u001b[0m][\u001b[32mINFO\u001b[0m] - Train | Epoch 2 | 624/782 | 0.1 it/sec | Loss 259.71449 | Accuracy 26.11428 | Ms 45.282\u001b[0m\n",
            "[\u001b[36m02-25 11:21:42\u001b[0m][\u001b[34msrc.solver\u001b[0m][\u001b[32mINFO\u001b[0m] - Train | Epoch 2 | 780/782 | 0.1 it/sec | Loss 252.30598 | Accuracy 26.39022 | Ms 43.056\u001b[0m\n",
            "[\u001b[36m02-25 11:21:52\u001b[0m][\u001b[34msrc.solver\u001b[0m][\u001b[32mINFO\u001b[0m] - \u001b[1mTrain Summary | End of Epoch 2 | Time 6538.10s | train loss 252.21607 | train accuracy 26.38\u001b[0m\n",
            "[\u001b[36m02-25 11:21:52\u001b[0m][\u001b[34msrc.solver\u001b[0m][\u001b[32mINFO\u001b[0m] - ----------------------------------------------------------------------\u001b[0m\n",
            "[\u001b[36m02-25 11:21:52\u001b[0m][\u001b[34msrc.solver\u001b[0m][\u001b[32mINFO\u001b[0m] - Cross validation...\u001b[0m\n",
            "[\u001b[36m02-25 11:22:47\u001b[0m][\u001b[34msrc.solver\u001b[0m][\u001b[32mINFO\u001b[0m] - Valid | Epoch 2 | 31/157 | 0.6 it/sec | Loss 2.04399 | Accuracy 24.44556\u001b[0m\n",
            "[\u001b[36m02-25 11:23:40\u001b[0m][\u001b[34msrc.solver\u001b[0m][\u001b[32mINFO\u001b[0m] - Valid | Epoch 2 | 62/157 | 0.6 it/sec | Loss 2.05319 | Accuracy 24.62198\u001b[0m\n",
            "[\u001b[36m02-25 11:24:33\u001b[0m][\u001b[34msrc.solver\u001b[0m][\u001b[32mINFO\u001b[0m] - Valid | Epoch 2 | 93/157 | 0.6 it/sec | Loss 2.04671 | Accuracy 24.89919\u001b[0m\n",
            "[\u001b[36m02-25 11:25:26\u001b[0m][\u001b[34msrc.solver\u001b[0m][\u001b[32mINFO\u001b[0m] - Valid | Epoch 2 | 124/157 | 0.6 it/sec | Loss 2.04965 | Accuracy 25.01260\u001b[0m\n",
            "[\u001b[36m02-25 11:26:18\u001b[0m][\u001b[34msrc.solver\u001b[0m][\u001b[32mINFO\u001b[0m] - Valid | Epoch 2 | 155/157 | 0.6 it/sec | Loss 2.05867 | Accuracy 24.89919\u001b[0m\n",
            "[\u001b[36m02-25 11:26:21\u001b[0m][\u001b[34msrc.solver\u001b[0m][\u001b[32mINFO\u001b[0m] - \u001b[1mValid Summary | End of Epoch 2 | Time 6806.24s | valid Loss 2.05739 | valid accuracy 24.98\u001b[0m\n",
            "[\u001b[36m02-25 11:26:21\u001b[0m][\u001b[34msrc.solver\u001b[0m][\u001b[32mINFO\u001b[0m] - \u001b[1mTrue model size is 43.04 MB\u001b[0m\n",
            "[\u001b[36m02-25 11:26:26\u001b[0m][\u001b[34msrc.solver\u001b[0m][\u001b[32mINFO\u001b[0m] - Learning rate adjusted: 0.10000\u001b[0m\n",
            "[\u001b[36m02-25 11:26:26\u001b[0m][\u001b[34msrc.solver\u001b[0m][\u001b[32mINFO\u001b[0m] - ----------------------------------------------------------------------\u001b[0m\n",
            "[\u001b[36m02-25 11:26:26\u001b[0m][\u001b[34msrc.solver\u001b[0m][\u001b[32mINFO\u001b[0m] - \u001b[1mOverall Summary | Epoch 2 | Train 252.21607 | Train_acc 26.37600 | Valid 2.05739 | Valid_acc 24.98000 | Best 8.44449 | Best_size 57.83366 | Best_acc 10.02000 | Compressed_model_size 14.22172 | Model_size 43.04142\u001b[0m\n",
            "[\u001b[36m02-25 11:26:28\u001b[0m][\u001b[34msrc.solver\u001b[0m][\u001b[32mINFO\u001b[0m] - ----------------------------------------------------------------------\u001b[0m\n",
            "[\u001b[36m02-25 11:26:28\u001b[0m][\u001b[34msrc.solver\u001b[0m][\u001b[32mINFO\u001b[0m] - Training...\u001b[0m\n",
            "[\u001b[36m02-25 11:48:16\u001b[0m][\u001b[34msrc.solver\u001b[0m][\u001b[32mINFO\u001b[0m] - Train | Epoch 3 | 156/782 | 0.1 it/sec | Loss 211.90091 | Accuracy 32.52204 | Ms 41.058\u001b[0m\n"
          ]
        }
      ],
      "source": [
        "!./train.py db.name=cifar10 model=vit_timm quant.penalty=5 quant.group_size=16"
      ]
    },
    {
      "cell_type": "code",
      "source": [
        "!./train.py db.name=cifar10 model=vit_timm continue_best=true \\\n",
        "\tquant.lsq=true quant.bits=4 lr=0.01\n"
      ],
      "metadata": {
        "colab": {
          "base_uri": "https://localhost:8080/"
        },
        "id": "lQVOGdhPumRJ",
        "outputId": "276843b0-c68a-40bb-bdc7-78f2815f23b7"
      },
      "execution_count": 23,
      "outputs": [
        {
          "output_type": "stream",
          "name": "stdout",
          "text": [
            "[\u001b[36m03-02 22:54:45\u001b[0m][\u001b[34m__main__\u001b[0m][\u001b[32mINFO\u001b[0m] - For logs, checkpoints and samples check /content/diffq/examples/cifar/outputs/exp_continue_best=true,db.name=cifar10,lr=0.01,model=vit_timm,quant.bits=4,quant.lsq=true\u001b[0m\n",
            "[\u001b[36m03-02 22:54:46\u001b[0m][\u001b[34mnumexpr.utils\u001b[0m][\u001b[32mINFO\u001b[0m] - NumExpr defaulting to 2 threads.\u001b[0m\n",
            "[\u001b[36m03-02 22:54:46\u001b[0m][\u001b[34m__main__\u001b[0m][\u001b[32mINFO\u001b[0m] - Running on host 922cfd8cc437\u001b[0m\n",
            "Files already downloaded and verified\n",
            "Files already downloaded and verified\n",
            "/usr/local/lib/python3.7/dist-packages/torch/utils/data/dataloader.py:481: UserWarning: This DataLoader will create 5 worker processes in total. Our suggested max number of worker in current system is 2, which is smaller than what this DataLoader is going to create. Please be aware that excessive worker creation might get DataLoader running slow or even freeze, lower the worker number to avoid potential slowness/freeze if necessary.\n",
            "  cpuset_checked))\n",
            "[\u001b[36m03-02 22:54:50\u001b[0m][\u001b[34m__main__\u001b[0m][\u001b[32mINFO\u001b[0m] - Size: 327.3 MB\u001b[0m\n",
            "[\u001b[36m03-02 22:54:54\u001b[0m][\u001b[34msrc.solver\u001b[0m][\u001b[32mINFO\u001b[0m] - ----------------------------------------------------------------------\u001b[0m\n",
            "[\u001b[36m03-02 22:54:54\u001b[0m][\u001b[34msrc.solver\u001b[0m][\u001b[32mINFO\u001b[0m] - Training...\u001b[0m\n",
            "[\u001b[36m03-02 22:57:12\u001b[0m][\u001b[34msrc.solver\u001b[0m][\u001b[32mINFO\u001b[0m] - Train | Epoch 1 | 156/782 | 1.1 it/sec | Loss 2.00842 | Accuracy 36.39824 | Ms 41.203\u001b[0m\n",
            "[\u001b[36m03-02 22:59:34\u001b[0m][\u001b[34msrc.solver\u001b[0m][\u001b[32mINFO\u001b[0m] - Train | Epoch 1 | 312/782 | 1.1 it/sec | Loss 1.47076 | Accuracy 51.29708 | Ms 41.203\u001b[0m\n",
            "[\u001b[36m03-02 23:01:59\u001b[0m][\u001b[34msrc.solver\u001b[0m][\u001b[32mINFO\u001b[0m] - Train | Epoch 1 | 468/782 | 1.1 it/sec | Loss 1.16691 | Accuracy 61.08774 | Ms 41.203\u001b[0m\n",
            "[\u001b[36m03-02 23:04:25\u001b[0m][\u001b[34msrc.solver\u001b[0m][\u001b[32mINFO\u001b[0m] - Train | Epoch 1 | 624/782 | 1.1 it/sec | Loss 0.98487 | Accuracy 67.07983 | Ms 41.203\u001b[0m\n",
            "[\u001b[36m03-02 23:06:50\u001b[0m][\u001b[34msrc.solver\u001b[0m][\u001b[32mINFO\u001b[0m] - Train | Epoch 1 | 780/782 | 1.1 it/sec | Loss 0.86582 | Accuracy 71.00962 | Ms 41.203\u001b[0m\n",
            "[\u001b[36m03-02 23:06:52\u001b[0m][\u001b[34msrc.solver\u001b[0m][\u001b[32mINFO\u001b[0m] - \u001b[1mTrain Summary | End of Epoch 1 | Time 717.74s | train loss 0.86386 | train accuracy 71.05\u001b[0m\n",
            "[\u001b[36m03-02 23:06:52\u001b[0m][\u001b[34msrc.solver\u001b[0m][\u001b[32mINFO\u001b[0m] - ----------------------------------------------------------------------\u001b[0m\n",
            "[\u001b[36m03-02 23:06:52\u001b[0m][\u001b[34msrc.solver\u001b[0m][\u001b[32mINFO\u001b[0m] - Cross validation...\u001b[0m\n",
            "[\u001b[36m03-02 23:07:25\u001b[0m][\u001b[34msrc.solver\u001b[0m][\u001b[32mINFO\u001b[0m] - Valid | Epoch 1 | 31/157 | 1.0 it/sec | Loss 0.46313 | Accuracy 85.58468\u001b[0m\n",
            "[\u001b[36m03-02 23:07:56\u001b[0m][\u001b[34msrc.solver\u001b[0m][\u001b[32mINFO\u001b[0m] - Valid | Epoch 1 | 62/157 | 1.0 it/sec | Loss 0.46588 | Accuracy 85.98790\u001b[0m\n",
            "[\u001b[36m03-02 23:08:28\u001b[0m][\u001b[34msrc.solver\u001b[0m][\u001b[32mINFO\u001b[0m] - Valid | Epoch 1 | 93/157 | 1.0 it/sec | Loss 0.47591 | Accuracy 85.85349\u001b[0m\n",
            "[\u001b[36m03-02 23:09:00\u001b[0m][\u001b[34msrc.solver\u001b[0m][\u001b[32mINFO\u001b[0m] - Valid | Epoch 1 | 124/157 | 1.0 it/sec | Loss 0.47231 | Accuracy 85.87450\u001b[0m\n",
            "[\u001b[36m03-02 23:09:31\u001b[0m][\u001b[34msrc.solver\u001b[0m][\u001b[32mINFO\u001b[0m] - Valid | Epoch 1 | 155/157 | 1.0 it/sec | Loss 0.46665 | Accuracy 85.86694\u001b[0m\n",
            "[\u001b[36m03-02 23:09:33\u001b[0m][\u001b[34msrc.solver\u001b[0m][\u001b[32mINFO\u001b[0m] - \u001b[1mValid Summary | End of Epoch 1 | Time 878.75s | valid Loss 0.46761 | valid accuracy 85.83\u001b[0m\n",
            "[\u001b[36m03-02 23:09:33\u001b[0m][\u001b[34msrc.solver\u001b[0m][\u001b[32mINFO\u001b[0m] - \u001b[1mTrue model size is 41.20 MB\u001b[0m\n",
            "[\u001b[36m03-02 23:09:45\u001b[0m][\u001b[34msrc.solver\u001b[0m][\u001b[32mINFO\u001b[0m] - Learning rate adjusted: 0.01000\u001b[0m\n",
            "[\u001b[36m03-02 23:09:45\u001b[0m][\u001b[34msrc.solver\u001b[0m][\u001b[32mINFO\u001b[0m] - ----------------------------------------------------------------------\u001b[0m\n",
            "[\u001b[36m03-02 23:09:45\u001b[0m][\u001b[34msrc.solver\u001b[0m][\u001b[32mINFO\u001b[0m] - \u001b[1mOverall Summary | Epoch 1 | Train 0.86386 | Train_acc 71.04800 | Valid 0.46761 | Valid_acc 85.83000 | Best inf | Best_size 0.00000 | Best_acc 0.00000 | Compressed_model_size 41.55103 | Model_size 41.20304\u001b[0m\n",
            "[\u001b[36m03-02 23:09:47\u001b[0m][\u001b[34msrc.solver\u001b[0m][\u001b[32mINFO\u001b[0m] - ----------------------------------------------------------------------\u001b[0m\n",
            "[\u001b[36m03-02 23:09:47\u001b[0m][\u001b[34msrc.solver\u001b[0m][\u001b[32mINFO\u001b[0m] - Training...\u001b[0m\n",
            "[\u001b[36m03-02 23:12:14\u001b[0m][\u001b[34msrc.solver\u001b[0m][\u001b[32mINFO\u001b[0m] - Train | Epoch 2 | 156/782 | 1.1 it/sec | Loss 0.32578 | Accuracy 89.07252 | Ms 41.203\u001b[0m\n",
            "[\u001b[36m03-02 23:14:39\u001b[0m][\u001b[34msrc.solver\u001b[0m][\u001b[32mINFO\u001b[0m] - Train | Epoch 2 | 312/782 | 1.1 it/sec | Loss 0.31569 | Accuracy 89.33794 | Ms 41.203\u001b[0m\n",
            "[\u001b[36m03-02 23:17:05\u001b[0m][\u001b[34msrc.solver\u001b[0m][\u001b[32mINFO\u001b[0m] - Train | Epoch 2 | 468/782 | 1.1 it/sec | Loss 0.30907 | Accuracy 89.52324 | Ms 41.203\u001b[0m\n",
            "[\u001b[36m03-02 23:19:31\u001b[0m][\u001b[34msrc.solver\u001b[0m][\u001b[32mINFO\u001b[0m] - Train | Epoch 2 | 624/782 | 1.1 it/sec | Loss 0.30423 | Accuracy 89.68099 | Ms 41.203\u001b[0m\n",
            "[\u001b[36m03-02 23:21:56\u001b[0m][\u001b[34msrc.solver\u001b[0m][\u001b[32mINFO\u001b[0m] - Train | Epoch 2 | 780/782 | 1.1 it/sec | Loss 0.29860 | Accuracy 89.89784 | Ms 41.203\u001b[0m\n",
            "[\u001b[36m03-02 23:21:58\u001b[0m][\u001b[34msrc.solver\u001b[0m][\u001b[32mINFO\u001b[0m] - \u001b[1mTrain Summary | End of Epoch 2 | Time 731.07s | train loss 0.29860 | train accuracy 89.89\u001b[0m\n",
            "[\u001b[36m03-02 23:21:58\u001b[0m][\u001b[34msrc.solver\u001b[0m][\u001b[32mINFO\u001b[0m] - ----------------------------------------------------------------------\u001b[0m\n",
            "[\u001b[36m03-02 23:21:58\u001b[0m][\u001b[34msrc.solver\u001b[0m][\u001b[32mINFO\u001b[0m] - Cross validation...\u001b[0m\n",
            "[\u001b[36m03-02 23:22:31\u001b[0m][\u001b[34msrc.solver\u001b[0m][\u001b[32mINFO\u001b[0m] - Valid | Epoch 2 | 31/157 | 1.0 it/sec | Loss 0.26779 | Accuracy 90.82661\u001b[0m\n",
            "[\u001b[36m03-02 23:23:03\u001b[0m][\u001b[34msrc.solver\u001b[0m][\u001b[32mINFO\u001b[0m] - Valid | Epoch 2 | 62/157 | 1.0 it/sec | Loss 0.27185 | Accuracy 90.92742\u001b[0m\n",
            "[\u001b[36m03-02 23:23:34\u001b[0m][\u001b[34msrc.solver\u001b[0m][\u001b[32mINFO\u001b[0m] - Valid | Epoch 2 | 93/157 | 1.0 it/sec | Loss 0.27465 | Accuracy 90.79301\u001b[0m\n",
            "[\u001b[36m03-02 23:24:06\u001b[0m][\u001b[34msrc.solver\u001b[0m][\u001b[32mINFO\u001b[0m] - Valid | Epoch 2 | 124/157 | 1.0 it/sec | Loss 0.26689 | Accuracy 90.97782\u001b[0m\n",
            "[\u001b[36m03-02 23:24:38\u001b[0m][\u001b[34msrc.solver\u001b[0m][\u001b[32mINFO\u001b[0m] - Valid | Epoch 2 | 155/157 | 1.0 it/sec | Loss 0.26348 | Accuracy 91.08871\u001b[0m\n",
            "[\u001b[36m03-02 23:24:39\u001b[0m][\u001b[34msrc.solver\u001b[0m][\u001b[32mINFO\u001b[0m] - \u001b[1mValid Summary | End of Epoch 2 | Time 892.74s | valid Loss 0.26264 | valid accuracy 91.09\u001b[0m\n",
            "[\u001b[36m03-02 23:24:39\u001b[0m][\u001b[34msrc.solver\u001b[0m][\u001b[32mINFO\u001b[0m] - \u001b[1mTrue model size is 41.20 MB\u001b[0m\n",
            "[\u001b[36m03-02 23:24:51\u001b[0m][\u001b[34msrc.solver\u001b[0m][\u001b[32mINFO\u001b[0m] - Learning rate adjusted: 0.01000\u001b[0m\n",
            "[\u001b[36m03-02 23:24:51\u001b[0m][\u001b[34msrc.solver\u001b[0m][\u001b[32mINFO\u001b[0m] - ----------------------------------------------------------------------\u001b[0m\n",
            "[\u001b[36m03-02 23:24:51\u001b[0m][\u001b[34msrc.solver\u001b[0m][\u001b[32mINFO\u001b[0m] - \u001b[1mOverall Summary | Epoch 2 | Train 0.29860 | Train_acc 89.89400 | Valid 0.26264 | Valid_acc 91.09000 | Best 0.46761 | Best_size 41.20304 | Best_acc 85.83000 | Compressed_model_size 41.40797 | Model_size 41.20304\u001b[0m\n",
            "[\u001b[36m03-02 23:24:54\u001b[0m][\u001b[34msrc.solver\u001b[0m][\u001b[32mINFO\u001b[0m] - ----------------------------------------------------------------------\u001b[0m\n",
            "[\u001b[36m03-02 23:24:54\u001b[0m][\u001b[34msrc.solver\u001b[0m][\u001b[32mINFO\u001b[0m] - Training...\u001b[0m\n",
            "[\u001b[36m03-02 23:27:20\u001b[0m][\u001b[34msrc.solver\u001b[0m][\u001b[32mINFO\u001b[0m] - Train | Epoch 3 | 156/782 | 1.1 it/sec | Loss 0.24312 | Accuracy 91.86699 | Ms 41.203\u001b[0m\n",
            "[\u001b[36m03-02 23:29:46\u001b[0m][\u001b[34msrc.solver\u001b[0m][\u001b[32mINFO\u001b[0m] - Train | Epoch 3 | 312/782 | 1.1 it/sec | Loss 0.23970 | Accuracy 91.84195 | Ms 41.203\u001b[0m\n",
            "[\u001b[36m03-02 23:32:12\u001b[0m][\u001b[34msrc.solver\u001b[0m][\u001b[32mINFO\u001b[0m] - Train | Epoch 3 | 468/782 | 1.1 it/sec | Loss 0.24512 | Accuracy 91.61659 | Ms 41.203\u001b[0m\n",
            "[\u001b[36m03-02 23:34:37\u001b[0m][\u001b[34msrc.solver\u001b[0m][\u001b[32mINFO\u001b[0m] - Train | Epoch 3 | 624/782 | 1.1 it/sec | Loss 0.24062 | Accuracy 91.77183 | Ms 41.203\u001b[0m\n",
            "[\u001b[36m03-02 23:37:03\u001b[0m][\u001b[34msrc.solver\u001b[0m][\u001b[32mINFO\u001b[0m] - Train | Epoch 3 | 780/782 | 1.1 it/sec | Loss 0.23731 | Accuracy 91.90905 | Ms 41.203\u001b[0m\n",
            "[\u001b[36m03-02 23:37:04\u001b[0m][\u001b[34msrc.solver\u001b[0m][\u001b[32mINFO\u001b[0m] - \u001b[1mTrain Summary | End of Epoch 3 | Time 730.82s | train loss 0.23735 | train accuracy 91.90\u001b[0m\n",
            "[\u001b[36m03-02 23:37:04\u001b[0m][\u001b[34msrc.solver\u001b[0m][\u001b[32mINFO\u001b[0m] - ----------------------------------------------------------------------\u001b[0m\n",
            "[\u001b[36m03-02 23:37:04\u001b[0m][\u001b[34msrc.solver\u001b[0m][\u001b[32mINFO\u001b[0m] - Cross validation...\u001b[0m\n",
            "[\u001b[36m03-02 23:37:38\u001b[0m][\u001b[34msrc.solver\u001b[0m][\u001b[32mINFO\u001b[0m] - Valid | Epoch 3 | 31/157 | 1.0 it/sec | Loss 0.18744 | Accuracy 93.49798\u001b[0m\n",
            "[\u001b[36m03-02 23:38:10\u001b[0m][\u001b[34msrc.solver\u001b[0m][\u001b[32mINFO\u001b[0m] - Valid | Epoch 3 | 62/157 | 1.0 it/sec | Loss 0.19409 | Accuracy 93.39718\u001b[0m\n",
            "[\u001b[36m03-02 23:38:42\u001b[0m][\u001b[34msrc.solver\u001b[0m][\u001b[32mINFO\u001b[0m] - Valid | Epoch 3 | 93/157 | 1.0 it/sec | Loss 0.20163 | Accuracy 93.16196\u001b[0m\n",
            "[\u001b[36m03-02 23:39:13\u001b[0m][\u001b[34msrc.solver\u001b[0m][\u001b[32mINFO\u001b[0m] - Valid | Epoch 3 | 124/157 | 1.0 it/sec | Loss 0.20284 | Accuracy 93.03175\u001b[0m\n",
            "[\u001b[36m03-02 23:39:45\u001b[0m][\u001b[34msrc.solver\u001b[0m][\u001b[32mINFO\u001b[0m] - Valid | Epoch 3 | 155/157 | 1.0 it/sec | Loss 0.19592 | Accuracy 93.33669\u001b[0m\n",
            "[\u001b[36m03-02 23:39:46\u001b[0m][\u001b[34msrc.solver\u001b[0m][\u001b[32mINFO\u001b[0m] - \u001b[1mValid Summary | End of Epoch 3 | Time 892.96s | valid Loss 0.19482 | valid accuracy 93.37\u001b[0m\n",
            "[\u001b[36m03-02 23:39:46\u001b[0m][\u001b[34msrc.solver\u001b[0m][\u001b[32mINFO\u001b[0m] - \u001b[1mTrue model size is 41.20 MB\u001b[0m\n",
            "[\u001b[36m03-02 23:39:58\u001b[0m][\u001b[34msrc.solver\u001b[0m][\u001b[32mINFO\u001b[0m] - Learning rate adjusted: 0.01000\u001b[0m\n",
            "[\u001b[36m03-02 23:39:58\u001b[0m][\u001b[34msrc.solver\u001b[0m][\u001b[32mINFO\u001b[0m] - ----------------------------------------------------------------------\u001b[0m\n",
            "[\u001b[36m03-02 23:39:58\u001b[0m][\u001b[34msrc.solver\u001b[0m][\u001b[32mINFO\u001b[0m] - \u001b[1mOverall Summary | Epoch 3 | Train 0.23735 | Train_acc 91.90200 | Valid 0.19482 | Valid_acc 93.37000 | Best 0.26264 | Best_size 41.20304 | Best_acc 91.09000 | Compressed_model_size 41.27485 | Model_size 41.20304\u001b[0m\n"
          ]
        }
      ]
    },
    {
      "cell_type": "code",
      "source": [
        "!./train.py db.name=cifar10 model=vit_timm continue_best=true \\\n",
        "\tquant.lsq=true quant.bits=4 lr=0.01"
      ],
      "metadata": {
        "colab": {
          "base_uri": "https://localhost:8080/"
        },
        "id": "WsI_MyZW6XPn",
        "outputId": "7eaaa948-0936-4500-fdc0-3e60990e805a"
      },
      "execution_count": 24,
      "outputs": [
        {
          "output_type": "stream",
          "name": "stdout",
          "text": [
            "[\u001b[36m03-02 23:43:22\u001b[0m][\u001b[34m__main__\u001b[0m][\u001b[32mINFO\u001b[0m] - For logs, checkpoints and samples check /content/diffq/examples/cifar/outputs/exp_continue_best=true,db.name=cifar10,lr=0.01,model=vit_timm,quant.bits=4,quant.lsq=true\u001b[0m\n",
            "[\u001b[36m03-02 23:43:24\u001b[0m][\u001b[34mnumexpr.utils\u001b[0m][\u001b[32mINFO\u001b[0m] - NumExpr defaulting to 2 threads.\u001b[0m\n",
            "[\u001b[36m03-02 23:43:24\u001b[0m][\u001b[34m__main__\u001b[0m][\u001b[32mINFO\u001b[0m] - Running on host 922cfd8cc437\u001b[0m\n",
            "Files already downloaded and verified\n",
            "Files already downloaded and verified\n",
            "/usr/local/lib/python3.7/dist-packages/torch/utils/data/dataloader.py:481: UserWarning: This DataLoader will create 5 worker processes in total. Our suggested max number of worker in current system is 2, which is smaller than what this DataLoader is going to create. Please be aware that excessive worker creation might get DataLoader running slow or even freeze, lower the worker number to avoid potential slowness/freeze if necessary.\n",
            "  cpuset_checked))\n",
            "[\u001b[36m03-02 23:43:28\u001b[0m][\u001b[34m__main__\u001b[0m][\u001b[32mINFO\u001b[0m] - Size: 327.3 MB\u001b[0m\n",
            "[\u001b[36m03-02 23:43:32\u001b[0m][\u001b[34msrc.solver\u001b[0m][\u001b[32mINFO\u001b[0m] - Loading checkpoint model: checkpoint.th\u001b[0m\n",
            "[\u001b[36m03-02 23:43:33\u001b[0m][\u001b[34msrc.solver\u001b[0m][\u001b[32mINFO\u001b[0m] - Replaying metrics from previous run\u001b[0m\n",
            "[\u001b[36m03-02 23:43:33\u001b[0m][\u001b[34msrc.solver\u001b[0m][\u001b[32mINFO\u001b[0m] - Epoch 0: train=0.86386 train_acc=71.04800 valid=0.46761 valid_acc=85.83000 best=inf best_size=0.00000 best_acc=0.00000 compressed_model_size=41.55103 model_size=41.20304\u001b[0m\n",
            "[\u001b[36m03-02 23:43:33\u001b[0m][\u001b[34msrc.solver\u001b[0m][\u001b[32mINFO\u001b[0m] - Epoch 1: train=0.29860 train_acc=89.89400 valid=0.26264 valid_acc=91.09000 best=0.46761 best_size=41.20304 best_acc=85.83000 compressed_model_size=41.40797 model_size=41.20304\u001b[0m\n",
            "[\u001b[36m03-02 23:43:33\u001b[0m][\u001b[34msrc.solver\u001b[0m][\u001b[32mINFO\u001b[0m] - Epoch 2: train=0.23735 train_acc=91.90200 valid=0.19482 valid_acc=93.37000 best=0.26264 best_size=41.20304 best_acc=91.09000 compressed_model_size=41.27485 model_size=41.20304\u001b[0m\n",
            "[\u001b[36m03-02 23:43:33\u001b[0m][\u001b[34msrc.solver\u001b[0m][\u001b[32mINFO\u001b[0m] - ----------------------------------------------------------------------\u001b[0m\n",
            "[\u001b[36m03-02 23:43:33\u001b[0m][\u001b[34msrc.solver\u001b[0m][\u001b[32mINFO\u001b[0m] - Training...\u001b[0m\n",
            "[\u001b[36m03-02 23:45:51\u001b[0m][\u001b[34msrc.solver\u001b[0m][\u001b[32mINFO\u001b[0m] - Train | Epoch 4 | 156/782 | 1.1 it/sec | Loss 0.19975 | Accuracy 92.96875 | Ms 41.203\u001b[0m\n",
            "[\u001b[36m03-02 23:48:17\u001b[0m][\u001b[34msrc.solver\u001b[0m][\u001b[32mINFO\u001b[0m] - Train | Epoch 4 | 312/782 | 1.1 it/sec | Loss 0.19533 | Accuracy 93.31931 | Ms 41.203\u001b[0m\n",
            "[\u001b[36m03-02 23:50:42\u001b[0m][\u001b[34msrc.solver\u001b[0m][\u001b[32mINFO\u001b[0m] - Train | Epoch 4 | 468/782 | 1.1 it/sec | Loss 0.19528 | Accuracy 93.31597 | Ms 41.203\u001b[0m\n",
            "[\u001b[36m03-02 23:53:08\u001b[0m][\u001b[34msrc.solver\u001b[0m][\u001b[32mINFO\u001b[0m] - Train | Epoch 4 | 624/782 | 1.1 it/sec | Loss 0.19380 | Accuracy 93.45202 | Ms 41.203\u001b[0m\n",
            "[\u001b[36m03-02 23:55:34\u001b[0m][\u001b[34msrc.solver\u001b[0m][\u001b[32mINFO\u001b[0m] - Train | Epoch 4 | 780/782 | 1.1 it/sec | Loss 0.19331 | Accuracy 93.41947 | Ms 41.203\u001b[0m\n",
            "[\u001b[36m03-02 23:55:35\u001b[0m][\u001b[34msrc.solver\u001b[0m][\u001b[32mINFO\u001b[0m] - \u001b[1mTrain Summary | End of Epoch 4 | Time 722.67s | train loss 0.19294 | train accuracy 93.43\u001b[0m\n",
            "[\u001b[36m03-02 23:55:35\u001b[0m][\u001b[34msrc.solver\u001b[0m][\u001b[32mINFO\u001b[0m] - ----------------------------------------------------------------------\u001b[0m\n",
            "[\u001b[36m03-02 23:55:35\u001b[0m][\u001b[34msrc.solver\u001b[0m][\u001b[32mINFO\u001b[0m] - Cross validation...\u001b[0m\n",
            "[\u001b[36m03-02 23:56:08\u001b[0m][\u001b[34msrc.solver\u001b[0m][\u001b[32mINFO\u001b[0m] - Valid | Epoch 4 | 31/157 | 1.0 it/sec | Loss 0.22735 | Accuracy 92.08669\u001b[0m\n",
            "[\u001b[36m03-02 23:56:39\u001b[0m][\u001b[34msrc.solver\u001b[0m][\u001b[32mINFO\u001b[0m] - Valid | Epoch 4 | 62/157 | 1.0 it/sec | Loss 0.23130 | Accuracy 92.26310\u001b[0m\n",
            "[\u001b[36m03-02 23:57:10\u001b[0m][\u001b[34msrc.solver\u001b[0m][\u001b[32mINFO\u001b[0m] - Valid | Epoch 4 | 93/157 | 1.0 it/sec | Loss 0.23937 | Accuracy 92.13710\u001b[0m\n",
            "[\u001b[36m03-02 23:57:42\u001b[0m][\u001b[34msrc.solver\u001b[0m][\u001b[32mINFO\u001b[0m] - Valid | Epoch 4 | 124/157 | 1.0 it/sec | Loss 0.24427 | Accuracy 91.94808\u001b[0m\n",
            "[\u001b[36m03-02 23:58:13\u001b[0m][\u001b[34msrc.solver\u001b[0m][\u001b[32mINFO\u001b[0m] - Valid | Epoch 4 | 155/157 | 1.0 it/sec | Loss 0.24123 | Accuracy 91.89516\u001b[0m\n",
            "[\u001b[36m03-02 23:58:15\u001b[0m][\u001b[34msrc.solver\u001b[0m][\u001b[32mINFO\u001b[0m] - \u001b[1mValid Summary | End of Epoch 4 | Time 882.03s | valid Loss 0.24143 | valid accuracy 91.87\u001b[0m\n",
            "[\u001b[36m03-02 23:58:15\u001b[0m][\u001b[34msrc.solver\u001b[0m][\u001b[32mINFO\u001b[0m] - \u001b[1mTrue model size is 41.20 MB\u001b[0m\n",
            "[\u001b[36m03-02 23:58:26\u001b[0m][\u001b[34msrc.solver\u001b[0m][\u001b[32mINFO\u001b[0m] - Learning rate adjusted: 0.01000\u001b[0m\n",
            "[\u001b[36m03-02 23:58:26\u001b[0m][\u001b[34msrc.solver\u001b[0m][\u001b[32mINFO\u001b[0m] - ----------------------------------------------------------------------\u001b[0m\n",
            "[\u001b[36m03-02 23:58:26\u001b[0m][\u001b[34msrc.solver\u001b[0m][\u001b[32mINFO\u001b[0m] - \u001b[1mOverall Summary | Epoch 4 | Train 0.19294 | Train_acc 93.42800 | Valid 0.24143 | Valid_acc 91.87000 | Best 0.19482 | Best_size 41.20304 | Best_acc 93.37000 | Compressed_model_size 41.12365 | Model_size 41.20304\u001b[0m\n",
            "[\u001b[36m03-02 23:58:29\u001b[0m][\u001b[34msrc.solver\u001b[0m][\u001b[32mINFO\u001b[0m] - ----------------------------------------------------------------------\u001b[0m\n",
            "[\u001b[36m03-02 23:58:29\u001b[0m][\u001b[34msrc.solver\u001b[0m][\u001b[32mINFO\u001b[0m] - Training...\u001b[0m\n",
            "[\u001b[36m03-03 00:00:55\u001b[0m][\u001b[34msrc.solver\u001b[0m][\u001b[32mINFO\u001b[0m] - Train | Epoch 5 | 156/782 | 1.1 it/sec | Loss 0.16096 | Accuracy 94.41106 | Ms 41.203\u001b[0m\n",
            "[\u001b[36m03-03 00:03:21\u001b[0m][\u001b[34msrc.solver\u001b[0m][\u001b[32mINFO\u001b[0m] - Train | Epoch 5 | 312/782 | 1.1 it/sec | Loss 0.15917 | Accuracy 94.55128 | Ms 41.203\u001b[0m\n",
            "[\u001b[36m03-03 00:05:47\u001b[0m][\u001b[34msrc.solver\u001b[0m][\u001b[32mINFO\u001b[0m] - Train | Epoch 5 | 468/782 | 1.1 it/sec | Loss 0.16462 | Accuracy 94.34762 | Ms 41.203\u001b[0m\n",
            "[\u001b[36m03-03 00:08:13\u001b[0m][\u001b[34msrc.solver\u001b[0m][\u001b[32mINFO\u001b[0m] - Train | Epoch 5 | 624/782 | 1.1 it/sec | Loss 0.16428 | Accuracy 94.33343 | Ms 41.203\u001b[0m\n",
            "[\u001b[36m03-03 00:10:38\u001b[0m][\u001b[34msrc.solver\u001b[0m][\u001b[32mINFO\u001b[0m] - Train | Epoch 5 | 780/782 | 1.1 it/sec | Loss 0.16148 | Accuracy 94.42708 | Ms 41.203\u001b[0m\n",
            "[\u001b[36m03-03 00:10:40\u001b[0m][\u001b[34msrc.solver\u001b[0m][\u001b[32mINFO\u001b[0m] - \u001b[1mTrain Summary | End of Epoch 5 | Time 731.03s | train loss 0.16162 | train accuracy 94.42\u001b[0m\n",
            "[\u001b[36m03-03 00:10:40\u001b[0m][\u001b[34msrc.solver\u001b[0m][\u001b[32mINFO\u001b[0m] - ----------------------------------------------------------------------\u001b[0m\n",
            "[\u001b[36m03-03 00:10:40\u001b[0m][\u001b[34msrc.solver\u001b[0m][\u001b[32mINFO\u001b[0m] - Cross validation...\u001b[0m\n",
            "[\u001b[36m03-03 00:11:12\u001b[0m][\u001b[34msrc.solver\u001b[0m][\u001b[32mINFO\u001b[0m] - Valid | Epoch 5 | 31/157 | 1.0 it/sec | Loss 0.28307 | Accuracy 91.07863\u001b[0m\n",
            "[\u001b[36m03-03 00:11:44\u001b[0m][\u001b[34msrc.solver\u001b[0m][\u001b[32mINFO\u001b[0m] - Valid | Epoch 5 | 62/157 | 1.0 it/sec | Loss 0.28469 | Accuracy 91.00302\u001b[0m\n",
            "[\u001b[36m03-03 00:12:15\u001b[0m][\u001b[34msrc.solver\u001b[0m][\u001b[32mINFO\u001b[0m] - Valid | Epoch 5 | 93/157 | 1.0 it/sec | Loss 0.29411 | Accuracy 90.67540\u001b[0m\n",
            "[\u001b[36m03-03 00:12:46\u001b[0m][\u001b[34msrc.solver\u001b[0m][\u001b[32mINFO\u001b[0m] - Valid | Epoch 5 | 124/157 | 1.0 it/sec | Loss 0.28850 | Accuracy 90.78881\u001b[0m\n",
            "[\u001b[36m03-03 00:13:17\u001b[0m][\u001b[34msrc.solver\u001b[0m][\u001b[32mINFO\u001b[0m] - Valid | Epoch 5 | 155/157 | 1.0 it/sec | Loss 0.28312 | Accuracy 90.89718\u001b[0m\n",
            "[\u001b[36m03-03 00:13:19\u001b[0m][\u001b[34msrc.solver\u001b[0m][\u001b[32mINFO\u001b[0m] - \u001b[1mValid Summary | End of Epoch 5 | Time 890.06s | valid Loss 0.28381 | valid accuracy 90.86\u001b[0m\n",
            "[\u001b[36m03-03 00:13:19\u001b[0m][\u001b[34msrc.solver\u001b[0m][\u001b[32mINFO\u001b[0m] - \u001b[1mTrue model size is 41.20 MB\u001b[0m\n",
            "[\u001b[36m03-03 00:13:31\u001b[0m][\u001b[34msrc.solver\u001b[0m][\u001b[32mINFO\u001b[0m] - Learning rate adjusted: 0.01000\u001b[0m\n",
            "[\u001b[36m03-03 00:13:31\u001b[0m][\u001b[34msrc.solver\u001b[0m][\u001b[32mINFO\u001b[0m] - ----------------------------------------------------------------------\u001b[0m\n",
            "[\u001b[36m03-03 00:13:31\u001b[0m][\u001b[34msrc.solver\u001b[0m][\u001b[32mINFO\u001b[0m] - \u001b[1mOverall Summary | Epoch 5 | Train 0.16162 | Train_acc 94.41800 | Valid 0.28381 | Valid_acc 90.86000 | Best 0.19482 | Best_size 41.20304 | Best_acc 93.37000 | Compressed_model_size 40.99379 | Model_size 41.20304\u001b[0m\n",
            "[\u001b[36m03-03 00:13:33\u001b[0m][\u001b[34msrc.solver\u001b[0m][\u001b[32mINFO\u001b[0m] - ----------------------------------------------------------------------\u001b[0m\n",
            "[\u001b[36m03-03 00:13:33\u001b[0m][\u001b[34msrc.solver\u001b[0m][\u001b[32mINFO\u001b[0m] - Training...\u001b[0m\n",
            "[\u001b[36m03-03 00:15:59\u001b[0m][\u001b[34msrc.solver\u001b[0m][\u001b[32mINFO\u001b[0m] - Train | Epoch 6 | 156/782 | 1.1 it/sec | Loss 0.14457 | Accuracy 94.97196 | Ms 41.203\u001b[0m\n",
            "[\u001b[36m03-03 00:18:25\u001b[0m][\u001b[34msrc.solver\u001b[0m][\u001b[32mINFO\u001b[0m] - Train | Epoch 6 | 312/782 | 1.1 it/sec | Loss 0.14348 | Accuracy 95.11218 | Ms 41.203\u001b[0m\n",
            "[\u001b[36m03-03 00:20:50\u001b[0m][\u001b[34msrc.solver\u001b[0m][\u001b[32mINFO\u001b[0m] - Train | Epoch 6 | 468/782 | 1.1 it/sec | Loss 0.14755 | Accuracy 95.01536 | Ms 41.203\u001b[0m\n",
            "[\u001b[36m03-03 00:23:16\u001b[0m][\u001b[34msrc.solver\u001b[0m][\u001b[32mINFO\u001b[0m] - Train | Epoch 6 | 624/782 | 1.1 it/sec | Loss 0.17967 | Accuracy 93.90525 | Ms 41.203\u001b[0m\n",
            "[\u001b[36m03-03 00:25:42\u001b[0m][\u001b[34msrc.solver\u001b[0m][\u001b[32mINFO\u001b[0m] - Train | Epoch 6 | 780/782 | 1.1 it/sec | Loss 0.17303 | Accuracy 94.10256 | Ms 41.203\u001b[0m\n",
            "[\u001b[36m03-03 00:25:43\u001b[0m][\u001b[34msrc.solver\u001b[0m][\u001b[32mINFO\u001b[0m] - \u001b[1mTrain Summary | End of Epoch 6 | Time 730.34s | train loss 0.17321 | train accuracy 94.09\u001b[0m\n",
            "[\u001b[36m03-03 00:25:43\u001b[0m][\u001b[34msrc.solver\u001b[0m][\u001b[32mINFO\u001b[0m] - ----------------------------------------------------------------------\u001b[0m\n",
            "[\u001b[36m03-03 00:25:43\u001b[0m][\u001b[34msrc.solver\u001b[0m][\u001b[32mINFO\u001b[0m] - Cross validation...\u001b[0m\n",
            "[\u001b[36m03-03 00:26:16\u001b[0m][\u001b[34msrc.solver\u001b[0m][\u001b[32mINFO\u001b[0m] - Valid | Epoch 6 | 31/157 | 1.0 it/sec | Loss 0.24886 | Accuracy 92.38911\u001b[0m\n",
            "[\u001b[36m03-03 00:26:47\u001b[0m][\u001b[34msrc.solver\u001b[0m][\u001b[32mINFO\u001b[0m] - Valid | Epoch 6 | 62/157 | 1.0 it/sec | Loss 0.24252 | Accuracy 92.28831\u001b[0m\n",
            "[\u001b[36m03-03 00:27:18\u001b[0m][\u001b[34msrc.solver\u001b[0m][\u001b[32mINFO\u001b[0m] - Valid | Epoch 6 | 93/157 | 1.0 it/sec | Loss 0.25091 | Accuracy 92.18750\u001b[0m\n",
            "[\u001b[36m03-03 00:27:50\u001b[0m][\u001b[34msrc.solver\u001b[0m][\u001b[32mINFO\u001b[0m] - Valid | Epoch 6 | 124/157 | 1.0 it/sec | Loss 0.24879 | Accuracy 92.02369\u001b[0m\n",
            "[\u001b[36m03-03 00:28:21\u001b[0m][\u001b[34msrc.solver\u001b[0m][\u001b[32mINFO\u001b[0m] - Valid | Epoch 6 | 155/157 | 1.0 it/sec | Loss 0.24087 | Accuracy 92.24798\u001b[0m\n",
            "[\u001b[36m03-03 00:28:22\u001b[0m][\u001b[34msrc.solver\u001b[0m][\u001b[32mINFO\u001b[0m] - \u001b[1mValid Summary | End of Epoch 6 | Time 889.64s | valid Loss 0.24366 | valid accuracy 92.27\u001b[0m\n",
            "[\u001b[36m03-03 00:28:22\u001b[0m][\u001b[34msrc.solver\u001b[0m][\u001b[32mINFO\u001b[0m] - \u001b[1mTrue model size is 41.20 MB\u001b[0m\n",
            "[\u001b[36m03-03 00:28:34\u001b[0m][\u001b[34msrc.solver\u001b[0m][\u001b[32mINFO\u001b[0m] - Learning rate adjusted: 0.01000\u001b[0m\n",
            "[\u001b[36m03-03 00:28:34\u001b[0m][\u001b[34msrc.solver\u001b[0m][\u001b[32mINFO\u001b[0m] - ----------------------------------------------------------------------\u001b[0m\n",
            "[\u001b[36m03-03 00:28:34\u001b[0m][\u001b[34msrc.solver\u001b[0m][\u001b[32mINFO\u001b[0m] - \u001b[1mOverall Summary | Epoch 6 | Train 0.17321 | Train_acc 94.09400 | Valid 0.24366 | Valid_acc 92.27000 | Best 0.19482 | Best_size 41.20304 | Best_acc 93.37000 | Compressed_model_size 40.56051 | Model_size 41.20304\u001b[0m\n",
            "[\u001b[36m03-03 00:28:37\u001b[0m][\u001b[34msrc.solver\u001b[0m][\u001b[32mINFO\u001b[0m] - ----------------------------------------------------------------------\u001b[0m\n",
            "[\u001b[36m03-03 00:28:37\u001b[0m][\u001b[34msrc.solver\u001b[0m][\u001b[32mINFO\u001b[0m] - Training...\u001b[0m\n",
            "[\u001b[36m03-03 00:31:03\u001b[0m][\u001b[34msrc.solver\u001b[0m][\u001b[32mINFO\u001b[0m] - Train | Epoch 7 | 156/782 | 1.1 it/sec | Loss 0.15348 | Accuracy 94.82171 | Ms 41.203\u001b[0m\n",
            "[\u001b[36m03-03 00:33:29\u001b[0m][\u001b[34msrc.solver\u001b[0m][\u001b[32mINFO\u001b[0m] - Train | Epoch 7 | 312/782 | 1.1 it/sec | Loss 0.15056 | Accuracy 94.84175 | Ms 41.203\u001b[0m\n",
            "[\u001b[36m03-03 00:35:55\u001b[0m][\u001b[34msrc.solver\u001b[0m][\u001b[32mINFO\u001b[0m] - Train | Epoch 7 | 468/782 | 1.1 it/sec | Loss 0.15264 | Accuracy 94.80168 | Ms 41.203\u001b[0m\n",
            "[\u001b[36m03-03 00:38:20\u001b[0m][\u001b[34msrc.solver\u001b[0m][\u001b[32mINFO\u001b[0m] - Train | Epoch 7 | 624/782 | 1.1 it/sec | Loss 0.15146 | Accuracy 94.83173 | Ms 41.203\u001b[0m\n",
            "[\u001b[36m03-03 00:40:46\u001b[0m][\u001b[34msrc.solver\u001b[0m][\u001b[32mINFO\u001b[0m] - Train | Epoch 7 | 780/782 | 1.1 it/sec | Loss 0.14975 | Accuracy 94.87580 | Ms 41.203\u001b[0m\n",
            "[\u001b[36m03-03 00:40:48\u001b[0m][\u001b[34msrc.solver\u001b[0m][\u001b[32mINFO\u001b[0m] - \u001b[1mTrain Summary | End of Epoch 7 | Time 730.89s | train loss 0.14961 | train accuracy 94.88\u001b[0m\n",
            "[\u001b[36m03-03 00:40:48\u001b[0m][\u001b[34msrc.solver\u001b[0m][\u001b[32mINFO\u001b[0m] - ----------------------------------------------------------------------\u001b[0m\n",
            "[\u001b[36m03-03 00:40:48\u001b[0m][\u001b[34msrc.solver\u001b[0m][\u001b[32mINFO\u001b[0m] - Cross validation...\u001b[0m\n",
            "[\u001b[36m03-03 00:41:20\u001b[0m][\u001b[34msrc.solver\u001b[0m][\u001b[32mINFO\u001b[0m] - Valid | Epoch 7 | 31/157 | 1.0 it/sec | Loss 0.18965 | Accuracy 93.49798\u001b[0m\n",
            "[\u001b[36m03-03 00:41:52\u001b[0m][\u001b[34msrc.solver\u001b[0m][\u001b[32mINFO\u001b[0m] - Valid | Epoch 7 | 62/157 | 1.0 it/sec | Loss 0.20056 | Accuracy 93.42238\u001b[0m\n",
            "[\u001b[36m03-03 00:42:23\u001b[0m][\u001b[34msrc.solver\u001b[0m][\u001b[32mINFO\u001b[0m] - Valid | Epoch 7 | 93/157 | 1.0 it/sec | Loss 0.20587 | Accuracy 93.39718\u001b[0m\n",
            "[\u001b[36m03-03 00:42:54\u001b[0m][\u001b[34msrc.solver\u001b[0m][\u001b[32mINFO\u001b[0m] - Valid | Epoch 7 | 124/157 | 1.0 it/sec | Loss 0.20254 | Accuracy 93.61139\u001b[0m\n",
            "[\u001b[36m03-03 00:43:25\u001b[0m][\u001b[34msrc.solver\u001b[0m][\u001b[32mINFO\u001b[0m] - Valid | Epoch 7 | 155/157 | 1.0 it/sec | Loss 0.19867 | Accuracy 93.65927\u001b[0m\n",
            "[\u001b[36m03-03 00:43:27\u001b[0m][\u001b[34msrc.solver\u001b[0m][\u001b[32mINFO\u001b[0m] - \u001b[1mValid Summary | End of Epoch 7 | Time 890.24s | valid Loss 0.19769 | valid accuracy 93.68\u001b[0m\n",
            "[\u001b[36m03-03 00:43:27\u001b[0m][\u001b[34msrc.solver\u001b[0m][\u001b[32mINFO\u001b[0m] - \u001b[1mTrue model size is 41.20 MB\u001b[0m\n",
            "[\u001b[36m03-03 00:43:39\u001b[0m][\u001b[34msrc.solver\u001b[0m][\u001b[32mINFO\u001b[0m] - Learning rate adjusted: 0.01000\u001b[0m\n",
            "[\u001b[36m03-03 00:43:39\u001b[0m][\u001b[34msrc.solver\u001b[0m][\u001b[32mINFO\u001b[0m] - ----------------------------------------------------------------------\u001b[0m\n",
            "[\u001b[36m03-03 00:43:39\u001b[0m][\u001b[34msrc.solver\u001b[0m][\u001b[32mINFO\u001b[0m] - \u001b[1mOverall Summary | Epoch 7 | Train 0.14961 | Train_acc 94.88000 | Valid 0.19769 | Valid_acc 93.68000 | Best 0.19482 | Best_size 41.20304 | Best_acc 93.37000 | Compressed_model_size 40.42995 | Model_size 41.20304\u001b[0m\n",
            "[\u001b[36m03-03 00:43:41\u001b[0m][\u001b[34msrc.solver\u001b[0m][\u001b[32mINFO\u001b[0m] - ----------------------------------------------------------------------\u001b[0m\n",
            "[\u001b[36m03-03 00:43:41\u001b[0m][\u001b[34msrc.solver\u001b[0m][\u001b[32mINFO\u001b[0m] - Training...\u001b[0m\n",
            "[\u001b[36m03-03 00:46:07\u001b[0m][\u001b[34msrc.solver\u001b[0m][\u001b[32mINFO\u001b[0m] - Train | Epoch 8 | 156/782 | 1.1 it/sec | Loss 0.13171 | Accuracy 95.37260 | Ms 41.203\u001b[0m\n",
            "[\u001b[36m03-03 00:48:33\u001b[0m][\u001b[34msrc.solver\u001b[0m][\u001b[32mINFO\u001b[0m] - Train | Epoch 8 | 312/782 | 1.1 it/sec | Loss 0.13282 | Accuracy 95.41266 | Ms 41.203\u001b[0m\n",
            "[\u001b[36m03-03 00:50:59\u001b[0m][\u001b[34msrc.solver\u001b[0m][\u001b[32mINFO\u001b[0m] - Train | Epoch 8 | 468/782 | 1.1 it/sec | Loss 0.13631 | Accuracy 95.33587 | Ms 41.203\u001b[0m\n",
            "[\u001b[36m03-03 00:53:24\u001b[0m][\u001b[34msrc.solver\u001b[0m][\u001b[32mINFO\u001b[0m] - Train | Epoch 8 | 624/782 | 1.1 it/sec | Loss 0.14101 | Accuracy 95.15725 | Ms 41.203\u001b[0m\n",
            "[\u001b[36m03-03 00:55:50\u001b[0m][\u001b[34msrc.solver\u001b[0m][\u001b[32mINFO\u001b[0m] - Train | Epoch 8 | 780/782 | 1.1 it/sec | Loss 0.14349 | Accuracy 95.04808 | Ms 41.203\u001b[0m\n",
            "[\u001b[36m03-03 00:55:52\u001b[0m][\u001b[34msrc.solver\u001b[0m][\u001b[32mINFO\u001b[0m] - \u001b[1mTrain Summary | End of Epoch 8 | Time 730.48s | train loss 0.14338 | train accuracy 95.05\u001b[0m\n",
            "[\u001b[36m03-03 00:55:52\u001b[0m][\u001b[34msrc.solver\u001b[0m][\u001b[32mINFO\u001b[0m] - ----------------------------------------------------------------------\u001b[0m\n",
            "[\u001b[36m03-03 00:55:52\u001b[0m][\u001b[34msrc.solver\u001b[0m][\u001b[32mINFO\u001b[0m] - Cross validation...\u001b[0m\n",
            "[\u001b[36m03-03 00:56:24\u001b[0m][\u001b[34msrc.solver\u001b[0m][\u001b[32mINFO\u001b[0m] - Valid | Epoch 8 | 31/157 | 1.0 it/sec | Loss 0.20421 | Accuracy 94.25403\u001b[0m\n",
            "[\u001b[36m03-03 00:56:55\u001b[0m][\u001b[34msrc.solver\u001b[0m][\u001b[32mINFO\u001b[0m] - Valid | Epoch 8 | 62/157 | 1.0 it/sec | Loss 0.22048 | Accuracy 93.75000\u001b[0m\n",
            "[\u001b[36m03-03 00:57:27\u001b[0m][\u001b[34msrc.solver\u001b[0m][\u001b[32mINFO\u001b[0m] - Valid | Epoch 8 | 93/157 | 1.0 it/sec | Loss 0.21628 | Accuracy 93.80040\u001b[0m\n",
            "[\u001b[36m03-03 00:57:58\u001b[0m][\u001b[34msrc.solver\u001b[0m][\u001b[32mINFO\u001b[0m] - Valid | Epoch 8 | 124/157 | 1.0 it/sec | Loss 0.20876 | Accuracy 93.67440\u001b[0m\n",
            "[\u001b[36m03-03 00:58:29\u001b[0m][\u001b[34msrc.solver\u001b[0m][\u001b[32mINFO\u001b[0m] - Valid | Epoch 8 | 155/157 | 1.0 it/sec | Loss 0.20746 | Accuracy 93.67944\u001b[0m\n",
            "[\u001b[36m03-03 00:58:31\u001b[0m][\u001b[34msrc.solver\u001b[0m][\u001b[32mINFO\u001b[0m] - \u001b[1mValid Summary | End of Epoch 8 | Time 889.73s | valid Loss 0.20826 | valid accuracy 93.65\u001b[0m\n",
            "[\u001b[36m03-03 00:58:31\u001b[0m][\u001b[34msrc.solver\u001b[0m][\u001b[32mINFO\u001b[0m] - \u001b[1mTrue model size is 41.20 MB\u001b[0m\n",
            "[\u001b[36m03-03 00:58:43\u001b[0m][\u001b[34msrc.solver\u001b[0m][\u001b[32mINFO\u001b[0m] - Learning rate adjusted: 0.01000\u001b[0m\n",
            "[\u001b[36m03-03 00:58:43\u001b[0m][\u001b[34msrc.solver\u001b[0m][\u001b[32mINFO\u001b[0m] - ----------------------------------------------------------------------\u001b[0m\n",
            "[\u001b[36m03-03 00:58:43\u001b[0m][\u001b[34msrc.solver\u001b[0m][\u001b[32mINFO\u001b[0m] - \u001b[1mOverall Summary | Epoch 8 | Train 0.14338 | Train_acc 95.05000 | Valid 0.20826 | Valid_acc 93.65000 | Best 0.19482 | Best_size 41.20304 | Best_acc 93.37000 | Compressed_model_size 40.19042 | Model_size 41.20304\u001b[0m\n",
            "[\u001b[36m03-03 00:58:45\u001b[0m][\u001b[34msrc.solver\u001b[0m][\u001b[32mINFO\u001b[0m] - ----------------------------------------------------------------------\u001b[0m\n",
            "[\u001b[36m03-03 00:58:45\u001b[0m][\u001b[34msrc.solver\u001b[0m][\u001b[32mINFO\u001b[0m] - Training...\u001b[0m\n",
            "[\u001b[36m03-03 01:01:11\u001b[0m][\u001b[34msrc.solver\u001b[0m][\u001b[32mINFO\u001b[0m] - Train | Epoch 9 | 156/782 | 1.1 it/sec | Loss 0.12378 | Accuracy 95.68309 | Ms 41.203\u001b[0m\n",
            "[\u001b[36m03-03 01:03:37\u001b[0m][\u001b[34msrc.solver\u001b[0m][\u001b[32mINFO\u001b[0m] - Train | Epoch 9 | 312/782 | 1.1 it/sec | Loss 0.13246 | Accuracy 95.43269 | Ms 41.203\u001b[0m\n",
            "[\u001b[36m03-03 01:06:03\u001b[0m][\u001b[34msrc.solver\u001b[0m][\u001b[32mINFO\u001b[0m] - Train | Epoch 9 | 468/782 | 1.1 it/sec | Loss 0.13286 | Accuracy 95.43269 | Ms 41.203\u001b[0m\n",
            "[\u001b[36m03-03 01:08:29\u001b[0m][\u001b[34msrc.solver\u001b[0m][\u001b[32mINFO\u001b[0m] - Train | Epoch 9 | 624/782 | 1.1 it/sec | Loss 0.13706 | Accuracy 95.33253 | Ms 41.203\u001b[0m\n",
            "[\u001b[36m03-03 01:10:54\u001b[0m][\u001b[34msrc.solver\u001b[0m][\u001b[32mINFO\u001b[0m] - Train | Epoch 9 | 780/782 | 1.1 it/sec | Loss 0.13892 | Accuracy 95.22236 | Ms 41.203\u001b[0m\n",
            "[\u001b[36m03-03 01:10:56\u001b[0m][\u001b[34msrc.solver\u001b[0m][\u001b[32mINFO\u001b[0m] - \u001b[1mTrain Summary | End of Epoch 9 | Time 730.79s | train loss 0.13904 | train accuracy 95.22\u001b[0m\n",
            "[\u001b[36m03-03 01:10:56\u001b[0m][\u001b[34msrc.solver\u001b[0m][\u001b[32mINFO\u001b[0m] - ----------------------------------------------------------------------\u001b[0m\n",
            "[\u001b[36m03-03 01:10:56\u001b[0m][\u001b[34msrc.solver\u001b[0m][\u001b[32mINFO\u001b[0m] - Cross validation...\u001b[0m\n",
            "[\u001b[36m03-03 01:11:28\u001b[0m][\u001b[34msrc.solver\u001b[0m][\u001b[32mINFO\u001b[0m] - Valid | Epoch 9 | 31/157 | 1.0 it/sec | Loss 0.19770 | Accuracy 93.24597\u001b[0m\n",
            "[\u001b[36m03-03 01:12:00\u001b[0m][\u001b[34msrc.solver\u001b[0m][\u001b[32mINFO\u001b[0m] - Valid | Epoch 9 | 62/157 | 1.0 it/sec | Loss 0.20900 | Accuracy 93.14516\u001b[0m\n",
            "[\u001b[36m03-03 01:12:31\u001b[0m][\u001b[34msrc.solver\u001b[0m][\u001b[32mINFO\u001b[0m] - Valid | Epoch 9 | 93/157 | 1.0 it/sec | Loss 0.21154 | Accuracy 93.07796\u001b[0m\n",
            "[\u001b[36m03-03 01:13:03\u001b[0m][\u001b[34msrc.solver\u001b[0m][\u001b[32mINFO\u001b[0m] - Valid | Epoch 9 | 124/157 | 1.0 it/sec | Loss 0.20760 | Accuracy 93.23337\u001b[0m\n",
            "[\u001b[36m03-03 01:13:34\u001b[0m][\u001b[34msrc.solver\u001b[0m][\u001b[32mINFO\u001b[0m] - Valid | Epoch 9 | 155/157 | 1.0 it/sec | Loss 0.20296 | Accuracy 93.33669\u001b[0m\n",
            "[\u001b[36m03-03 01:13:35\u001b[0m][\u001b[34msrc.solver\u001b[0m][\u001b[32mINFO\u001b[0m] - \u001b[1mValid Summary | End of Epoch 9 | Time 890.30s | valid Loss 0.20222 | valid accuracy 93.36\u001b[0m\n",
            "[\u001b[36m03-03 01:13:35\u001b[0m][\u001b[34msrc.solver\u001b[0m][\u001b[32mINFO\u001b[0m] - \u001b[1mTrue model size is 41.20 MB\u001b[0m\n",
            "[\u001b[36m03-03 01:13:47\u001b[0m][\u001b[34msrc.solver\u001b[0m][\u001b[32mINFO\u001b[0m] - Learning rate adjusted: 0.01000\u001b[0m\n",
            "[\u001b[36m03-03 01:13:47\u001b[0m][\u001b[34msrc.solver\u001b[0m][\u001b[32mINFO\u001b[0m] - ----------------------------------------------------------------------\u001b[0m\n",
            "[\u001b[36m03-03 01:13:47\u001b[0m][\u001b[34msrc.solver\u001b[0m][\u001b[32mINFO\u001b[0m] - \u001b[1mOverall Summary | Epoch 9 | Train 0.13904 | Train_acc 95.21800 | Valid 0.20222 | Valid_acc 93.36000 | Best 0.19482 | Best_size 41.20304 | Best_acc 93.37000 | Compressed_model_size 39.96409 | Model_size 41.20304\u001b[0m\n",
            "[\u001b[36m03-03 01:13:49\u001b[0m][\u001b[34msrc.solver\u001b[0m][\u001b[32mINFO\u001b[0m] - ----------------------------------------------------------------------\u001b[0m\n",
            "[\u001b[36m03-03 01:13:49\u001b[0m][\u001b[34msrc.solver\u001b[0m][\u001b[32mINFO\u001b[0m] - Training...\u001b[0m\n",
            "[\u001b[36m03-03 01:16:16\u001b[0m][\u001b[34msrc.solver\u001b[0m][\u001b[32mINFO\u001b[0m] - Train | Epoch 10 | 156/782 | 1.1 it/sec | Loss 0.12392 | Accuracy 95.65304 | Ms 41.203\u001b[0m\n",
            "[\u001b[36m03-03 01:18:42\u001b[0m][\u001b[34msrc.solver\u001b[0m][\u001b[32mINFO\u001b[0m] - Train | Epoch 10 | 312/782 | 1.1 it/sec | Loss 0.12909 | Accuracy 95.49780 | Ms 41.203\u001b[0m\n",
            "[\u001b[36m03-03 01:21:07\u001b[0m][\u001b[34msrc.solver\u001b[0m][\u001b[32mINFO\u001b[0m] - Train | Epoch 10 | 468/782 | 1.1 it/sec | Loss 0.13310 | Accuracy 95.37260 | Ms 41.203\u001b[0m\n",
            "[\u001b[36m03-03 01:23:33\u001b[0m][\u001b[34msrc.solver\u001b[0m][\u001b[32mINFO\u001b[0m] - Train | Epoch 10 | 624/782 | 1.1 it/sec | Loss 0.13436 | Accuracy 95.38762 | Ms 41.203\u001b[0m\n",
            "[\u001b[36m03-03 01:25:59\u001b[0m][\u001b[34msrc.solver\u001b[0m][\u001b[32mINFO\u001b[0m] - Train | Epoch 10 | 780/782 | 1.1 it/sec | Loss 0.13718 | Accuracy 95.30649 | Ms 41.203\u001b[0m\n",
            "[\u001b[36m03-03 01:26:00\u001b[0m][\u001b[34msrc.solver\u001b[0m][\u001b[32mINFO\u001b[0m] - \u001b[1mTrain Summary | End of Epoch 10 | Time 730.87s | train loss 0.13721 | train accuracy 95.30\u001b[0m\n",
            "[\u001b[36m03-03 01:26:00\u001b[0m][\u001b[34msrc.solver\u001b[0m][\u001b[32mINFO\u001b[0m] - ----------------------------------------------------------------------\u001b[0m\n",
            "[\u001b[36m03-03 01:26:00\u001b[0m][\u001b[34msrc.solver\u001b[0m][\u001b[32mINFO\u001b[0m] - Cross validation...\u001b[0m\n",
            "[\u001b[36m03-03 01:26:33\u001b[0m][\u001b[34msrc.solver\u001b[0m][\u001b[32mINFO\u001b[0m] - Valid | Epoch 10 | 31/157 | 1.0 it/sec | Loss 0.22366 | Accuracy 92.48992\u001b[0m\n",
            "[\u001b[36m03-03 01:27:04\u001b[0m][\u001b[34msrc.solver\u001b[0m][\u001b[32mINFO\u001b[0m] - Valid | Epoch 10 | 62/157 | 1.0 it/sec | Loss 0.22866 | Accuracy 92.54032\u001b[0m\n",
            "[\u001b[36m03-03 01:27:35\u001b[0m][\u001b[34msrc.solver\u001b[0m][\u001b[32mINFO\u001b[0m] - Valid | Epoch 10 | 93/157 | 1.0 it/sec | Loss 0.23860 | Accuracy 92.50672\u001b[0m\n",
            "[\u001b[36m03-03 01:28:07\u001b[0m][\u001b[34msrc.solver\u001b[0m][\u001b[32mINFO\u001b[0m] - Valid | Epoch 10 | 124/157 | 1.0 it/sec | Loss 0.23542 | Accuracy 92.67893\u001b[0m\n",
            "[\u001b[36m03-03 01:28:38\u001b[0m][\u001b[34msrc.solver\u001b[0m][\u001b[32mINFO\u001b[0m] - Valid | Epoch 10 | 155/157 | 1.0 it/sec | Loss 0.23081 | Accuracy 92.78226\u001b[0m\n",
            "[\u001b[36m03-03 01:28:40\u001b[0m][\u001b[34msrc.solver\u001b[0m][\u001b[32mINFO\u001b[0m] - \u001b[1mValid Summary | End of Epoch 10 | Time 890.29s | valid Loss 0.23051 | valid accuracy 92.78\u001b[0m\n",
            "[\u001b[36m03-03 01:28:40\u001b[0m][\u001b[34msrc.solver\u001b[0m][\u001b[32mINFO\u001b[0m] - \u001b[1mTrue model size is 41.20 MB\u001b[0m\n",
            "[\u001b[36m03-03 01:28:51\u001b[0m][\u001b[34msrc.solver\u001b[0m][\u001b[32mINFO\u001b[0m] - Learning rate adjusted: 0.01000\u001b[0m\n",
            "[\u001b[36m03-03 01:28:51\u001b[0m][\u001b[34msrc.solver\u001b[0m][\u001b[32mINFO\u001b[0m] - ----------------------------------------------------------------------\u001b[0m\n",
            "[\u001b[36m03-03 01:28:51\u001b[0m][\u001b[34msrc.solver\u001b[0m][\u001b[32mINFO\u001b[0m] - \u001b[1mOverall Summary | Epoch 10 | Train 0.13721 | Train_acc 95.30400 | Valid 0.23051 | Valid_acc 92.78000 | Best 0.19482 | Best_size 41.20304 | Best_acc 93.37000 | Compressed_model_size 39.71358 | Model_size 41.20304\u001b[0m\n",
            "[\u001b[36m03-03 01:28:54\u001b[0m][\u001b[34msrc.solver\u001b[0m][\u001b[32mINFO\u001b[0m] - ----------------------------------------------------------------------\u001b[0m\n",
            "[\u001b[36m03-03 01:28:54\u001b[0m][\u001b[34msrc.solver\u001b[0m][\u001b[32mINFO\u001b[0m] - Training...\u001b[0m\n",
            "[\u001b[36m03-03 01:31:20\u001b[0m][\u001b[34msrc.solver\u001b[0m][\u001b[32mINFO\u001b[0m] - Train | Epoch 11 | 156/782 | 1.1 it/sec | Loss 0.13029 | Accuracy 95.30248 | Ms 41.203\u001b[0m\n",
            "[\u001b[36m03-03 01:33:46\u001b[0m][\u001b[34msrc.solver\u001b[0m][\u001b[32mINFO\u001b[0m] - Train | Epoch 11 | 312/782 | 1.1 it/sec | Loss 0.13107 | Accuracy 95.28245 | Ms 41.203\u001b[0m\n",
            "[\u001b[36m03-03 01:36:12\u001b[0m][\u001b[34msrc.solver\u001b[0m][\u001b[32mINFO\u001b[0m] - Train | Epoch 11 | 468/782 | 1.1 it/sec | Loss 0.13208 | Accuracy 95.30582 | Ms 41.203\u001b[0m\n",
            "[\u001b[36m03-03 01:38:37\u001b[0m][\u001b[34msrc.solver\u001b[0m][\u001b[32mINFO\u001b[0m] - Train | Epoch 11 | 624/782 | 1.1 it/sec | Loss 0.13312 | Accuracy 95.32001 | Ms 41.203\u001b[0m\n",
            "[\u001b[36m03-03 01:41:03\u001b[0m][\u001b[34msrc.solver\u001b[0m][\u001b[32mINFO\u001b[0m] - Train | Epoch 11 | 780/782 | 1.1 it/sec | Loss 0.13581 | Accuracy 95.21434 | Ms 41.203\u001b[0m\n",
            "[\u001b[36m03-03 01:41:04\u001b[0m][\u001b[34msrc.solver\u001b[0m][\u001b[32mINFO\u001b[0m] - \u001b[1mTrain Summary | End of Epoch 11 | Time 730.74s | train loss 0.13604 | train accuracy 95.21\u001b[0m\n",
            "[\u001b[36m03-03 01:41:04\u001b[0m][\u001b[34msrc.solver\u001b[0m][\u001b[32mINFO\u001b[0m] - ----------------------------------------------------------------------\u001b[0m\n",
            "[\u001b[36m03-03 01:41:04\u001b[0m][\u001b[34msrc.solver\u001b[0m][\u001b[32mINFO\u001b[0m] - Cross validation...\u001b[0m\n",
            "[\u001b[36m03-03 01:41:37\u001b[0m][\u001b[34msrc.solver\u001b[0m][\u001b[32mINFO\u001b[0m] - Valid | Epoch 11 | 31/157 | 1.0 it/sec | Loss 0.23862 | Accuracy 92.23790\u001b[0m\n",
            "[\u001b[36m03-03 01:42:08\u001b[0m][\u001b[34msrc.solver\u001b[0m][\u001b[32mINFO\u001b[0m] - Valid | Epoch 11 | 62/157 | 1.0 it/sec | Loss 0.26692 | Accuracy 91.78427\u001b[0m\n",
            "[\u001b[36m03-03 01:42:40\u001b[0m][\u001b[34msrc.solver\u001b[0m][\u001b[32mINFO\u001b[0m] - Valid | Epoch 11 | 93/157 | 1.0 it/sec | Loss 0.26646 | Accuracy 91.58266\u001b[0m\n",
            "[\u001b[36m03-03 01:43:11\u001b[0m][\u001b[34msrc.solver\u001b[0m][\u001b[32mINFO\u001b[0m] - Valid | Epoch 11 | 124/157 | 1.0 it/sec | Loss 0.25497 | Accuracy 91.84728\u001b[0m\n",
            "[\u001b[36m03-03 01:43:42\u001b[0m][\u001b[34msrc.solver\u001b[0m][\u001b[32mINFO\u001b[0m] - Valid | Epoch 11 | 155/157 | 1.0 it/sec | Loss 0.25404 | Accuracy 91.72379\u001b[0m\n",
            "[\u001b[36m03-03 01:43:44\u001b[0m][\u001b[34msrc.solver\u001b[0m][\u001b[32mINFO\u001b[0m] - \u001b[1mValid Summary | End of Epoch 11 | Time 890.39s | valid Loss 0.25623 | valid accuracy 91.73\u001b[0m\n",
            "[\u001b[36m03-03 01:43:44\u001b[0m][\u001b[34msrc.solver\u001b[0m][\u001b[32mINFO\u001b[0m] - \u001b[1mTrue model size is 41.20 MB\u001b[0m\n",
            "[\u001b[36m03-03 01:43:56\u001b[0m][\u001b[34msrc.solver\u001b[0m][\u001b[32mINFO\u001b[0m] - Learning rate adjusted: 0.01000\u001b[0m\n",
            "[\u001b[36m03-03 01:43:56\u001b[0m][\u001b[34msrc.solver\u001b[0m][\u001b[32mINFO\u001b[0m] - ----------------------------------------------------------------------\u001b[0m\n",
            "[\u001b[36m03-03 01:43:56\u001b[0m][\u001b[34msrc.solver\u001b[0m][\u001b[32mINFO\u001b[0m] - \u001b[1mOverall Summary | Epoch 11 | Train 0.13604 | Train_acc 95.20800 | Valid 0.25623 | Valid_acc 91.73000 | Best 0.19482 | Best_size 41.20304 | Best_acc 93.37000 | Compressed_model_size 39.35327 | Model_size 41.20304\u001b[0m\n",
            "[\u001b[36m03-03 01:43:58\u001b[0m][\u001b[34msrc.solver\u001b[0m][\u001b[32mINFO\u001b[0m] - ----------------------------------------------------------------------\u001b[0m\n",
            "[\u001b[36m03-03 01:43:58\u001b[0m][\u001b[34msrc.solver\u001b[0m][\u001b[32mINFO\u001b[0m] - Training...\u001b[0m\n",
            "[\u001b[36m03-03 01:46:24\u001b[0m][\u001b[34msrc.solver\u001b[0m][\u001b[32mINFO\u001b[0m] - Train | Epoch 12 | 156/782 | 1.1 it/sec | Loss 0.12211 | Accuracy 95.65304 | Ms 41.203\u001b[0m\n",
            "[\u001b[36m03-03 01:48:50\u001b[0m][\u001b[34msrc.solver\u001b[0m][\u001b[32mINFO\u001b[0m] - Train | Epoch 12 | 312/782 | 1.1 it/sec | Loss 0.12462 | Accuracy 95.62300 | Ms 41.203\u001b[0m\n",
            "[\u001b[36m03-03 01:51:16\u001b[0m][\u001b[34msrc.solver\u001b[0m][\u001b[32mINFO\u001b[0m] - Train | Epoch 12 | 468/782 | 1.1 it/sec | Loss 0.12970 | Accuracy 95.43937 | Ms 41.203\u001b[0m\n",
            "[\u001b[36m03-03 01:53:41\u001b[0m][\u001b[34msrc.solver\u001b[0m][\u001b[32mINFO\u001b[0m] - Train | Epoch 12 | 624/782 | 1.1 it/sec | Loss 0.13250 | Accuracy 95.38011 | Ms 41.203\u001b[0m\n",
            "[\u001b[36m03-03 01:56:07\u001b[0m][\u001b[34msrc.solver\u001b[0m][\u001b[32mINFO\u001b[0m] - Train | Epoch 12 | 780/782 | 1.1 it/sec | Loss 0.13528 | Accuracy 95.31050 | Ms 41.203\u001b[0m\n",
            "[\u001b[36m03-03 01:56:09\u001b[0m][\u001b[34msrc.solver\u001b[0m][\u001b[32mINFO\u001b[0m] - \u001b[1mTrain Summary | End of Epoch 12 | Time 730.58s | train loss 0.13545 | train accuracy 95.32\u001b[0m\n",
            "[\u001b[36m03-03 01:56:09\u001b[0m][\u001b[34msrc.solver\u001b[0m][\u001b[32mINFO\u001b[0m] - ----------------------------------------------------------------------\u001b[0m\n",
            "[\u001b[36m03-03 01:56:09\u001b[0m][\u001b[34msrc.solver\u001b[0m][\u001b[32mINFO\u001b[0m] - Cross validation...\u001b[0m\n",
            "[\u001b[36m03-03 01:56:41\u001b[0m][\u001b[34msrc.solver\u001b[0m][\u001b[32mINFO\u001b[0m] - Valid | Epoch 12 | 31/157 | 1.0 it/sec | Loss 0.23856 | Accuracy 92.99395\u001b[0m\n",
            "[\u001b[36m03-03 01:57:13\u001b[0m][\u001b[34msrc.solver\u001b[0m][\u001b[32mINFO\u001b[0m] - Valid | Epoch 12 | 62/157 | 1.0 it/sec | Loss 0.26160 | Accuracy 92.28831\u001b[0m\n",
            "[\u001b[36m03-03 01:57:44\u001b[0m][\u001b[34msrc.solver\u001b[0m][\u001b[32mINFO\u001b[0m] - Valid | Epoch 12 | 93/157 | 1.0 it/sec | Loss 0.26053 | Accuracy 92.30511\u001b[0m\n",
            "[\u001b[36m03-03 01:58:15\u001b[0m][\u001b[34msrc.solver\u001b[0m][\u001b[32mINFO\u001b[0m] - Valid | Epoch 12 | 124/157 | 1.0 it/sec | Loss 0.25127 | Accuracy 92.51512\u001b[0m\n",
            "[\u001b[36m03-03 01:58:46\u001b[0m][\u001b[34msrc.solver\u001b[0m][\u001b[32mINFO\u001b[0m] - Valid | Epoch 12 | 155/157 | 1.0 it/sec | Loss 0.24354 | Accuracy 92.58065\u001b[0m\n",
            "[\u001b[36m03-03 01:58:48\u001b[0m][\u001b[34msrc.solver\u001b[0m][\u001b[32mINFO\u001b[0m] - \u001b[1mValid Summary | End of Epoch 12 | Time 889.75s | valid Loss 0.24163 | valid accuracy 92.60\u001b[0m\n",
            "[\u001b[36m03-03 01:58:48\u001b[0m][\u001b[34msrc.solver\u001b[0m][\u001b[32mINFO\u001b[0m] - \u001b[1mTrue model size is 41.20 MB\u001b[0m\n",
            "[\u001b[36m03-03 01:58:59\u001b[0m][\u001b[34msrc.solver\u001b[0m][\u001b[32mINFO\u001b[0m] - Learning rate adjusted: 0.01000\u001b[0m\n",
            "[\u001b[36m03-03 01:58:59\u001b[0m][\u001b[34msrc.solver\u001b[0m][\u001b[32mINFO\u001b[0m] - ----------------------------------------------------------------------\u001b[0m\n",
            "[\u001b[36m03-03 01:58:59\u001b[0m][\u001b[34msrc.solver\u001b[0m][\u001b[32mINFO\u001b[0m] - \u001b[1mOverall Summary | Epoch 12 | Train 0.13545 | Train_acc 95.31600 | Valid 0.24163 | Valid_acc 92.60000 | Best 0.19482 | Best_size 41.20304 | Best_acc 93.37000 | Compressed_model_size 39.08008 | Model_size 41.20304\u001b[0m\n",
            "[\u001b[36m03-03 01:59:02\u001b[0m][\u001b[34msrc.solver\u001b[0m][\u001b[32mINFO\u001b[0m] - ----------------------------------------------------------------------\u001b[0m\n",
            "[\u001b[36m03-03 01:59:02\u001b[0m][\u001b[34msrc.solver\u001b[0m][\u001b[32mINFO\u001b[0m] - Training...\u001b[0m\n",
            "[\u001b[36m03-03 02:01:28\u001b[0m][\u001b[34msrc.solver\u001b[0m][\u001b[32mINFO\u001b[0m] - Train | Epoch 13 | 156/782 | 1.1 it/sec | Loss 0.13521 | Accuracy 95.23237 | Ms 41.203\u001b[0m\n",
            "[\u001b[36m03-03 02:03:54\u001b[0m][\u001b[34msrc.solver\u001b[0m][\u001b[32mINFO\u001b[0m] - Train | Epoch 13 | 312/782 | 1.1 it/sec | Loss 0.13139 | Accuracy 95.34756 | Ms 41.203\u001b[0m\n",
            "[\u001b[36m03-03 02:06:20\u001b[0m][\u001b[34msrc.solver\u001b[0m][\u001b[32mINFO\u001b[0m] - Train | Epoch 13 | 468/782 | 1.1 it/sec | Loss 0.13287 | Accuracy 95.23905 | Ms 41.203\u001b[0m\n",
            "[\u001b[36m03-03 02:08:45\u001b[0m][\u001b[34msrc.solver\u001b[0m][\u001b[32mINFO\u001b[0m] - Train | Epoch 13 | 624/782 | 1.1 it/sec | Loss 0.13387 | Accuracy 95.22486 | Ms 41.203\u001b[0m\n",
            "[\u001b[36m03-03 02:11:11\u001b[0m][\u001b[34msrc.solver\u001b[0m][\u001b[32mINFO\u001b[0m] - Train | Epoch 13 | 780/782 | 1.1 it/sec | Loss 0.13647 | Accuracy 95.14223 | Ms 41.203\u001b[0m\n",
            "[\u001b[36m03-03 02:11:12\u001b[0m][\u001b[34msrc.solver\u001b[0m][\u001b[32mINFO\u001b[0m] - \u001b[1mTrain Summary | End of Epoch 13 | Time 730.60s | train loss 0.13635 | train accuracy 95.15\u001b[0m\n",
            "[\u001b[36m03-03 02:11:12\u001b[0m][\u001b[34msrc.solver\u001b[0m][\u001b[32mINFO\u001b[0m] - ----------------------------------------------------------------------\u001b[0m\n",
            "[\u001b[36m03-03 02:11:12\u001b[0m][\u001b[34msrc.solver\u001b[0m][\u001b[32mINFO\u001b[0m] - Cross validation...\u001b[0m\n",
            "[\u001b[36m03-03 02:11:45\u001b[0m][\u001b[34msrc.solver\u001b[0m][\u001b[32mINFO\u001b[0m] - Valid | Epoch 13 | 31/157 | 1.0 it/sec | Loss 0.20072 | Accuracy 93.49798\u001b[0m\n",
            "[\u001b[36m03-03 02:12:16\u001b[0m][\u001b[34msrc.solver\u001b[0m][\u001b[32mINFO\u001b[0m] - Valid | Epoch 13 | 62/157 | 1.0 it/sec | Loss 0.21268 | Accuracy 92.94355\u001b[0m\n",
            "[\u001b[36m03-03 02:12:48\u001b[0m][\u001b[34msrc.solver\u001b[0m][\u001b[32mINFO\u001b[0m] - Valid | Epoch 13 | 93/157 | 1.0 it/sec | Loss 0.21924 | Accuracy 92.85954\u001b[0m\n",
            "[\u001b[36m03-03 02:13:19\u001b[0m][\u001b[34msrc.solver\u001b[0m][\u001b[32mINFO\u001b[0m] - Valid | Epoch 13 | 124/157 | 1.0 it/sec | Loss 0.21414 | Accuracy 92.94355\u001b[0m\n",
            "[\u001b[36m03-03 02:13:50\u001b[0m][\u001b[34msrc.solver\u001b[0m][\u001b[32mINFO\u001b[0m] - Valid | Epoch 13 | 155/157 | 1.0 it/sec | Loss 0.21115 | Accuracy 93.14516\u001b[0m\n",
            "[\u001b[36m03-03 02:13:52\u001b[0m][\u001b[34msrc.solver\u001b[0m][\u001b[32mINFO\u001b[0m] - \u001b[1mValid Summary | End of Epoch 13 | Time 889.70s | valid Loss 0.21231 | valid accuracy 93.13\u001b[0m\n",
            "[\u001b[36m03-03 02:13:52\u001b[0m][\u001b[34msrc.solver\u001b[0m][\u001b[32mINFO\u001b[0m] - \u001b[1mTrue model size is 41.20 MB\u001b[0m\n",
            "[\u001b[36m03-03 02:14:03\u001b[0m][\u001b[34msrc.solver\u001b[0m][\u001b[32mINFO\u001b[0m] - Learning rate adjusted: 0.01000\u001b[0m\n",
            "[\u001b[36m03-03 02:14:03\u001b[0m][\u001b[34msrc.solver\u001b[0m][\u001b[32mINFO\u001b[0m] - ----------------------------------------------------------------------\u001b[0m\n",
            "[\u001b[36m03-03 02:14:03\u001b[0m][\u001b[34msrc.solver\u001b[0m][\u001b[32mINFO\u001b[0m] - \u001b[1mOverall Summary | Epoch 13 | Train 0.13635 | Train_acc 95.14600 | Valid 0.21231 | Valid_acc 93.13000 | Best 0.19482 | Best_size 41.20304 | Best_acc 93.37000 | Compressed_model_size 38.80325 | Model_size 41.20304\u001b[0m\n",
            "[\u001b[36m03-03 02:14:06\u001b[0m][\u001b[34msrc.solver\u001b[0m][\u001b[32mINFO\u001b[0m] - ----------------------------------------------------------------------\u001b[0m\n",
            "[\u001b[36m03-03 02:14:06\u001b[0m][\u001b[34msrc.solver\u001b[0m][\u001b[32mINFO\u001b[0m] - Training...\u001b[0m\n",
            "[\u001b[36m03-03 02:16:32\u001b[0m][\u001b[34msrc.solver\u001b[0m][\u001b[32mINFO\u001b[0m] - Train | Epoch 14 | 156/782 | 1.1 it/sec | Loss 0.11935 | Accuracy 95.70312 | Ms 41.203\u001b[0m\n",
            "[\u001b[36m03-03 02:18:57\u001b[0m][\u001b[34msrc.solver\u001b[0m][\u001b[32mINFO\u001b[0m] - Train | Epoch 14 | 312/782 | 1.1 it/sec | Loss 0.12819 | Accuracy 95.29247 | Ms 41.203\u001b[0m\n",
            "[\u001b[36m03-03 02:21:23\u001b[0m][\u001b[34msrc.solver\u001b[0m][\u001b[32mINFO\u001b[0m] - Train | Epoch 14 | 468/782 | 1.1 it/sec | Loss 0.13136 | Accuracy 95.26242 | Ms 41.203\u001b[0m\n",
            "[\u001b[36m03-03 02:23:49\u001b[0m][\u001b[34msrc.solver\u001b[0m][\u001b[32mINFO\u001b[0m] - Train | Epoch 14 | 624/782 | 1.1 it/sec | Loss 0.13326 | Accuracy 95.27494 | Ms 41.203\u001b[0m\n",
            "[\u001b[36m03-03 02:26:15\u001b[0m][\u001b[34msrc.solver\u001b[0m][\u001b[32mINFO\u001b[0m] - Train | Epoch 14 | 780/782 | 1.1 it/sec | Loss 0.13698 | Accuracy 95.19030 | Ms 41.203\u001b[0m\n",
            "[\u001b[36m03-03 02:26:16\u001b[0m][\u001b[34msrc.solver\u001b[0m][\u001b[32mINFO\u001b[0m] - \u001b[1mTrain Summary | End of Epoch 14 | Time 730.49s | train loss 0.13703 | train accuracy 95.19\u001b[0m\n",
            "[\u001b[36m03-03 02:26:16\u001b[0m][\u001b[34msrc.solver\u001b[0m][\u001b[32mINFO\u001b[0m] - ----------------------------------------------------------------------\u001b[0m\n",
            "[\u001b[36m03-03 02:26:16\u001b[0m][\u001b[34msrc.solver\u001b[0m][\u001b[32mINFO\u001b[0m] - Cross validation...\u001b[0m\n",
            "[\u001b[36m03-03 02:26:49\u001b[0m][\u001b[34msrc.solver\u001b[0m][\u001b[32mINFO\u001b[0m] - Valid | Epoch 14 | 31/157 | 1.0 it/sec | Loss 0.22129 | Accuracy 92.43952\u001b[0m\n",
            "[\u001b[36m03-03 02:27:20\u001b[0m][\u001b[34msrc.solver\u001b[0m][\u001b[32mINFO\u001b[0m] - Valid | Epoch 14 | 62/157 | 1.0 it/sec | Loss 0.22694 | Accuracy 92.31351\u001b[0m\n",
            "[\u001b[36m03-03 02:27:51\u001b[0m][\u001b[34msrc.solver\u001b[0m][\u001b[32mINFO\u001b[0m] - Valid | Epoch 14 | 93/157 | 1.0 it/sec | Loss 0.23213 | Accuracy 92.47312\u001b[0m\n",
            "[\u001b[36m03-03 02:28:23\u001b[0m][\u001b[34msrc.solver\u001b[0m][\u001b[32mINFO\u001b[0m] - Valid | Epoch 14 | 124/157 | 1.0 it/sec | Loss 0.22805 | Accuracy 92.67893\u001b[0m\n",
            "[\u001b[36m03-03 02:28:54\u001b[0m][\u001b[34msrc.solver\u001b[0m][\u001b[32mINFO\u001b[0m] - Valid | Epoch 14 | 155/157 | 1.0 it/sec | Loss 0.22969 | Accuracy 92.71169\u001b[0m\n",
            "[\u001b[36m03-03 02:28:55\u001b[0m][\u001b[34msrc.solver\u001b[0m][\u001b[32mINFO\u001b[0m] - \u001b[1mValid Summary | End of Epoch 14 | Time 889.94s | valid Loss 0.23097 | valid accuracy 92.68\u001b[0m\n",
            "[\u001b[36m03-03 02:28:55\u001b[0m][\u001b[34msrc.solver\u001b[0m][\u001b[32mINFO\u001b[0m] - \u001b[1mTrue model size is 41.20 MB\u001b[0m\n",
            "[\u001b[36m03-03 02:29:07\u001b[0m][\u001b[34msrc.solver\u001b[0m][\u001b[32mINFO\u001b[0m] - Learning rate adjusted: 0.01000\u001b[0m\n",
            "[\u001b[36m03-03 02:29:07\u001b[0m][\u001b[34msrc.solver\u001b[0m][\u001b[32mINFO\u001b[0m] - ----------------------------------------------------------------------\u001b[0m\n",
            "[\u001b[36m03-03 02:29:07\u001b[0m][\u001b[34msrc.solver\u001b[0m][\u001b[32mINFO\u001b[0m] - \u001b[1mOverall Summary | Epoch 14 | Train 0.13703 | Train_acc 95.18600 | Valid 0.23097 | Valid_acc 92.68000 | Best 0.19482 | Best_size 41.20304 | Best_acc 93.37000 | Compressed_model_size 38.50326 | Model_size 41.20304\u001b[0m\n",
            "[\u001b[36m03-03 02:29:09\u001b[0m][\u001b[34msrc.solver\u001b[0m][\u001b[32mINFO\u001b[0m] - ----------------------------------------------------------------------\u001b[0m\n",
            "[\u001b[36m03-03 02:29:09\u001b[0m][\u001b[34msrc.solver\u001b[0m][\u001b[32mINFO\u001b[0m] - Training...\u001b[0m\n",
            "[\u001b[36m03-03 02:31:36\u001b[0m][\u001b[34msrc.solver\u001b[0m][\u001b[32mINFO\u001b[0m] - Train | Epoch 15 | 156/782 | 1.1 it/sec | Loss 0.11912 | Accuracy 95.80329 | Ms 41.203\u001b[0m\n",
            "[\u001b[36m03-03 02:34:02\u001b[0m][\u001b[34msrc.solver\u001b[0m][\u001b[32mINFO\u001b[0m] - Train | Epoch 15 | 312/782 | 1.1 it/sec | Loss 0.13000 | Accuracy 95.44271 | Ms 41.203\u001b[0m\n",
            "[\u001b[36m03-03 02:36:27\u001b[0m][\u001b[34msrc.solver\u001b[0m][\u001b[32mINFO\u001b[0m] - Train | Epoch 15 | 468/782 | 1.1 it/sec | Loss 0.12982 | Accuracy 95.45940 | Ms 41.203\u001b[0m\n",
            "[\u001b[36m03-03 02:38:53\u001b[0m][\u001b[34msrc.solver\u001b[0m][\u001b[32mINFO\u001b[0m] - Train | Epoch 15 | 624/782 | 1.1 it/sec | Loss 0.13243 | Accuracy 95.39263 | Ms 41.203\u001b[0m\n",
            "[\u001b[36m03-03 02:41:19\u001b[0m][\u001b[34msrc.solver\u001b[0m][\u001b[32mINFO\u001b[0m] - Train | Epoch 15 | 780/782 | 1.1 it/sec | Loss 0.13473 | Accuracy 95.28446 | Ms 41.203\u001b[0m\n",
            "[\u001b[36m03-03 02:41:20\u001b[0m][\u001b[34msrc.solver\u001b[0m][\u001b[32mINFO\u001b[0m] - \u001b[1mTrain Summary | End of Epoch 15 | Time 730.76s | train loss 0.13463 | train accuracy 95.28\u001b[0m\n",
            "[\u001b[36m03-03 02:41:20\u001b[0m][\u001b[34msrc.solver\u001b[0m][\u001b[32mINFO\u001b[0m] - ----------------------------------------------------------------------\u001b[0m\n",
            "[\u001b[36m03-03 02:41:20\u001b[0m][\u001b[34msrc.solver\u001b[0m][\u001b[32mINFO\u001b[0m] - Cross validation...\u001b[0m\n",
            "[\u001b[36m03-03 02:41:53\u001b[0m][\u001b[34msrc.solver\u001b[0m][\u001b[32mINFO\u001b[0m] - Valid | Epoch 15 | 31/157 | 1.0 it/sec | Loss 0.20474 | Accuracy 93.49798\u001b[0m\n",
            "[\u001b[36m03-03 02:42:24\u001b[0m][\u001b[34msrc.solver\u001b[0m][\u001b[32mINFO\u001b[0m] - Valid | Epoch 15 | 62/157 | 1.0 it/sec | Loss 0.22337 | Accuracy 92.79234\u001b[0m\n",
            "[\u001b[36m03-03 02:42:56\u001b[0m][\u001b[34msrc.solver\u001b[0m][\u001b[32mINFO\u001b[0m] - Valid | Epoch 15 | 93/157 | 1.0 it/sec | Loss 0.22640 | Accuracy 92.79234\u001b[0m\n",
            "[\u001b[36m03-03 02:43:27\u001b[0m][\u001b[34msrc.solver\u001b[0m][\u001b[32mINFO\u001b[0m] - Valid | Epoch 15 | 124/157 | 1.0 it/sec | Loss 0.21809 | Accuracy 93.04435\u001b[0m\n",
            "[\u001b[36m03-03 02:43:58\u001b[0m][\u001b[34msrc.solver\u001b[0m][\u001b[32mINFO\u001b[0m] - Valid | Epoch 15 | 155/157 | 1.0 it/sec | Loss 0.21546 | Accuracy 93.08468\u001b[0m\n",
            "[\u001b[36m03-03 02:44:00\u001b[0m][\u001b[34msrc.solver\u001b[0m][\u001b[32mINFO\u001b[0m] - \u001b[1mValid Summary | End of Epoch 15 | Time 890.76s | valid Loss 0.21471 | valid accuracy 93.08\u001b[0m\n",
            "[\u001b[36m03-03 02:44:00\u001b[0m][\u001b[34msrc.solver\u001b[0m][\u001b[32mINFO\u001b[0m] - \u001b[1mTrue model size is 41.20 MB\u001b[0m\n",
            "[\u001b[36m03-03 02:44:12\u001b[0m][\u001b[34msrc.solver\u001b[0m][\u001b[32mINFO\u001b[0m] - Learning rate adjusted: 0.01000\u001b[0m\n",
            "[\u001b[36m03-03 02:44:12\u001b[0m][\u001b[34msrc.solver\u001b[0m][\u001b[32mINFO\u001b[0m] - ----------------------------------------------------------------------\u001b[0m\n",
            "[\u001b[36m03-03 02:44:12\u001b[0m][\u001b[34msrc.solver\u001b[0m][\u001b[32mINFO\u001b[0m] - \u001b[1mOverall Summary | Epoch 15 | Train 0.13463 | Train_acc 95.28200 | Valid 0.21471 | Valid_acc 93.08000 | Best 0.19482 | Best_size 41.20304 | Best_acc 93.37000 | Compressed_model_size 38.21454 | Model_size 41.20304\u001b[0m\n"
          ]
        }
      ]
    }
  ],
  "metadata": {
    "accelerator": "GPU",
    "colab": {
      "collapsed_sections": [],
      "name": "diffq_vit-pretrain.ipynb",
      "provenance": []
    },
    "kernelspec": {
      "display_name": "Python 3",
      "name": "python3"
    },
    "language_info": {
      "name": "python"
    }
  },
  "nbformat": 4,
  "nbformat_minor": 0
}