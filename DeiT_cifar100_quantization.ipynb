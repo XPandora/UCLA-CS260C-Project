{
  "cells": [
    {
      "cell_type": "code",
      "execution_count": 1,
      "metadata": {
        "colab": {
          "base_uri": "https://localhost:8080/"
        },
        "id": "k70Vxlv9lMRZ",
        "outputId": "09c511c4-1ffe-48f8-fcc6-45cb3880afca"
      },
      "outputs": [
        {
          "output_type": "stream",
          "name": "stdout",
          "text": [
            "Cloning into 'ViT-pytorch'...\n",
            "remote: Enumerating objects: 170, done.\u001b[K\n",
            "remote: Counting objects: 100% (40/40), done.\u001b[K\n",
            "remote: Compressing objects: 100% (13/13), done.\u001b[K\n",
            "remote: Total 170 (delta 32), reused 27 (delta 27), pack-reused 130\u001b[K\n",
            "Receiving objects: 100% (170/170), 21.31 MiB | 36.98 MiB/s, done.\n",
            "Resolving deltas: 100% (85/85), done.\n",
            "/content/ViT-pytorch\n",
            "Collecting ml-collections\n",
            "  Downloading ml_collections-0.1.1.tar.gz (77 kB)\n",
            "\u001b[K     |████████████████████████████████| 77 kB 3.2 MB/s \n",
            "\u001b[?25hRequirement already satisfied: absl-py in /usr/local/lib/python3.7/dist-packages (from ml-collections) (1.0.0)\n",
            "Requirement already satisfied: PyYAML in /usr/local/lib/python3.7/dist-packages (from ml-collections) (3.13)\n",
            "Requirement already satisfied: six in /usr/local/lib/python3.7/dist-packages (from ml-collections) (1.15.0)\n",
            "Requirement already satisfied: contextlib2 in /usr/local/lib/python3.7/dist-packages (from ml-collections) (0.5.5)\n",
            "Building wheels for collected packages: ml-collections\n",
            "  Building wheel for ml-collections (setup.py) ... \u001b[?25l\u001b[?25hdone\n",
            "  Created wheel for ml-collections: filename=ml_collections-0.1.1-py3-none-any.whl size=94524 sha256=67bfa846e34f0ed6c76be018246df300194d3a5145d0d7f1583f6925fef8a402\n",
            "  Stored in directory: /root/.cache/pip/wheels/b7/da/64/33c926a1b10ff19791081b705879561b715a8341a856a3bbd2\n",
            "Successfully built ml-collections\n",
            "Installing collected packages: ml-collections\n",
            "Successfully installed ml-collections-0.1.1\n"
          ]
        }
      ],
      "source": [
        "!git clone https://github.com/jeonsworld/ViT-pytorch.git\n",
        "%cd ViT-pytorch/\n",
        "!pip install ml-collections"
      ]
    },
    {
      "cell_type": "code",
      "metadata": {
        "colab": {
          "base_uri": "https://localhost:8080/"
        },
        "id": "DQLh6hE2Zj0e",
        "outputId": "6f50bc0f-d349-428b-9d35-a29c7d223cb3"
      },
      "source": [
        "#if running on a local divice, comment these lines\n",
        "from google.colab import drive\n",
        "drive.mount('/content/drive')"
      ],
      "execution_count": 2,
      "outputs": [
        {
          "output_type": "stream",
          "name": "stdout",
          "text": [
            "Mounted at /content/drive\n"
          ]
        }
      ]
    },
    {
      "cell_type": "code",
      "execution_count": 3,
      "metadata": {
        "id": "2t5UUX-qR_lO"
      },
      "outputs": [],
      "source": [
        "from __future__ import absolute_import, division, print_function\n",
        "\n",
        "import logging\n",
        "import argparse\n",
        "import os\n",
        "import random\n",
        "import numpy as np\n",
        "\n",
        "from datetime import timedelta\n",
        "\n",
        "import torch\n",
        "import torch.distributed as dist\n",
        "\n",
        "from tqdm import tqdm\n",
        "from torch.utils.tensorboard import SummaryWriter\n",
        "\n",
        "from utils.scheduler import WarmupLinearSchedule, WarmupCosineSchedule\n",
        "from utils.data_utils import get_loader\n",
        "from utils.dist_util import get_world_size\n",
        "\n",
        "parser = argparse.ArgumentParser()\n",
        "# Required parameters\n",
        "parser.add_argument(\"--name\", default=\"cifar100\",\n",
        "                    help=\"Name of this run. Used for monitoring.\")\n",
        "parser.add_argument(\"--dataset\", choices=[\"cifar10\", \"cifar100\"], default=\"cifar100\",\n",
        "                    help=\"Which downstream task.\")\n",
        "parser.add_argument(\"--model_type\", choices=[\"ViT-B_16\", \"ViT-B_32\", \"ViT-L_16\",\n",
        "                                              \"ViT-L_32\", \"ViT-H_14\", \"R50-ViT-B_16\"],\n",
        "                    default=\"ViT-B_16\",\n",
        "                    help=\"Which variant to use.\")\n",
        "parser.add_argument(\"--pretrained_dir\", type=str, default=\"checkpoint/ViT-B_16.npz\",\n",
        "                    help=\"Where to search for pretrained ViT models.\")\n",
        "parser.add_argument(\"--pretrained_model\", type=str, default=\"cifar100_checkpoint.bin\")\n",
        "parser.add_argument(\"--output_dir\", default=\"output\", type=str,\n",
        "                    help=\"The output directory where checkpoints will be written.\")\n",
        "\n",
        "parser.add_argument(\"--img_size\", default=224, type=int,\n",
        "                    help=\"Resolution size\")\n",
        "parser.add_argument(\"--train_batch_size\", default=512, type=int,\n",
        "                    help=\"Total batch size for training.\")\n",
        "parser.add_argument(\"--eval_batch_size\", default=64, type=int,\n",
        "                    help=\"Total batch size for eval.\")\n",
        "parser.add_argument(\"--eval_every\", default=100, type=int,\n",
        "                    help=\"Run prediction on validation set every so many steps.\"\n",
        "                          \"Will always run one evaluation at the end of training.\")\n",
        "\n",
        "parser.add_argument(\"--learning_rate\", default=3e-2, type=float,\n",
        "                    help=\"The initial learning rate for SGD.\")\n",
        "parser.add_argument(\"--weight_decay\", default=0, type=float,\n",
        "                    help=\"Weight deay if we apply some.\")\n",
        "parser.add_argument(\"--num_steps\", default=10000, type=int,\n",
        "                    help=\"Total number of training epochs to perform.\")\n",
        "parser.add_argument(\"--decay_type\", choices=[\"cosine\", \"linear\"], default=\"cosine\",\n",
        "                    help=\"How to decay the learning rate.\")\n",
        "parser.add_argument(\"--warmup_steps\", default=500, type=int,\n",
        "                    help=\"Step of training to perform learning rate warmup for.\")\n",
        "parser.add_argument(\"--max_grad_norm\", default=1.0, type=float,\n",
        "                    help=\"Max gradient norm.\")\n",
        "\n",
        "parser.add_argument(\"--local_rank\", type=int, default=-1,\n",
        "                    help=\"local_rank for distributed training on gpus\")\n",
        "parser.add_argument('--seed', type=int, default=42,\n",
        "                    help=\"random seed for initialization\")\n",
        "parser.add_argument('--gradient_accumulation_steps', type=int, default=1,\n",
        "                    help=\"Number of updates steps to accumulate before performing a backward/update pass.\")\n",
        "parser.add_argument('--fp16', action='store_true',\n",
        "                    help=\"Whether to use 16-bit float precision instead of 32-bit\")\n",
        "parser.add_argument('--fp16_opt_level', type=str, default='O2',\n",
        "                    help=\"For fp16: Apex AMP optimization level selected in ['O0', 'O1', 'O2', and 'O3'].\"\n",
        "                          \"See details at https://nvidia.github.io/apex/amp.html\")\n",
        "parser.add_argument('--loss_scale', type=float, default=0,\n",
        "                    help=\"Loss scaling to improve fp16 numeric stability. Only used when fp16 set to True.\\n\"\n",
        "                          \"0 (default value): dynamic loss scaling.\\n\"\n",
        "                          \"Positive power of 2: static loss scaling value.\\n\")\n",
        "args = parser.parse_args(\"\")\n",
        "\n",
        "# Setup CUDA, GPU & distributed training\n",
        "if args.local_rank == -1:\n",
        "    device = torch.device(\"cuda\" if torch.cuda.is_available() else \"cpu\")\n",
        "    args.n_gpu = torch.cuda.device_count()\n",
        "else:  # Initializes the distributed backend which will take care of sychronizing nodes/GPUs\n",
        "    torch.cuda.set_device(args.local_rank)\n",
        "    device = torch.device(\"cuda\", args.local_rank)\n",
        "    torch.distributed.init_process_group(backend='nccl',\n",
        "                                          timeout=timedelta(minutes=60))\n",
        "    args.n_gpu = 1\n",
        "\n",
        "args.name = 'cifar100'\n",
        "args.device = device"
      ]
    },
    {
      "cell_type": "code",
      "execution_count": 4,
      "metadata": {
        "id": "A8p_iyr3XJQR"
      },
      "outputs": [],
      "source": [
        "import torch\n",
        "import torch.nn as nn\n",
        "import numpy as np\n",
        "\n",
        "from torch.nn import CrossEntropyLoss, Dropout, Softmax, Linear, Conv2d, LayerNorm\n",
        "from torch.nn.modules.utils import _pair\n",
        "from torch.quantization import QuantStub, DeQuantStub\n",
        "from scipy import ndimage\n",
        "\n",
        "import models.configs as configs\n",
        "from models.modeling import *\n",
        "\n",
        "# coding=utf-8\n",
        "from __future__ import absolute_import\n",
        "from __future__ import division\n",
        "from __future__ import print_function\n",
        "\n",
        "import copy\n",
        "import logging\n",
        "import math\n",
        "\n",
        "from os.path import join as pjoin\n",
        "\n",
        "import torch\n",
        "import torch.nn as nn\n",
        "import numpy as np\n",
        "\n",
        "from torch.nn import CrossEntropyLoss, Dropout, Softmax, Linear, Conv2d, LayerNorm\n",
        "from torch.nn.modules.utils import _pair\n",
        "from scipy import ndimage\n",
        "\n",
        "import models.configs as configs\n",
        "\n",
        "from models.modeling_resnet import ResNetV2\n",
        "\n",
        "\n",
        "logger = logging.getLogger(__name__)\n",
        "\n",
        "\n",
        "ATTENTION_Q = \"MultiHeadDotProductAttention_1/query\"\n",
        "ATTENTION_K = \"MultiHeadDotProductAttention_1/key\"\n",
        "ATTENTION_V = \"MultiHeadDotProductAttention_1/value\"\n",
        "ATTENTION_OUT = \"MultiHeadDotProductAttention_1/out\"\n",
        "FC_0 = \"MlpBlock_3/Dense_0\"\n",
        "FC_1 = \"MlpBlock_3/Dense_1\"\n",
        "ATTENTION_NORM = \"LayerNorm_0\"\n",
        "MLP_NORM = \"LayerNorm_2\"\n",
        "\n",
        "\n",
        "def np2th(weights, conv=False):\n",
        "    \"\"\"Possibly convert HWIO to OIHW.\"\"\"\n",
        "    if conv:\n",
        "        weights = weights.transpose([3, 2, 0, 1])\n",
        "    return torch.from_numpy(weights)\n",
        "\n",
        "\n",
        "def swish(x):\n",
        "    return x * torch.sigmoid(x)\n",
        "\n",
        "\n",
        "ACT2FN = {\"gelu\": torch.nn.functional.gelu, \"relu\": torch.nn.functional.relu, \"swish\": swish}\n",
        "\n",
        "\n",
        "class Attention(nn.Module):\n",
        "    def __init__(self, config, vis, is_quant=False):\n",
        "        super(Attention, self).__init__()\n",
        "        self.vis = vis\n",
        "        self.num_attention_heads = config.transformer[\"num_heads\"]\n",
        "        self.attention_head_size = int(config.hidden_size / self.num_attention_heads)\n",
        "        self.all_head_size = self.num_attention_heads * self.attention_head_size\n",
        "\n",
        "        self.query = Linear(config.hidden_size, self.all_head_size)\n",
        "        self.key = Linear(config.hidden_size, self.all_head_size)\n",
        "        self.value = Linear(config.hidden_size, self.all_head_size)\n",
        "\n",
        "        self.out = Linear(config.hidden_size, config.hidden_size)\n",
        "        self.attn_dropout = Dropout(config.transformer[\"attention_dropout_rate\"])\n",
        "        self.proj_dropout = Dropout(config.transformer[\"attention_dropout_rate\"])\n",
        "\n",
        "        self.is_quant = is_quant\n",
        "        self.quant = torch.quantization.QuantStub()\n",
        "        self.dequant = torch.quantization.DeQuantStub()\n",
        "        self.softmax = Softmax(dim=-1)\n",
        "\n",
        "    def transpose_for_scores(self, x):\n",
        "        new_x_shape = x.size()[:-1] + (self.num_attention_heads, self.attention_head_size)\n",
        "        x = x.view(*new_x_shape)\n",
        "        return x.permute(0, 2, 1, 3)\n",
        "\n",
        "    def forward(self, hidden_states):\n",
        "        mixed_query_layer = self.query(hidden_states)\n",
        "        mixed_key_layer = self.key(hidden_states)\n",
        "        mixed_value_layer = self.value(hidden_states)\n",
        "\n",
        "        query_layer = self.transpose_for_scores(mixed_query_layer)\n",
        "        key_layer = self.transpose_for_scores(mixed_key_layer)\n",
        "        value_layer = self.transpose_for_scores(mixed_value_layer)\n",
        "\n",
        "        if self.is_quant:\n",
        "          query_layer = self.dequant(query_layer)\n",
        "          key_layer = self.dequant(key_layer)\n",
        "          value_layer = self.dequant(value_layer)\n",
        "        \n",
        "        attention_scores = torch.matmul(query_layer, key_layer.transpose(-1, -2))\n",
        "        attention_scores = attention_scores / math.sqrt(self.attention_head_size)\n",
        "        attention_probs = self.softmax(attention_scores)\n",
        "        weights = attention_probs if self.vis else None\n",
        "        attention_probs = self.attn_dropout(attention_probs)\n",
        "\n",
        "        context_layer = torch.matmul(attention_probs, value_layer)\n",
        "        context_layer = context_layer.permute(0, 2, 1, 3).contiguous()\n",
        "        new_context_layer_shape = context_layer.size()[:-2] + (self.all_head_size,)\n",
        "        context_layer = context_layer.view(*new_context_layer_shape)\n",
        "\n",
        "        if self.is_quant:\n",
        "          context_layer = self.quant(context_layer)\n",
        "        attention_output = self.out(context_layer)\n",
        "        attention_output = self.proj_dropout(attention_output)\n",
        "        return attention_output, weights\n",
        "\n",
        "\n",
        "class Mlp(nn.Module):\n",
        "    def __init__(self, config, is_quant=False):\n",
        "        super(Mlp, self).__init__()\n",
        "        self.fc1 = Linear(config.hidden_size, config.transformer[\"mlp_dim\"])\n",
        "        self.fc2 = Linear(config.transformer[\"mlp_dim\"], config.hidden_size)\n",
        "        self.act_fn = ACT2FN[\"gelu\"]\n",
        "        self.dropout = Dropout(config.transformer[\"dropout_rate\"])\n",
        "\n",
        "        self._init_weights()\n",
        "        self.is_quant = is_quant\n",
        "        self.quant = torch.quantization.QuantStub()\n",
        "        self.dequant = torch.quantization.DeQuantStub()\n",
        "\n",
        "    def _init_weights(self):\n",
        "        nn.init.xavier_uniform_(self.fc1.weight)\n",
        "        nn.init.xavier_uniform_(self.fc2.weight)\n",
        "        nn.init.normal_(self.fc1.bias, std=1e-6)\n",
        "        nn.init.normal_(self.fc2.bias, std=1e-6)\n",
        "\n",
        "    def forward(self, x):\n",
        "        x = self.fc1(x)\n",
        "        if self.is_quant:\n",
        "          x = self.dequant(x)\n",
        "        x = self.act_fn(x)\n",
        "        if self.is_quant:\n",
        "          x = self.quant(x)\n",
        "        x = self.dropout(x)\n",
        "        x = self.fc2(x)\n",
        "        x = self.dropout(x)\n",
        "        return x\n",
        "\n",
        "\n",
        "class Embeddings(nn.Module):\n",
        "    \"\"\"Construct the embeddings from patch, position embeddings.\n",
        "    \"\"\"\n",
        "    def __init__(self, config, img_size, in_channels=3, is_quant=False):\n",
        "        super(Embeddings, self).__init__()\n",
        "        self.hybrid = None\n",
        "        self.is_quant = is_quant\n",
        "        img_size = _pair(img_size)\n",
        "\n",
        "        if config.patches.get(\"grid\") is not None:\n",
        "            grid_size = config.patches[\"grid\"]\n",
        "            patch_size = (img_size[0] // 16 // grid_size[0], img_size[1] // 16 // grid_size[1])\n",
        "            n_patches = (img_size[0] // 16) * (img_size[1] // 16)\n",
        "            self.hybrid = True\n",
        "        else:\n",
        "            patch_size = _pair(config.patches[\"size\"])\n",
        "            n_patches = (img_size[0] // patch_size[0]) * (img_size[1] // patch_size[1])\n",
        "            self.hybrid = False\n",
        "\n",
        "        if self.hybrid:\n",
        "            self.hybrid_model = ResNetV2(block_units=config.resnet.num_layers,\n",
        "                                         width_factor=config.resnet.width_factor)\n",
        "            in_channels = self.hybrid_model.width * 16\n",
        "        self.patch_embeddings = Conv2d(in_channels=in_channels,\n",
        "                                       out_channels=config.hidden_size,\n",
        "                                       kernel_size=patch_size,\n",
        "                                       stride=patch_size)\n",
        "        self.position_embeddings = nn.Parameter(torch.zeros(1, n_patches+1, config.hidden_size))\n",
        "        self.cls_token = nn.Parameter(torch.zeros(1, 1, config.hidden_size))\n",
        "\n",
        "        self.dropout = Dropout(config.transformer[\"dropout_rate\"])\n",
        "        self.quant = torch.quantization.QuantStub()\n",
        "        self.dequant = torch.quantization.DeQuantStub()\n",
        "\n",
        "    def forward(self, x):\n",
        "        B = x.shape[0]\n",
        "        cls_tokens = self.cls_token.expand(B, -1, -1)\n",
        "\n",
        "        if self.hybrid:\n",
        "            x = self.hybrid_model(x)\n",
        "        x = self.patch_embeddings(x)\n",
        "        if self.is_quant:\n",
        "          x = self.dequant(x)\n",
        "        x = x.flatten(2)\n",
        "        x = x.transpose(-1, -2)\n",
        "        x = torch.cat((cls_tokens, x), dim=1)\n",
        "\n",
        "        embeddings = x + self.position_embeddings\n",
        "        embeddings = self.dropout(embeddings)\n",
        "        if self.is_quant:\n",
        "          embeddings = self.quant(embeddings)\n",
        "        return embeddings\n",
        "\n",
        "\n",
        "class Block(nn.Module):\n",
        "    def __init__(self, config, vis, is_quant=False):\n",
        "        super(Block, self).__init__()\n",
        "        self.hidden_size = config.hidden_size\n",
        "        self.attention_norm = LayerNorm(config.hidden_size, eps=1e-6)\n",
        "        self.ffn_norm = LayerNorm(config.hidden_size, eps=1e-6)\n",
        "        self.ffn = Mlp(config, is_quant=is_quant)\n",
        "        self.attn = Attention(config, vis, is_quant=is_quant)\n",
        "\n",
        "        self.is_quant = is_quant\n",
        "        self.quant = torch.quantization.QuantStub()\n",
        "        self.dequant = torch.quantization.DeQuantStub()\n",
        "\n",
        "    def forward(self, x):\n",
        "        h = x\n",
        "        x = self.attention_norm(x)\n",
        "        x, weights = self.attn(x)\n",
        "        if self.is_quant:\n",
        "          x = self.dequant(x)\n",
        "          h = self.dequant(h)\n",
        "        x = x + h\n",
        "        if self.is_quant:\n",
        "          x = self.quant(x)\n",
        "\n",
        "        h = x\n",
        "        x = self.ffn_norm(x)\n",
        "        x = self.ffn(x)\n",
        "        if self.is_quant:\n",
        "          x = self.dequant(x)\n",
        "          h = self.dequant(h)\n",
        "        x = x + h\n",
        "        if self.is_quant:\n",
        "          x = self.quant(x)\n",
        "        return x, weights\n",
        "\n",
        "\n",
        "class Encoder(nn.Module):\n",
        "    def __init__(self, config, vis, is_quant=False):\n",
        "        super(Encoder, self).__init__()\n",
        "        self.vis = vis\n",
        "        self.layer = nn.ModuleList()\n",
        "        self.encoder_norm = LayerNorm(config.hidden_size, eps=1e-6)\n",
        "        for _ in range(config.transformer[\"num_layers\"]):\n",
        "            layer = Block(config, vis, is_quant=is_quant)\n",
        "            self.layer.append(copy.deepcopy(layer))\n",
        "\n",
        "    def forward(self, hidden_states):\n",
        "        attn_weights = []\n",
        "        for layer_block in self.layer:\n",
        "            hidden_states, weights = layer_block(hidden_states)\n",
        "            if self.vis:\n",
        "                attn_weights.append(weights)\n",
        "        encoded = self.encoder_norm(hidden_states)\n",
        "        return encoded, attn_weights\n",
        "\n",
        "\n",
        "class Transformer(nn.Module):\n",
        "    def __init__(self, config, img_size, vis, is_quant=False):\n",
        "        super(Transformer, self).__init__()\n",
        "        self.embeddings = Embeddings(config, img_size=img_size, is_quant=is_quant)\n",
        "        self.encoder = Encoder(config, vis, is_quant=is_quant)\n",
        "\n",
        "    def forward(self, input_ids):\n",
        "        embedding_output = self.embeddings(input_ids)\n",
        "        encoded, attn_weights = self.encoder(embedding_output)\n",
        "        return encoded, attn_weights\n",
        "\n",
        "\n",
        "class VisionTransformer(nn.Module):\n",
        "    def __init__(self, config, img_size=224, num_classes=21843, zero_head=False, vis=False, is_quant=False):\n",
        "        super(VisionTransformer, self).__init__()\n",
        "        self.num_classes = num_classes\n",
        "        self.zero_head = zero_head\n",
        "        self.classifier = config.classifier\n",
        "\n",
        "        self.transformer = Transformer(config, img_size, vis, is_quant=is_quant)\n",
        "        self.head = Linear(config.hidden_size, num_classes)\n",
        "\n",
        "        self.is_quant = is_quant\n",
        "        self.quant = torch.quantization.QuantStub()\n",
        "        self.dequant = torch.quantization.DeQuantStub()\n",
        "\n",
        "    def forward(self, x, labels=None):\n",
        "        if self.is_quant:\n",
        "          x = self.quant(x)\n",
        "        x, attn_weights = self.transformer(x)\n",
        "        logits = self.head(x[:, 0])\n",
        "\n",
        "        if self.is_quant:\n",
        "          logits = self.dequant(logits)\n",
        "        if labels is not None:\n",
        "            loss_fct = CrossEntropyLoss()\n",
        "            loss = loss_fct(logits.view(-1, self.num_classes), labels.view(-1))\n",
        "            return loss\n",
        "        else:\n",
        "            return logits, attn_weights\n",
        "\n",
        "\n",
        "CONFIGS = {\n",
        "    'ViT-B_16': configs.get_b16_config(),\n",
        "    'ViT-B_32': configs.get_b32_config(),\n",
        "    'ViT-L_16': configs.get_l16_config(),\n",
        "    'ViT-L_32': configs.get_l32_config(),\n",
        "    'ViT-H_14': configs.get_h14_config(),\n",
        "    'R50-ViT-B_16': configs.get_r50_b16_config(),\n",
        "    'testing': configs.get_testing(),\n",
        "}\n"
      ]
    },
    {
      "cell_type": "code",
      "execution_count": 5,
      "metadata": {
        "id": "3208CvASUeR3"
      },
      "outputs": [],
      "source": [
        "def simple_accuracy(preds, labels):\n",
        "    return (preds == labels).mean()\n",
        "\n",
        "def test(model, test_loader):\n",
        "  model.eval()\n",
        "  all_preds, all_label = [], []\n",
        "  epoch_iterator = tqdm(test_loader,\n",
        "                        desc=\"Validating... (loss=X.X)\",\n",
        "                        bar_format=\"{l_bar}{r_bar}\",\n",
        "                        dynamic_ncols=True,\n",
        "                        disable=args.local_rank not in [-1, 0])\n",
        "  loss_fct = torch.nn.CrossEntropyLoss()\n",
        "  for step, batch in enumerate(epoch_iterator):\n",
        "      batch = tuple(t.to(args.device) for t in batch)\n",
        "      x, y = batch\n",
        "      with torch.no_grad():\n",
        "          logits = model(x)\n",
        "          print(logits.shape)\n",
        "          eval_loss = loss_fct(logits, y)\n",
        "          # eval_losses.update(eval_loss.item())\n",
        "\n",
        "          preds = torch.argmax(logits, dim=-1)\n",
        "      # assert False\n",
        "      if len(all_preds) == 0:\n",
        "          all_preds.append(preds.detach().cpu().numpy())\n",
        "          all_label.append(y.detach().cpu().numpy())\n",
        "      else:\n",
        "          all_preds[0] = np.append(\n",
        "              all_preds[0], preds.detach().cpu().numpy(), axis=0\n",
        "          )\n",
        "          all_label[0] = np.append(\n",
        "              all_label[0], y.detach().cpu().numpy(), axis=0\n",
        "          )\n",
        "      # epoch_iterator.set_description(\"Validating... (loss=%2.5f)\" % eval_losses.val)\n",
        "\n",
        "  all_preds, all_label = all_preds[0], all_label[0]\n",
        "  accuracy = simple_accuracy(all_preds, all_label)\n",
        "  print(\"Valid Accuracy: %2.5f\" % accuracy)"
      ]
    },
    {
      "cell_type": "markdown",
      "source": [
        "### Original Model"
      ],
      "metadata": {
        "id": "Q3UCpd8Y9Awb"
      }
    },
    {
      "cell_type": "code",
      "source": [
        "!pip install timm"
      ],
      "metadata": {
        "colab": {
          "base_uri": "https://localhost:8080/"
        },
        "id": "oCNSlsyKg-V_",
        "outputId": "32dd1bcb-3a36-442c-a7b2-9e53f168f597"
      },
      "execution_count": 6,
      "outputs": [
        {
          "output_type": "stream",
          "name": "stdout",
          "text": [
            "Collecting timm\n",
            "  Downloading timm-0.5.4-py3-none-any.whl (431 kB)\n",
            "\u001b[?25l\r\u001b[K     |▊                               | 10 kB 28.0 MB/s eta 0:00:01\r\u001b[K     |█▌                              | 20 kB 30.5 MB/s eta 0:00:01\r\u001b[K     |██▎                             | 30 kB 35.8 MB/s eta 0:00:01\r\u001b[K     |███                             | 40 kB 23.8 MB/s eta 0:00:01\r\u001b[K     |███▉                            | 51 kB 17.8 MB/s eta 0:00:01\r\u001b[K     |████▋                           | 61 kB 20.2 MB/s eta 0:00:01\r\u001b[K     |█████▎                          | 71 kB 21.5 MB/s eta 0:00:01\r\u001b[K     |██████                          | 81 kB 22.9 MB/s eta 0:00:01\r\u001b[K     |██████▉                         | 92 kB 24.9 MB/s eta 0:00:01\r\u001b[K     |███████▋                        | 102 kB 25.3 MB/s eta 0:00:01\r\u001b[K     |████████▍                       | 112 kB 25.3 MB/s eta 0:00:01\r\u001b[K     |█████████▏                      | 122 kB 25.3 MB/s eta 0:00:01\r\u001b[K     |█████████▉                      | 133 kB 25.3 MB/s eta 0:00:01\r\u001b[K     |██████████▋                     | 143 kB 25.3 MB/s eta 0:00:01\r\u001b[K     |███████████▍                    | 153 kB 25.3 MB/s eta 0:00:01\r\u001b[K     |████████████▏                   | 163 kB 25.3 MB/s eta 0:00:01\r\u001b[K     |█████████████                   | 174 kB 25.3 MB/s eta 0:00:01\r\u001b[K     |█████████████▊                  | 184 kB 25.3 MB/s eta 0:00:01\r\u001b[K     |██████████████▍                 | 194 kB 25.3 MB/s eta 0:00:01\r\u001b[K     |███████████████▏                | 204 kB 25.3 MB/s eta 0:00:01\r\u001b[K     |████████████████                | 215 kB 25.3 MB/s eta 0:00:01\r\u001b[K     |████████████████▊               | 225 kB 25.3 MB/s eta 0:00:01\r\u001b[K     |█████████████████▌              | 235 kB 25.3 MB/s eta 0:00:01\r\u001b[K     |██████████████████▎             | 245 kB 25.3 MB/s eta 0:00:01\r\u001b[K     |███████████████████             | 256 kB 25.3 MB/s eta 0:00:01\r\u001b[K     |███████████████████▊            | 266 kB 25.3 MB/s eta 0:00:01\r\u001b[K     |████████████████████▌           | 276 kB 25.3 MB/s eta 0:00:01\r\u001b[K     |█████████████████████▎          | 286 kB 25.3 MB/s eta 0:00:01\r\u001b[K     |██████████████████████          | 296 kB 25.3 MB/s eta 0:00:01\r\u001b[K     |██████████████████████▉         | 307 kB 25.3 MB/s eta 0:00:01\r\u001b[K     |███████████████████████▌        | 317 kB 25.3 MB/s eta 0:00:01\r\u001b[K     |████████████████████████▎       | 327 kB 25.3 MB/s eta 0:00:01\r\u001b[K     |█████████████████████████       | 337 kB 25.3 MB/s eta 0:00:01\r\u001b[K     |█████████████████████████▉      | 348 kB 25.3 MB/s eta 0:00:01\r\u001b[K     |██████████████████████████▋     | 358 kB 25.3 MB/s eta 0:00:01\r\u001b[K     |███████████████████████████▍    | 368 kB 25.3 MB/s eta 0:00:01\r\u001b[K     |████████████████████████████    | 378 kB 25.3 MB/s eta 0:00:01\r\u001b[K     |████████████████████████████▉   | 389 kB 25.3 MB/s eta 0:00:01\r\u001b[K     |█████████████████████████████▋  | 399 kB 25.3 MB/s eta 0:00:01\r\u001b[K     |██████████████████████████████▍ | 409 kB 25.3 MB/s eta 0:00:01\r\u001b[K     |███████████████████████████████▏| 419 kB 25.3 MB/s eta 0:00:01\r\u001b[K     |████████████████████████████████| 430 kB 25.3 MB/s eta 0:00:01\r\u001b[K     |████████████████████████████████| 431 kB 25.3 MB/s \n",
            "\u001b[?25hRequirement already satisfied: torch>=1.4 in /usr/local/lib/python3.7/dist-packages (from timm) (1.10.0+cu111)\n",
            "Requirement already satisfied: torchvision in /usr/local/lib/python3.7/dist-packages (from timm) (0.11.1+cu111)\n",
            "Requirement already satisfied: typing-extensions in /usr/local/lib/python3.7/dist-packages (from torch>=1.4->timm) (3.10.0.2)\n",
            "Requirement already satisfied: numpy in /usr/local/lib/python3.7/dist-packages (from torchvision->timm) (1.21.5)\n",
            "Requirement already satisfied: pillow!=8.3.0,>=5.3.0 in /usr/local/lib/python3.7/dist-packages (from torchvision->timm) (7.1.2)\n",
            "Installing collected packages: timm\n",
            "Successfully installed timm-0.5.4\n"
          ]
        }
      ]
    },
    {
      "cell_type": "code",
      "execution_count": 7,
      "metadata": {
        "colab": {
          "base_uri": "https://localhost:8080/",
          "height": 102,
          "referenced_widgets": [
            "3a8bfa877ea14610b23cb04f042b0be7",
            "e1db7e1296a045f4b803900a5c62cffe",
            "2ac369f1a39046ae8b313bc74086bbf6",
            "dd0eb4126465463381530ae74329d3f6",
            "6760cc08545444759f378e3af8e39f61",
            "f5d96be001a5428e88109f372a322f0a",
            "c8ccd146b39b4c5099c324c9e28c8704",
            "d593a5e65cba4a229d9c9f45761bb35f",
            "c95a4e1e255744b19c18328f91986057",
            "aaa31e1bf9eb47548403cd286c8db2d9",
            "73edbacecd6f4b389fa724e93306f0b7"
          ]
        },
        "id": "w9chZMfcSYaW",
        "outputId": "a02f2f9d-167a-4bc5-c077-ebf8215c0c7f"
      },
      "outputs": [
        {
          "output_type": "stream",
          "name": "stdout",
          "text": [
            "Downloading https://www.cs.toronto.edu/~kriz/cifar-100-python.tar.gz to ./data/cifar-100-python.tar.gz\n"
          ]
        },
        {
          "output_type": "display_data",
          "data": {
            "text/plain": [
              "  0%|          | 0/169001437 [00:00<?, ?it/s]"
            ],
            "application/vnd.jupyter.widget-view+json": {
              "version_major": 2,
              "version_minor": 0,
              "model_id": "3a8bfa877ea14610b23cb04f042b0be7"
            }
          },
          "metadata": {}
        },
        {
          "output_type": "stream",
          "name": "stdout",
          "text": [
            "Extracting ./data/cifar-100-python.tar.gz to ./data\n",
            "Files already downloaded and verified\n"
          ]
        }
      ],
      "source": [
        "\n",
        "from timm.models import create_model\n",
        "model = create_model(\n",
        "        'deit_base_patch16_224',\n",
        "        pretrained=False,\n",
        "        num_classes=100,\n",
        "        drop_rate=0.0,\n",
        "        drop_path_rate=0.1,\n",
        "        drop_block_rate=None,\n",
        "    )\n",
        "\n",
        "num_classes = 10 if args.dataset == \"cifar10\" else 100\n",
        "\n",
        "checkpoint = torch.load(args.pretrained_model, map_location=args.device)\n",
        "\n",
        "checkpoint_model = checkpoint['model']\n",
        "state_dict = model.state_dict()\n",
        "for k in ['head.weight', 'head.bias', 'head_dist.weight', 'head_dist.bias']:\n",
        "    if k in checkpoint_model and checkpoint_model[k].shape != state_dict[k].shape:\n",
        "        print(f\"Removing key {k} from pretrained checkpoint\")\n",
        "        del checkpoint_model[k]\n",
        "\n",
        "pos_embed_checkpoint = checkpoint_model['pos_embed']\n",
        "embedding_size = pos_embed_checkpoint.shape[-1]\n",
        "num_patches = model.patch_embed.num_patches\n",
        "num_extra_tokens = model.pos_embed.shape[-2] - num_patches\n",
        "\n",
        "orig_size = int((pos_embed_checkpoint.shape[-2] - num_extra_tokens) ** 0.5)\n",
        "\n",
        "new_size = int(num_patches ** 0.5)\n",
        "\n",
        "extra_tokens = pos_embed_checkpoint[:, :num_extra_tokens]\n",
        "\n",
        "pos_tokens = pos_embed_checkpoint[:, num_extra_tokens:]\n",
        "pos_tokens = pos_tokens.reshape(-1, orig_size, orig_size, embedding_size).permute(0, 3, 1, 2)\n",
        "pos_tokens = torch.nn.functional.interpolate(\n",
        "    pos_tokens, size=(new_size, new_size), mode='bicubic', align_corners=False)\n",
        "pos_tokens = pos_tokens.permute(0, 2, 3, 1).flatten(1, 2)\n",
        "new_pos_embed = torch.cat((extra_tokens, pos_tokens), dim=1)\n",
        "checkpoint_model['pos_embed'] = new_pos_embed\n",
        "\n",
        "model.load_state_dict(checkpoint_model, strict=False)\n",
        "'''\n",
        "config = CONFIGS[args.model_type]\n",
        "checkpoint = torch.load(args.pretrained_model, map_location=args.device)\n",
        "model = VisionTransformer(config, args.img_size, zero_head=True, num_classes=100)\n",
        "model.load_state_dict(checkpoint)\n",
        "'''\n",
        "model.to(args.device)\n",
        "train_loader, test_loader = get_loader(args)"
      ]
    },
    {
      "cell_type": "code",
      "execution_count": 26,
      "metadata": {
        "colab": {
          "base_uri": "https://localhost:8080/"
        },
        "id": "rbUXkRNxVjls",
        "outputId": "02472d27-146b-4ac4-ed76-cc5ff7ab0a70"
      },
      "outputs": [
        {
          "output_type": "stream",
          "name": "stderr",
          "text": [
            "Validating... (loss=X.X):   1%|| 1/157 [00:11<30:35, 11.77s/it]"
          ]
        },
        {
          "output_type": "stream",
          "name": "stdout",
          "text": [
            "torch.Size([64, 100])\n"
          ]
        },
        {
          "output_type": "stream",
          "name": "stderr",
          "text": [
            "\rValidating... (loss=X.X):   1%|| 2/157 [00:22<28:19, 10.97s/it]"
          ]
        },
        {
          "output_type": "stream",
          "name": "stdout",
          "text": [
            "torch.Size([64, 100])\n"
          ]
        },
        {
          "output_type": "stream",
          "name": "stderr",
          "text": [
            "\rValidating... (loss=X.X):   2%|| 3/157 [00:32<27:31, 10.73s/it]"
          ]
        },
        {
          "output_type": "stream",
          "name": "stdout",
          "text": [
            "torch.Size([64, 100])\n"
          ]
        },
        {
          "output_type": "stream",
          "name": "stderr",
          "text": [
            "\rValidating... (loss=X.X):   3%|| 4/157 [00:43<27:51, 10.93s/it]"
          ]
        },
        {
          "output_type": "stream",
          "name": "stdout",
          "text": [
            "torch.Size([64, 100])\n"
          ]
        },
        {
          "output_type": "stream",
          "name": "stderr",
          "text": [
            "\rValidating... (loss=X.X):   3%|| 5/157 [00:54<27:28, 10.84s/it]"
          ]
        },
        {
          "output_type": "stream",
          "name": "stdout",
          "text": [
            "torch.Size([64, 100])\n"
          ]
        },
        {
          "output_type": "stream",
          "name": "stderr",
          "text": [
            "\rValidating... (loss=X.X):   4%|| 6/157 [01:04<26:50, 10.66s/it]"
          ]
        },
        {
          "output_type": "stream",
          "name": "stdout",
          "text": [
            "torch.Size([64, 100])\n"
          ]
        },
        {
          "output_type": "stream",
          "name": "stderr",
          "text": [
            "\rValidating... (loss=X.X):   4%|| 7/157 [01:15<26:22, 10.55s/it]"
          ]
        },
        {
          "output_type": "stream",
          "name": "stdout",
          "text": [
            "torch.Size([64, 100])\n"
          ]
        },
        {
          "output_type": "stream",
          "name": "stderr",
          "text": [
            "\rValidating... (loss=X.X):   5%|| 8/157 [01:25<25:59, 10.47s/it]"
          ]
        },
        {
          "output_type": "stream",
          "name": "stdout",
          "text": [
            "torch.Size([64, 100])\n"
          ]
        },
        {
          "output_type": "stream",
          "name": "stderr",
          "text": [
            "\rValidating... (loss=X.X):   6%|| 9/157 [01:35<25:45, 10.44s/it]"
          ]
        },
        {
          "output_type": "stream",
          "name": "stdout",
          "text": [
            "torch.Size([64, 100])\n"
          ]
        },
        {
          "output_type": "stream",
          "name": "stderr",
          "text": [
            "\rValidating... (loss=X.X):   6%|| 10/157 [01:46<25:35, 10.44s/it]"
          ]
        },
        {
          "output_type": "stream",
          "name": "stdout",
          "text": [
            "torch.Size([64, 100])\n"
          ]
        },
        {
          "output_type": "stream",
          "name": "stderr",
          "text": [
            "\rValidating... (loss=X.X):   7%|| 11/157 [01:56<25:22, 10.43s/it]"
          ]
        },
        {
          "output_type": "stream",
          "name": "stdout",
          "text": [
            "torch.Size([64, 100])\n"
          ]
        },
        {
          "output_type": "stream",
          "name": "stderr",
          "text": [
            "\rValidating... (loss=X.X):   8%|| 12/157 [02:07<25:13, 10.44s/it]"
          ]
        },
        {
          "output_type": "stream",
          "name": "stdout",
          "text": [
            "torch.Size([64, 100])\n"
          ]
        },
        {
          "output_type": "stream",
          "name": "stderr",
          "text": [
            "\rValidating... (loss=X.X):   8%|| 13/157 [02:17<25:00, 10.42s/it]"
          ]
        },
        {
          "output_type": "stream",
          "name": "stdout",
          "text": [
            "torch.Size([64, 100])\n"
          ]
        },
        {
          "output_type": "stream",
          "name": "stderr",
          "text": [
            "\rValidating... (loss=X.X):   9%|| 14/157 [02:27<24:46, 10.39s/it]"
          ]
        },
        {
          "output_type": "stream",
          "name": "stdout",
          "text": [
            "torch.Size([64, 100])\n"
          ]
        },
        {
          "output_type": "stream",
          "name": "stderr",
          "text": [
            "\rValidating... (loss=X.X):  10%|| 15/157 [02:38<24:32, 10.37s/it]"
          ]
        },
        {
          "output_type": "stream",
          "name": "stdout",
          "text": [
            "torch.Size([64, 100])\n"
          ]
        },
        {
          "output_type": "stream",
          "name": "stderr",
          "text": [
            "\rValidating... (loss=X.X):  10%|| 16/157 [02:48<24:24, 10.38s/it]"
          ]
        },
        {
          "output_type": "stream",
          "name": "stdout",
          "text": [
            "torch.Size([64, 100])\n"
          ]
        },
        {
          "output_type": "stream",
          "name": "stderr",
          "text": [
            "\rValidating... (loss=X.X):  11%|| 17/157 [02:58<24:13, 10.38s/it]"
          ]
        },
        {
          "output_type": "stream",
          "name": "stdout",
          "text": [
            "torch.Size([64, 100])\n"
          ]
        },
        {
          "output_type": "stream",
          "name": "stderr",
          "text": [
            "\rValidating... (loss=X.X):  11%|| 18/157 [03:09<23:59, 10.36s/it]"
          ]
        },
        {
          "output_type": "stream",
          "name": "stdout",
          "text": [
            "torch.Size([64, 100])\n"
          ]
        },
        {
          "output_type": "stream",
          "name": "stderr",
          "text": [
            "\rValidating... (loss=X.X):  12%|| 19/157 [03:19<23:47, 10.35s/it]"
          ]
        },
        {
          "output_type": "stream",
          "name": "stdout",
          "text": [
            "torch.Size([64, 100])\n"
          ]
        },
        {
          "output_type": "stream",
          "name": "stderr",
          "text": [
            "\rValidating... (loss=X.X):  13%|| 20/157 [03:29<23:34, 10.33s/it]"
          ]
        },
        {
          "output_type": "stream",
          "name": "stdout",
          "text": [
            "torch.Size([64, 100])\n"
          ]
        },
        {
          "output_type": "stream",
          "name": "stderr",
          "text": [
            "\rValidating... (loss=X.X):  13%|| 21/157 [03:40<23:25, 10.34s/it]"
          ]
        },
        {
          "output_type": "stream",
          "name": "stdout",
          "text": [
            "torch.Size([64, 100])\n"
          ]
        },
        {
          "output_type": "stream",
          "name": "stderr",
          "text": [
            "\rValidating... (loss=X.X):  14%|| 22/157 [03:50<23:15, 10.33s/it]"
          ]
        },
        {
          "output_type": "stream",
          "name": "stdout",
          "text": [
            "torch.Size([64, 100])\n"
          ]
        },
        {
          "output_type": "stream",
          "name": "stderr",
          "text": [
            "\rValidating... (loss=X.X):  15%|| 23/157 [04:00<23:04, 10.34s/it]"
          ]
        },
        {
          "output_type": "stream",
          "name": "stdout",
          "text": [
            "torch.Size([64, 100])\n"
          ]
        },
        {
          "output_type": "stream",
          "name": "stderr",
          "text": [
            "\rValidating... (loss=X.X):  15%|| 24/157 [04:11<22:53, 10.33s/it]"
          ]
        },
        {
          "output_type": "stream",
          "name": "stdout",
          "text": [
            "torch.Size([64, 100])\n"
          ]
        },
        {
          "output_type": "stream",
          "name": "stderr",
          "text": [
            "\rValidating... (loss=X.X):  16%|| 25/157 [04:21<22:44, 10.34s/it]"
          ]
        },
        {
          "output_type": "stream",
          "name": "stdout",
          "text": [
            "torch.Size([64, 100])\n"
          ]
        },
        {
          "output_type": "stream",
          "name": "stderr",
          "text": [
            "\rValidating... (loss=X.X):  17%|| 26/157 [04:32<22:42, 10.40s/it]"
          ]
        },
        {
          "output_type": "stream",
          "name": "stdout",
          "text": [
            "torch.Size([64, 100])\n"
          ]
        },
        {
          "output_type": "stream",
          "name": "stderr",
          "text": [
            "\rValidating... (loss=X.X):  17%|| 27/157 [04:42<22:32, 10.41s/it]"
          ]
        },
        {
          "output_type": "stream",
          "name": "stdout",
          "text": [
            "torch.Size([64, 100])\n"
          ]
        },
        {
          "output_type": "stream",
          "name": "stderr",
          "text": [
            "\rValidating... (loss=X.X):  18%|| 28/157 [04:52<22:24, 10.42s/it]"
          ]
        },
        {
          "output_type": "stream",
          "name": "stdout",
          "text": [
            "torch.Size([64, 100])\n"
          ]
        },
        {
          "output_type": "stream",
          "name": "stderr",
          "text": [
            "\rValidating... (loss=X.X):  18%|| 29/157 [05:03<22:12, 10.41s/it]"
          ]
        },
        {
          "output_type": "stream",
          "name": "stdout",
          "text": [
            "torch.Size([64, 100])\n"
          ]
        },
        {
          "output_type": "stream",
          "name": "stderr",
          "text": [
            "\rValidating... (loss=X.X):  19%|| 30/157 [05:13<22:03, 10.42s/it]"
          ]
        },
        {
          "output_type": "stream",
          "name": "stdout",
          "text": [
            "torch.Size([64, 100])\n"
          ]
        },
        {
          "output_type": "stream",
          "name": "stderr",
          "text": [
            "\rValidating... (loss=X.X):  20%|| 31/157 [05:24<21:52, 10.41s/it]"
          ]
        },
        {
          "output_type": "stream",
          "name": "stdout",
          "text": [
            "torch.Size([64, 100])\n"
          ]
        },
        {
          "output_type": "stream",
          "name": "stderr",
          "text": [
            "\rValidating... (loss=X.X):  20%|| 32/157 [05:34<21:38, 10.39s/it]"
          ]
        },
        {
          "output_type": "stream",
          "name": "stdout",
          "text": [
            "torch.Size([64, 100])\n"
          ]
        },
        {
          "output_type": "stream",
          "name": "stderr",
          "text": [
            "\rValidating... (loss=X.X):  21%|| 33/157 [05:44<21:25, 10.37s/it]"
          ]
        },
        {
          "output_type": "stream",
          "name": "stdout",
          "text": [
            "torch.Size([64, 100])\n"
          ]
        },
        {
          "output_type": "stream",
          "name": "stderr",
          "text": [
            "\rValidating... (loss=X.X):  22%|| 34/157 [05:55<21:09, 10.32s/it]"
          ]
        },
        {
          "output_type": "stream",
          "name": "stdout",
          "text": [
            "torch.Size([64, 100])\n"
          ]
        },
        {
          "output_type": "stream",
          "name": "stderr",
          "text": [
            "\rValidating... (loss=X.X):  22%|| 35/157 [06:05<20:57, 10.31s/it]"
          ]
        },
        {
          "output_type": "stream",
          "name": "stdout",
          "text": [
            "torch.Size([64, 100])\n"
          ]
        },
        {
          "output_type": "stream",
          "name": "stderr",
          "text": [
            "\rValidating... (loss=X.X):  23%|| 36/157 [06:15<20:42, 10.27s/it]"
          ]
        },
        {
          "output_type": "stream",
          "name": "stdout",
          "text": [
            "torch.Size([64, 100])\n"
          ]
        },
        {
          "output_type": "stream",
          "name": "stderr",
          "text": [
            "\rValidating... (loss=X.X):  24%|| 37/157 [06:25<20:29, 10.25s/it]"
          ]
        },
        {
          "output_type": "stream",
          "name": "stdout",
          "text": [
            "torch.Size([64, 100])\n"
          ]
        },
        {
          "output_type": "stream",
          "name": "stderr",
          "text": [
            "\rValidating... (loss=X.X):  24%|| 38/157 [06:35<20:16, 10.22s/it]"
          ]
        },
        {
          "output_type": "stream",
          "name": "stdout",
          "text": [
            "torch.Size([64, 100])\n"
          ]
        },
        {
          "output_type": "stream",
          "name": "stderr",
          "text": [
            "\rValidating... (loss=X.X):  25%|| 39/157 [06:46<20:17, 10.31s/it]"
          ]
        },
        {
          "output_type": "stream",
          "name": "stdout",
          "text": [
            "torch.Size([64, 100])\n"
          ]
        },
        {
          "output_type": "stream",
          "name": "stderr",
          "text": [
            "\rValidating... (loss=X.X):  25%|| 40/157 [06:56<20:06, 10.32s/it]"
          ]
        },
        {
          "output_type": "stream",
          "name": "stdout",
          "text": [
            "torch.Size([64, 100])\n"
          ]
        },
        {
          "output_type": "stream",
          "name": "stderr",
          "text": [
            "\rValidating... (loss=X.X):  26%|| 41/157 [07:06<19:52, 10.28s/it]"
          ]
        },
        {
          "output_type": "stream",
          "name": "stdout",
          "text": [
            "torch.Size([64, 100])\n"
          ]
        },
        {
          "output_type": "stream",
          "name": "stderr",
          "text": [
            "\rValidating... (loss=X.X):  27%|| 42/157 [07:17<19:40, 10.26s/it]"
          ]
        },
        {
          "output_type": "stream",
          "name": "stdout",
          "text": [
            "torch.Size([64, 100])\n"
          ]
        },
        {
          "output_type": "stream",
          "name": "stderr",
          "text": [
            "\rValidating... (loss=X.X):  27%|| 43/157 [07:27<19:25, 10.22s/it]"
          ]
        },
        {
          "output_type": "stream",
          "name": "stdout",
          "text": [
            "torch.Size([64, 100])\n"
          ]
        },
        {
          "output_type": "stream",
          "name": "stderr",
          "text": [
            "\rValidating... (loss=X.X):  28%|| 44/157 [07:37<19:14, 10.22s/it]"
          ]
        },
        {
          "output_type": "stream",
          "name": "stdout",
          "text": [
            "torch.Size([64, 100])\n"
          ]
        },
        {
          "output_type": "stream",
          "name": "stderr",
          "text": [
            "\rValidating... (loss=X.X):  29%|| 45/157 [07:47<19:06, 10.24s/it]"
          ]
        },
        {
          "output_type": "stream",
          "name": "stdout",
          "text": [
            "torch.Size([64, 100])\n"
          ]
        },
        {
          "output_type": "stream",
          "name": "stderr",
          "text": [
            "\rValidating... (loss=X.X):  29%|| 46/157 [07:57<18:54, 10.22s/it]"
          ]
        },
        {
          "output_type": "stream",
          "name": "stdout",
          "text": [
            "torch.Size([64, 100])\n"
          ]
        },
        {
          "output_type": "stream",
          "name": "stderr",
          "text": [
            "\rValidating... (loss=X.X):  30%|| 47/157 [08:09<19:22, 10.57s/it]"
          ]
        },
        {
          "output_type": "stream",
          "name": "stdout",
          "text": [
            "torch.Size([64, 100])\n"
          ]
        },
        {
          "output_type": "stream",
          "name": "stderr",
          "text": [
            "\rValidating... (loss=X.X):  31%|| 48/157 [08:21<20:07, 11.08s/it]"
          ]
        },
        {
          "output_type": "stream",
          "name": "stdout",
          "text": [
            "torch.Size([64, 100])\n"
          ]
        },
        {
          "output_type": "stream",
          "name": "stderr",
          "text": [
            "\rValidating... (loss=X.X):  31%|| 49/157 [08:31<19:26, 10.80s/it]"
          ]
        },
        {
          "output_type": "stream",
          "name": "stdout",
          "text": [
            "torch.Size([64, 100])\n"
          ]
        },
        {
          "output_type": "stream",
          "name": "stderr",
          "text": [
            "\rValidating... (loss=X.X):  32%|| 50/157 [08:41<18:57, 10.63s/it]"
          ]
        },
        {
          "output_type": "stream",
          "name": "stdout",
          "text": [
            "torch.Size([64, 100])\n"
          ]
        },
        {
          "output_type": "stream",
          "name": "stderr",
          "text": [
            "\rValidating... (loss=X.X):  32%|| 51/157 [08:52<18:31, 10.48s/it]"
          ]
        },
        {
          "output_type": "stream",
          "name": "stdout",
          "text": [
            "torch.Size([64, 100])\n"
          ]
        },
        {
          "output_type": "stream",
          "name": "stderr",
          "text": [
            "\rValidating... (loss=X.X):  33%|| 52/157 [09:02<18:07, 10.36s/it]"
          ]
        },
        {
          "output_type": "stream",
          "name": "stdout",
          "text": [
            "torch.Size([64, 100])\n"
          ]
        },
        {
          "output_type": "stream",
          "name": "stderr",
          "text": [
            "\rValidating... (loss=X.X):  34%|| 53/157 [09:12<17:50, 10.29s/it]"
          ]
        },
        {
          "output_type": "stream",
          "name": "stdout",
          "text": [
            "torch.Size([64, 100])\n"
          ]
        },
        {
          "output_type": "stream",
          "name": "stderr",
          "text": [
            "\rValidating... (loss=X.X):  34%|| 54/157 [09:22<17:33, 10.23s/it]"
          ]
        },
        {
          "output_type": "stream",
          "name": "stdout",
          "text": [
            "torch.Size([64, 100])\n"
          ]
        },
        {
          "output_type": "stream",
          "name": "stderr",
          "text": [
            "\rValidating... (loss=X.X):  35%|| 55/157 [09:32<17:20, 10.20s/it]"
          ]
        },
        {
          "output_type": "stream",
          "name": "stdout",
          "text": [
            "torch.Size([64, 100])\n"
          ]
        },
        {
          "output_type": "stream",
          "name": "stderr",
          "text": [
            "\rValidating... (loss=X.X):  36%|| 56/157 [09:42<17:09, 10.19s/it]"
          ]
        },
        {
          "output_type": "stream",
          "name": "stdout",
          "text": [
            "torch.Size([64, 100])\n"
          ]
        },
        {
          "output_type": "stream",
          "name": "stderr",
          "text": [
            "\rValidating... (loss=X.X):  36%|| 57/157 [09:52<16:57, 10.17s/it]"
          ]
        },
        {
          "output_type": "stream",
          "name": "stdout",
          "text": [
            "torch.Size([64, 100])\n"
          ]
        },
        {
          "output_type": "stream",
          "name": "stderr",
          "text": [
            "\rValidating... (loss=X.X):  37%|| 58/157 [10:02<16:45, 10.16s/it]"
          ]
        },
        {
          "output_type": "stream",
          "name": "stdout",
          "text": [
            "torch.Size([64, 100])\n"
          ]
        },
        {
          "output_type": "stream",
          "name": "stderr",
          "text": [
            "\rValidating... (loss=X.X):  38%|| 59/157 [10:13<16:36, 10.17s/it]"
          ]
        },
        {
          "output_type": "stream",
          "name": "stdout",
          "text": [
            "torch.Size([64, 100])\n"
          ]
        },
        {
          "output_type": "stream",
          "name": "stderr",
          "text": [
            "\rValidating... (loss=X.X):  38%|| 60/157 [10:23<16:28, 10.19s/it]"
          ]
        },
        {
          "output_type": "stream",
          "name": "stdout",
          "text": [
            "torch.Size([64, 100])\n"
          ]
        },
        {
          "output_type": "stream",
          "name": "stderr",
          "text": [
            "\rValidating... (loss=X.X):  39%|| 61/157 [10:33<16:17, 10.19s/it]"
          ]
        },
        {
          "output_type": "stream",
          "name": "stdout",
          "text": [
            "torch.Size([64, 100])\n"
          ]
        },
        {
          "output_type": "stream",
          "name": "stderr",
          "text": [
            "\rValidating... (loss=X.X):  39%|| 62/157 [10:43<16:06, 10.18s/it]"
          ]
        },
        {
          "output_type": "stream",
          "name": "stdout",
          "text": [
            "torch.Size([64, 100])\n"
          ]
        },
        {
          "output_type": "stream",
          "name": "stderr",
          "text": [
            "\rValidating... (loss=X.X):  40%|| 63/157 [10:53<15:55, 10.16s/it]"
          ]
        },
        {
          "output_type": "stream",
          "name": "stdout",
          "text": [
            "torch.Size([64, 100])\n"
          ]
        },
        {
          "output_type": "stream",
          "name": "stderr",
          "text": [
            "\rValidating... (loss=X.X):  41%|| 64/157 [11:03<15:43, 10.14s/it]"
          ]
        },
        {
          "output_type": "stream",
          "name": "stdout",
          "text": [
            "torch.Size([64, 100])\n"
          ]
        },
        {
          "output_type": "stream",
          "name": "stderr",
          "text": [
            "\rValidating... (loss=X.X):  41%|| 65/157 [11:14<15:34, 10.16s/it]"
          ]
        },
        {
          "output_type": "stream",
          "name": "stdout",
          "text": [
            "torch.Size([64, 100])\n"
          ]
        },
        {
          "output_type": "stream",
          "name": "stderr",
          "text": [
            "\rValidating... (loss=X.X):  42%|| 66/157 [11:24<15:25, 10.17s/it]"
          ]
        },
        {
          "output_type": "stream",
          "name": "stdout",
          "text": [
            "torch.Size([64, 100])\n"
          ]
        },
        {
          "output_type": "stream",
          "name": "stderr",
          "text": [
            "\rValidating... (loss=X.X):  43%|| 67/157 [11:34<15:16, 10.18s/it]"
          ]
        },
        {
          "output_type": "stream",
          "name": "stdout",
          "text": [
            "torch.Size([64, 100])\n"
          ]
        },
        {
          "output_type": "stream",
          "name": "stderr",
          "text": [
            "\rValidating... (loss=X.X):  43%|| 68/157 [11:44<15:04, 10.17s/it]"
          ]
        },
        {
          "output_type": "stream",
          "name": "stdout",
          "text": [
            "torch.Size([64, 100])\n"
          ]
        },
        {
          "output_type": "stream",
          "name": "stderr",
          "text": [
            "\rValidating... (loss=X.X):  44%|| 69/157 [11:54<14:53, 10.15s/it]"
          ]
        },
        {
          "output_type": "stream",
          "name": "stdout",
          "text": [
            "torch.Size([64, 100])\n"
          ]
        },
        {
          "output_type": "stream",
          "name": "stderr",
          "text": [
            "\rValidating... (loss=X.X):  45%|| 70/157 [12:04<14:43, 10.16s/it]"
          ]
        },
        {
          "output_type": "stream",
          "name": "stdout",
          "text": [
            "torch.Size([64, 100])\n"
          ]
        },
        {
          "output_type": "stream",
          "name": "stderr",
          "text": [
            "\rValidating... (loss=X.X):  45%|| 71/157 [12:15<14:31, 10.13s/it]"
          ]
        },
        {
          "output_type": "stream",
          "name": "stdout",
          "text": [
            "torch.Size([64, 100])\n"
          ]
        },
        {
          "output_type": "stream",
          "name": "stderr",
          "text": [
            "\rValidating... (loss=X.X):  46%|| 72/157 [12:25<14:21, 10.13s/it]"
          ]
        },
        {
          "output_type": "stream",
          "name": "stdout",
          "text": [
            "torch.Size([64, 100])\n"
          ]
        },
        {
          "output_type": "stream",
          "name": "stderr",
          "text": [
            "\rValidating... (loss=X.X):  46%|| 73/157 [12:35<14:13, 10.16s/it]"
          ]
        },
        {
          "output_type": "stream",
          "name": "stdout",
          "text": [
            "torch.Size([64, 100])\n"
          ]
        },
        {
          "output_type": "stream",
          "name": "stderr",
          "text": [
            "\rValidating... (loss=X.X):  47%|| 74/157 [12:45<14:05, 10.19s/it]"
          ]
        },
        {
          "output_type": "stream",
          "name": "stdout",
          "text": [
            "torch.Size([64, 100])\n"
          ]
        },
        {
          "output_type": "stream",
          "name": "stderr",
          "text": [
            "\rValidating... (loss=X.X):  48%|| 75/157 [12:55<13:56, 10.21s/it]"
          ]
        },
        {
          "output_type": "stream",
          "name": "stdout",
          "text": [
            "torch.Size([64, 100])\n"
          ]
        },
        {
          "output_type": "stream",
          "name": "stderr",
          "text": [
            "\rValidating... (loss=X.X):  48%|| 76/157 [13:06<13:45, 10.19s/it]"
          ]
        },
        {
          "output_type": "stream",
          "name": "stdout",
          "text": [
            "torch.Size([64, 100])\n"
          ]
        },
        {
          "output_type": "stream",
          "name": "stderr",
          "text": [
            "\rValidating... (loss=X.X):  49%|| 77/157 [13:16<13:34, 10.18s/it]"
          ]
        },
        {
          "output_type": "stream",
          "name": "stdout",
          "text": [
            "torch.Size([64, 100])\n"
          ]
        },
        {
          "output_type": "stream",
          "name": "stderr",
          "text": [
            "\rValidating... (loss=X.X):  50%|| 78/157 [13:26<13:21, 10.15s/it]"
          ]
        },
        {
          "output_type": "stream",
          "name": "stdout",
          "text": [
            "torch.Size([64, 100])\n"
          ]
        },
        {
          "output_type": "stream",
          "name": "stderr",
          "text": [
            "\rValidating... (loss=X.X):  50%|| 79/157 [13:36<13:12, 10.15s/it]"
          ]
        },
        {
          "output_type": "stream",
          "name": "stdout",
          "text": [
            "torch.Size([64, 100])\n"
          ]
        },
        {
          "output_type": "stream",
          "name": "stderr",
          "text": [
            "\rValidating... (loss=X.X):  51%|| 80/157 [13:46<13:02, 10.17s/it]"
          ]
        },
        {
          "output_type": "stream",
          "name": "stdout",
          "text": [
            "torch.Size([64, 100])\n"
          ]
        },
        {
          "output_type": "stream",
          "name": "stderr",
          "text": [
            "\rValidating... (loss=X.X):  52%|| 81/157 [13:56<12:50, 10.14s/it]"
          ]
        },
        {
          "output_type": "stream",
          "name": "stdout",
          "text": [
            "torch.Size([64, 100])\n"
          ]
        },
        {
          "output_type": "stream",
          "name": "stderr",
          "text": [
            "\rValidating... (loss=X.X):  52%|| 82/157 [14:06<12:39, 10.13s/it]"
          ]
        },
        {
          "output_type": "stream",
          "name": "stdout",
          "text": [
            "torch.Size([64, 100])\n"
          ]
        },
        {
          "output_type": "stream",
          "name": "stderr",
          "text": [
            "\rValidating... (loss=X.X):  53%|| 83/157 [14:16<12:28, 10.12s/it]"
          ]
        },
        {
          "output_type": "stream",
          "name": "stdout",
          "text": [
            "torch.Size([64, 100])\n"
          ]
        },
        {
          "output_type": "stream",
          "name": "stderr",
          "text": [
            "\rValidating... (loss=X.X):  54%|| 84/157 [14:27<12:19, 10.13s/it]"
          ]
        },
        {
          "output_type": "stream",
          "name": "stdout",
          "text": [
            "torch.Size([64, 100])\n"
          ]
        },
        {
          "output_type": "stream",
          "name": "stderr",
          "text": [
            "\rValidating... (loss=X.X):  54%|| 85/157 [14:37<12:09, 10.14s/it]"
          ]
        },
        {
          "output_type": "stream",
          "name": "stdout",
          "text": [
            "torch.Size([64, 100])\n"
          ]
        },
        {
          "output_type": "stream",
          "name": "stderr",
          "text": [
            "\rValidating... (loss=X.X):  55%|| 86/157 [14:47<12:01, 10.17s/it]"
          ]
        },
        {
          "output_type": "stream",
          "name": "stdout",
          "text": [
            "torch.Size([64, 100])\n"
          ]
        },
        {
          "output_type": "stream",
          "name": "stderr",
          "text": [
            "\rValidating... (loss=X.X):  55%|| 87/157 [14:57<11:50, 10.15s/it]"
          ]
        },
        {
          "output_type": "stream",
          "name": "stdout",
          "text": [
            "torch.Size([64, 100])\n"
          ]
        },
        {
          "output_type": "stream",
          "name": "stderr",
          "text": [
            "\rValidating... (loss=X.X):  56%|| 88/157 [15:07<11:39, 10.14s/it]"
          ]
        },
        {
          "output_type": "stream",
          "name": "stdout",
          "text": [
            "torch.Size([64, 100])\n"
          ]
        },
        {
          "output_type": "stream",
          "name": "stderr",
          "text": [
            "\rValidating... (loss=X.X):  57%|| 89/157 [15:17<11:29, 10.14s/it]"
          ]
        },
        {
          "output_type": "stream",
          "name": "stdout",
          "text": [
            "torch.Size([64, 100])\n"
          ]
        },
        {
          "output_type": "stream",
          "name": "stderr",
          "text": [
            "\rValidating... (loss=X.X):  57%|| 90/157 [15:28<11:20, 10.16s/it]"
          ]
        },
        {
          "output_type": "stream",
          "name": "stdout",
          "text": [
            "torch.Size([64, 100])\n"
          ]
        },
        {
          "output_type": "stream",
          "name": "stderr",
          "text": [
            "\rValidating... (loss=X.X):  58%|| 91/157 [15:38<11:10, 10.16s/it]"
          ]
        },
        {
          "output_type": "stream",
          "name": "stdout",
          "text": [
            "torch.Size([64, 100])\n"
          ]
        },
        {
          "output_type": "stream",
          "name": "stderr",
          "text": [
            "\rValidating... (loss=X.X):  59%|| 92/157 [15:48<11:00, 10.17s/it]"
          ]
        },
        {
          "output_type": "stream",
          "name": "stdout",
          "text": [
            "torch.Size([64, 100])\n"
          ]
        },
        {
          "output_type": "stream",
          "name": "stderr",
          "text": [
            "\rValidating... (loss=X.X):  59%|| 93/157 [15:58<10:51, 10.18s/it]"
          ]
        },
        {
          "output_type": "stream",
          "name": "stdout",
          "text": [
            "torch.Size([64, 100])\n"
          ]
        },
        {
          "output_type": "stream",
          "name": "stderr",
          "text": [
            "\rValidating... (loss=X.X):  60%|| 94/157 [16:08<10:40, 10.17s/it]"
          ]
        },
        {
          "output_type": "stream",
          "name": "stdout",
          "text": [
            "torch.Size([64, 100])\n"
          ]
        },
        {
          "output_type": "stream",
          "name": "stderr",
          "text": [
            "\rValidating... (loss=X.X):  61%|| 95/157 [16:18<10:29, 10.15s/it]"
          ]
        },
        {
          "output_type": "stream",
          "name": "stdout",
          "text": [
            "torch.Size([64, 100])\n"
          ]
        },
        {
          "output_type": "stream",
          "name": "stderr",
          "text": [
            "\rValidating... (loss=X.X):  61%|| 96/157 [16:28<10:18, 10.15s/it]"
          ]
        },
        {
          "output_type": "stream",
          "name": "stdout",
          "text": [
            "torch.Size([64, 100])\n"
          ]
        },
        {
          "output_type": "stream",
          "name": "stderr",
          "text": [
            "\rValidating... (loss=X.X):  62%|| 97/157 [16:39<10:09, 10.16s/it]"
          ]
        },
        {
          "output_type": "stream",
          "name": "stdout",
          "text": [
            "torch.Size([64, 100])\n"
          ]
        },
        {
          "output_type": "stream",
          "name": "stderr",
          "text": [
            "\rValidating... (loss=X.X):  62%|| 98/157 [16:49<10:02, 10.22s/it]"
          ]
        },
        {
          "output_type": "stream",
          "name": "stdout",
          "text": [
            "torch.Size([64, 100])\n"
          ]
        },
        {
          "output_type": "stream",
          "name": "stderr",
          "text": [
            "\rValidating... (loss=X.X):  63%|| 99/157 [16:59<09:52, 10.22s/it]"
          ]
        },
        {
          "output_type": "stream",
          "name": "stdout",
          "text": [
            "torch.Size([64, 100])\n"
          ]
        },
        {
          "output_type": "stream",
          "name": "stderr",
          "text": [
            "\rValidating... (loss=X.X):  64%|| 100/157 [17:09<09:40, 10.19s/it]"
          ]
        },
        {
          "output_type": "stream",
          "name": "stdout",
          "text": [
            "torch.Size([64, 100])\n"
          ]
        },
        {
          "output_type": "stream",
          "name": "stderr",
          "text": [
            "\rValidating... (loss=X.X):  64%|| 101/157 [17:19<09:28, 10.16s/it]"
          ]
        },
        {
          "output_type": "stream",
          "name": "stdout",
          "text": [
            "torch.Size([64, 100])\n"
          ]
        },
        {
          "output_type": "stream",
          "name": "stderr",
          "text": [
            "\rValidating... (loss=X.X):  65%|| 102/157 [17:30<09:18, 10.15s/it]"
          ]
        },
        {
          "output_type": "stream",
          "name": "stdout",
          "text": [
            "torch.Size([64, 100])\n"
          ]
        },
        {
          "output_type": "stream",
          "name": "stderr",
          "text": [
            "\rValidating... (loss=X.X):  66%|| 103/157 [17:40<09:07, 10.13s/it]"
          ]
        },
        {
          "output_type": "stream",
          "name": "stdout",
          "text": [
            "torch.Size([64, 100])\n"
          ]
        },
        {
          "output_type": "stream",
          "name": "stderr",
          "text": [
            "\rValidating... (loss=X.X):  66%|| 104/157 [17:50<08:58, 10.16s/it]"
          ]
        },
        {
          "output_type": "stream",
          "name": "stdout",
          "text": [
            "torch.Size([64, 100])\n"
          ]
        },
        {
          "output_type": "stream",
          "name": "stderr",
          "text": [
            "\rValidating... (loss=X.X):  67%|| 105/157 [18:00<08:48, 10.17s/it]"
          ]
        },
        {
          "output_type": "stream",
          "name": "stdout",
          "text": [
            "torch.Size([64, 100])\n"
          ]
        },
        {
          "output_type": "stream",
          "name": "stderr",
          "text": [
            "\rValidating... (loss=X.X):  68%|| 106/157 [18:10<08:37, 10.16s/it]"
          ]
        },
        {
          "output_type": "stream",
          "name": "stdout",
          "text": [
            "torch.Size([64, 100])\n"
          ]
        },
        {
          "output_type": "stream",
          "name": "stderr",
          "text": [
            "\rValidating... (loss=X.X):  68%|| 107/157 [18:20<08:28, 10.16s/it]"
          ]
        },
        {
          "output_type": "stream",
          "name": "stdout",
          "text": [
            "torch.Size([64, 100])\n"
          ]
        },
        {
          "output_type": "stream",
          "name": "stderr",
          "text": [
            "\rValidating... (loss=X.X):  69%|| 108/157 [18:31<08:17, 10.16s/it]"
          ]
        },
        {
          "output_type": "stream",
          "name": "stdout",
          "text": [
            "torch.Size([64, 100])\n"
          ]
        },
        {
          "output_type": "stream",
          "name": "stderr",
          "text": [
            "\rValidating... (loss=X.X):  69%|| 109/157 [18:41<08:06, 10.14s/it]"
          ]
        },
        {
          "output_type": "stream",
          "name": "stdout",
          "text": [
            "torch.Size([64, 100])\n"
          ]
        },
        {
          "output_type": "stream",
          "name": "stderr",
          "text": [
            "\rValidating... (loss=X.X):  70%|| 110/157 [18:51<07:57, 10.16s/it]"
          ]
        },
        {
          "output_type": "stream",
          "name": "stdout",
          "text": [
            "torch.Size([64, 100])\n"
          ]
        },
        {
          "output_type": "stream",
          "name": "stderr",
          "text": [
            "\rValidating... (loss=X.X):  71%|| 111/157 [19:01<07:46, 10.14s/it]"
          ]
        },
        {
          "output_type": "stream",
          "name": "stdout",
          "text": [
            "torch.Size([64, 100])\n"
          ]
        },
        {
          "output_type": "stream",
          "name": "stderr",
          "text": [
            "\rValidating... (loss=X.X):  71%|| 112/157 [19:11<07:35, 10.12s/it]"
          ]
        },
        {
          "output_type": "stream",
          "name": "stdout",
          "text": [
            "torch.Size([64, 100])\n"
          ]
        },
        {
          "output_type": "stream",
          "name": "stderr",
          "text": [
            "\rValidating... (loss=X.X):  72%|| 113/157 [19:21<07:25, 10.12s/it]"
          ]
        },
        {
          "output_type": "stream",
          "name": "stdout",
          "text": [
            "torch.Size([64, 100])\n"
          ]
        },
        {
          "output_type": "stream",
          "name": "stderr",
          "text": [
            "\rValidating... (loss=X.X):  73%|| 114/157 [19:31<07:16, 10.15s/it]"
          ]
        },
        {
          "output_type": "stream",
          "name": "stdout",
          "text": [
            "torch.Size([64, 100])\n"
          ]
        },
        {
          "output_type": "stream",
          "name": "stderr",
          "text": [
            "\rValidating... (loss=X.X):  73%|| 115/157 [19:41<07:06, 10.15s/it]"
          ]
        },
        {
          "output_type": "stream",
          "name": "stdout",
          "text": [
            "torch.Size([64, 100])\n"
          ]
        },
        {
          "output_type": "stream",
          "name": "stderr",
          "text": [
            "\rValidating... (loss=X.X):  74%|| 116/157 [19:52<06:55, 10.13s/it]"
          ]
        },
        {
          "output_type": "stream",
          "name": "stdout",
          "text": [
            "torch.Size([64, 100])\n"
          ]
        },
        {
          "output_type": "stream",
          "name": "stderr",
          "text": [
            "\rValidating... (loss=X.X):  75%|| 117/157 [20:02<06:45, 10.13s/it]"
          ]
        },
        {
          "output_type": "stream",
          "name": "stdout",
          "text": [
            "torch.Size([64, 100])\n"
          ]
        },
        {
          "output_type": "stream",
          "name": "stderr",
          "text": [
            "\rValidating... (loss=X.X):  75%|| 118/157 [20:12<06:35, 10.14s/it]"
          ]
        },
        {
          "output_type": "stream",
          "name": "stdout",
          "text": [
            "torch.Size([64, 100])\n"
          ]
        },
        {
          "output_type": "stream",
          "name": "stderr",
          "text": [
            "\rValidating... (loss=X.X):  76%|| 119/157 [20:22<06:25, 10.14s/it]"
          ]
        },
        {
          "output_type": "stream",
          "name": "stdout",
          "text": [
            "torch.Size([64, 100])\n"
          ]
        },
        {
          "output_type": "stream",
          "name": "stderr",
          "text": [
            "\rValidating... (loss=X.X):  76%|| 120/157 [20:32<06:15, 10.14s/it]"
          ]
        },
        {
          "output_type": "stream",
          "name": "stdout",
          "text": [
            "torch.Size([64, 100])\n"
          ]
        },
        {
          "output_type": "stream",
          "name": "stderr",
          "text": [
            "\rValidating... (loss=X.X):  77%|| 121/157 [20:42<06:05, 10.16s/it]"
          ]
        },
        {
          "output_type": "stream",
          "name": "stdout",
          "text": [
            "torch.Size([64, 100])\n"
          ]
        },
        {
          "output_type": "stream",
          "name": "stderr",
          "text": [
            "\rValidating... (loss=X.X):  78%|| 122/157 [20:53<05:55, 10.17s/it]"
          ]
        },
        {
          "output_type": "stream",
          "name": "stdout",
          "text": [
            "torch.Size([64, 100])\n"
          ]
        },
        {
          "output_type": "stream",
          "name": "stderr",
          "text": [
            "\rValidating... (loss=X.X):  78%|| 123/157 [21:03<05:45, 10.15s/it]"
          ]
        },
        {
          "output_type": "stream",
          "name": "stdout",
          "text": [
            "torch.Size([64, 100])\n"
          ]
        },
        {
          "output_type": "stream",
          "name": "stderr",
          "text": [
            "\rValidating... (loss=X.X):  79%|| 124/157 [21:13<05:34, 10.13s/it]"
          ]
        },
        {
          "output_type": "stream",
          "name": "stdout",
          "text": [
            "torch.Size([64, 100])\n"
          ]
        },
        {
          "output_type": "stream",
          "name": "stderr",
          "text": [
            "\rValidating... (loss=X.X):  80%|| 125/157 [21:23<05:23, 10.12s/it]"
          ]
        },
        {
          "output_type": "stream",
          "name": "stdout",
          "text": [
            "torch.Size([64, 100])\n"
          ]
        },
        {
          "output_type": "stream",
          "name": "stderr",
          "text": [
            "\rValidating... (loss=X.X):  80%|| 126/157 [21:33<05:13, 10.12s/it]"
          ]
        },
        {
          "output_type": "stream",
          "name": "stdout",
          "text": [
            "torch.Size([64, 100])\n"
          ]
        },
        {
          "output_type": "stream",
          "name": "stderr",
          "text": [
            "\rValidating... (loss=X.X):  81%|| 127/157 [21:43<05:05, 10.18s/it]"
          ]
        },
        {
          "output_type": "stream",
          "name": "stdout",
          "text": [
            "torch.Size([64, 100])\n"
          ]
        },
        {
          "output_type": "stream",
          "name": "stderr",
          "text": [
            "\rValidating... (loss=X.X):  82%|| 128/157 [21:54<04:56, 10.22s/it]"
          ]
        },
        {
          "output_type": "stream",
          "name": "stdout",
          "text": [
            "torch.Size([64, 100])\n"
          ]
        },
        {
          "output_type": "stream",
          "name": "stderr",
          "text": [
            "\rValidating... (loss=X.X):  82%|| 129/157 [22:04<04:45, 10.20s/it]"
          ]
        },
        {
          "output_type": "stream",
          "name": "stdout",
          "text": [
            "torch.Size([64, 100])\n"
          ]
        },
        {
          "output_type": "stream",
          "name": "stderr",
          "text": [
            "\rValidating... (loss=X.X):  83%|| 130/157 [22:14<04:34, 10.18s/it]"
          ]
        },
        {
          "output_type": "stream",
          "name": "stdout",
          "text": [
            "torch.Size([64, 100])\n"
          ]
        },
        {
          "output_type": "stream",
          "name": "stderr",
          "text": [
            "\rValidating... (loss=X.X):  83%|| 131/157 [22:24<04:23, 10.15s/it]"
          ]
        },
        {
          "output_type": "stream",
          "name": "stdout",
          "text": [
            "torch.Size([64, 100])\n"
          ]
        },
        {
          "output_type": "stream",
          "name": "stderr",
          "text": [
            "\rValidating... (loss=X.X):  84%|| 132/157 [22:34<04:14, 10.16s/it]"
          ]
        },
        {
          "output_type": "stream",
          "name": "stdout",
          "text": [
            "torch.Size([64, 100])\n"
          ]
        },
        {
          "output_type": "stream",
          "name": "stderr",
          "text": [
            "\rValidating... (loss=X.X):  85%|| 133/157 [22:44<04:03, 10.16s/it]"
          ]
        },
        {
          "output_type": "stream",
          "name": "stdout",
          "text": [
            "torch.Size([64, 100])\n"
          ]
        },
        {
          "output_type": "stream",
          "name": "stderr",
          "text": [
            "\rValidating... (loss=X.X):  85%|| 134/157 [22:54<03:53, 10.14s/it]"
          ]
        },
        {
          "output_type": "stream",
          "name": "stdout",
          "text": [
            "torch.Size([64, 100])\n"
          ]
        },
        {
          "output_type": "stream",
          "name": "stderr",
          "text": [
            "\rValidating... (loss=X.X):  86%|| 135/157 [23:05<03:43, 10.14s/it]"
          ]
        },
        {
          "output_type": "stream",
          "name": "stdout",
          "text": [
            "torch.Size([64, 100])\n"
          ]
        },
        {
          "output_type": "stream",
          "name": "stderr",
          "text": [
            "\rValidating... (loss=X.X):  87%|| 136/157 [23:15<03:32, 10.12s/it]"
          ]
        },
        {
          "output_type": "stream",
          "name": "stdout",
          "text": [
            "torch.Size([64, 100])\n"
          ]
        },
        {
          "output_type": "stream",
          "name": "stderr",
          "text": [
            "\rValidating... (loss=X.X):  87%|| 137/157 [23:25<03:22, 10.10s/it]"
          ]
        },
        {
          "output_type": "stream",
          "name": "stdout",
          "text": [
            "torch.Size([64, 100])\n"
          ]
        },
        {
          "output_type": "stream",
          "name": "stderr",
          "text": [
            "\rValidating... (loss=X.X):  88%|| 138/157 [23:36<03:18, 10.43s/it]"
          ]
        },
        {
          "output_type": "stream",
          "name": "stdout",
          "text": [
            "torch.Size([64, 100])\n"
          ]
        },
        {
          "output_type": "stream",
          "name": "stderr",
          "text": [
            "\rValidating... (loss=X.X):  89%|| 139/157 [23:46<03:06, 10.34s/it]"
          ]
        },
        {
          "output_type": "stream",
          "name": "stdout",
          "text": [
            "torch.Size([64, 100])\n"
          ]
        },
        {
          "output_type": "stream",
          "name": "stderr",
          "text": [
            "\rValidating... (loss=X.X):  89%|| 140/157 [23:56<02:54, 10.28s/it]"
          ]
        },
        {
          "output_type": "stream",
          "name": "stdout",
          "text": [
            "torch.Size([64, 100])\n"
          ]
        },
        {
          "output_type": "stream",
          "name": "stderr",
          "text": [
            "\rValidating... (loss=X.X):  90%|| 141/157 [24:06<02:43, 10.23s/it]"
          ]
        },
        {
          "output_type": "stream",
          "name": "stdout",
          "text": [
            "torch.Size([64, 100])\n"
          ]
        },
        {
          "output_type": "stream",
          "name": "stderr",
          "text": [
            "\rValidating... (loss=X.X):  90%|| 142/157 [24:16<02:32, 10.19s/it]"
          ]
        },
        {
          "output_type": "stream",
          "name": "stdout",
          "text": [
            "torch.Size([64, 100])\n"
          ]
        },
        {
          "output_type": "stream",
          "name": "stderr",
          "text": [
            "\rValidating... (loss=X.X):  91%|| 143/157 [24:26<02:22, 10.16s/it]"
          ]
        },
        {
          "output_type": "stream",
          "name": "stdout",
          "text": [
            "torch.Size([64, 100])\n"
          ]
        },
        {
          "output_type": "stream",
          "name": "stderr",
          "text": [
            "\rValidating... (loss=X.X):  92%|| 144/157 [24:37<02:11, 10.14s/it]"
          ]
        },
        {
          "output_type": "stream",
          "name": "stdout",
          "text": [
            "torch.Size([64, 100])\n"
          ]
        },
        {
          "output_type": "stream",
          "name": "stderr",
          "text": [
            "\rValidating... (loss=X.X):  92%|| 145/157 [24:47<02:01, 10.14s/it]"
          ]
        },
        {
          "output_type": "stream",
          "name": "stdout",
          "text": [
            "torch.Size([64, 100])\n"
          ]
        },
        {
          "output_type": "stream",
          "name": "stderr",
          "text": [
            "\rValidating... (loss=X.X):  93%|| 146/157 [24:57<01:51, 10.17s/it]"
          ]
        },
        {
          "output_type": "stream",
          "name": "stdout",
          "text": [
            "torch.Size([64, 100])\n"
          ]
        },
        {
          "output_type": "stream",
          "name": "stderr",
          "text": [
            "\rValidating... (loss=X.X):  94%|| 147/157 [25:07<01:41, 10.18s/it]"
          ]
        },
        {
          "output_type": "stream",
          "name": "stdout",
          "text": [
            "torch.Size([64, 100])\n"
          ]
        },
        {
          "output_type": "stream",
          "name": "stderr",
          "text": [
            "\rValidating... (loss=X.X):  94%|| 148/157 [25:17<01:31, 10.16s/it]"
          ]
        },
        {
          "output_type": "stream",
          "name": "stdout",
          "text": [
            "torch.Size([64, 100])\n"
          ]
        },
        {
          "output_type": "stream",
          "name": "stderr",
          "text": [
            "\rValidating... (loss=X.X):  95%|| 149/157 [25:27<01:21, 10.15s/it]"
          ]
        },
        {
          "output_type": "stream",
          "name": "stdout",
          "text": [
            "torch.Size([64, 100])\n"
          ]
        },
        {
          "output_type": "stream",
          "name": "stderr",
          "text": [
            "\rValidating... (loss=X.X):  96%|| 150/157 [25:37<01:10, 10.13s/it]"
          ]
        },
        {
          "output_type": "stream",
          "name": "stdout",
          "text": [
            "torch.Size([64, 100])\n"
          ]
        },
        {
          "output_type": "stream",
          "name": "stderr",
          "text": [
            "\rValidating... (loss=X.X):  96%|| 151/157 [25:47<01:00, 10.11s/it]"
          ]
        },
        {
          "output_type": "stream",
          "name": "stdout",
          "text": [
            "torch.Size([64, 100])\n"
          ]
        },
        {
          "output_type": "stream",
          "name": "stderr",
          "text": [
            "\rValidating... (loss=X.X):  97%|| 152/157 [25:58<00:50, 10.10s/it]"
          ]
        },
        {
          "output_type": "stream",
          "name": "stdout",
          "text": [
            "torch.Size([64, 100])\n"
          ]
        },
        {
          "output_type": "stream",
          "name": "stderr",
          "text": [
            "\rValidating... (loss=X.X):  97%|| 153/157 [26:08<00:40, 10.09s/it]"
          ]
        },
        {
          "output_type": "stream",
          "name": "stdout",
          "text": [
            "torch.Size([64, 100])\n"
          ]
        },
        {
          "output_type": "stream",
          "name": "stderr",
          "text": [
            "\rValidating... (loss=X.X):  98%|| 154/157 [26:18<00:30, 10.08s/it]"
          ]
        },
        {
          "output_type": "stream",
          "name": "stdout",
          "text": [
            "torch.Size([64, 100])\n"
          ]
        },
        {
          "output_type": "stream",
          "name": "stderr",
          "text": [
            "\rValidating... (loss=X.X):  99%|| 155/157 [26:28<00:20, 10.26s/it]"
          ]
        },
        {
          "output_type": "stream",
          "name": "stdout",
          "text": [
            "torch.Size([64, 100])\n"
          ]
        },
        {
          "output_type": "stream",
          "name": "stderr",
          "text": [
            "\rValidating... (loss=X.X):  99%|| 156/157 [26:39<00:10, 10.50s/it]"
          ]
        },
        {
          "output_type": "stream",
          "name": "stdout",
          "text": [
            "torch.Size([64, 100])\n"
          ]
        },
        {
          "output_type": "stream",
          "name": "stderr",
          "text": [
            "Validating... (loss=X.X): 100%|| 157/157 [26:43<00:00, 10.21s/it]"
          ]
        },
        {
          "output_type": "stream",
          "name": "stdout",
          "text": [
            "torch.Size([16, 100])\n",
            "Valid Accuracy: 0.83180\n"
          ]
        },
        {
          "output_type": "stream",
          "name": "stderr",
          "text": [
            "\n"
          ]
        }
      ],
      "source": [
        "test(model, test_loader)"
      ]
    },
    {
      "cell_type": "markdown",
      "source": [
        "### Post Training Dynamic Quantization"
      ],
      "metadata": {
        "id": "jL-CeVc783n4"
      }
    },
    {
      "cell_type": "code",
      "execution_count": 27,
      "metadata": {
        "colab": {
          "base_uri": "https://localhost:8080/"
        },
        "id": "BXf8gGV7GbcH",
        "outputId": "0d1bc8d4-3fac-49cb-b791-2b2e1ce83c23"
      },
      "outputs": [
        {
          "output_type": "stream",
          "name": "stderr",
          "text": [
            "Validating... (loss=X.X):   1%|| 1/157 [00:09<25:24,  9.77s/it]"
          ]
        },
        {
          "output_type": "stream",
          "name": "stdout",
          "text": [
            "torch.Size([64, 100])\n"
          ]
        },
        {
          "output_type": "stream",
          "name": "stderr",
          "text": [
            "\rValidating... (loss=X.X):   1%|| 2/157 [00:18<22:59,  8.90s/it]"
          ]
        },
        {
          "output_type": "stream",
          "name": "stdout",
          "text": [
            "torch.Size([64, 100])\n"
          ]
        },
        {
          "output_type": "stream",
          "name": "stderr",
          "text": [
            "\rValidating... (loss=X.X):   2%|| 3/157 [00:26<22:06,  8.61s/it]"
          ]
        },
        {
          "output_type": "stream",
          "name": "stdout",
          "text": [
            "torch.Size([64, 100])\n"
          ]
        },
        {
          "output_type": "stream",
          "name": "stderr",
          "text": [
            "\rValidating... (loss=X.X):   3%|| 4/157 [00:34<21:36,  8.48s/it]"
          ]
        },
        {
          "output_type": "stream",
          "name": "stdout",
          "text": [
            "torch.Size([64, 100])\n"
          ]
        },
        {
          "output_type": "stream",
          "name": "stderr",
          "text": [
            "\rValidating... (loss=X.X):   3%|| 5/157 [00:42<21:19,  8.42s/it]"
          ]
        },
        {
          "output_type": "stream",
          "name": "stdout",
          "text": [
            "torch.Size([64, 100])\n"
          ]
        },
        {
          "output_type": "stream",
          "name": "stderr",
          "text": [
            "\rValidating... (loss=X.X):   4%|| 6/157 [00:51<21:03,  8.36s/it]"
          ]
        },
        {
          "output_type": "stream",
          "name": "stdout",
          "text": [
            "torch.Size([64, 100])\n"
          ]
        },
        {
          "output_type": "stream",
          "name": "stderr",
          "text": [
            "\rValidating... (loss=X.X):   4%|| 7/157 [00:59<20:53,  8.36s/it]"
          ]
        },
        {
          "output_type": "stream",
          "name": "stdout",
          "text": [
            "torch.Size([64, 100])\n"
          ]
        },
        {
          "output_type": "stream",
          "name": "stderr",
          "text": [
            "\rValidating... (loss=X.X):   5%|| 8/157 [01:08<20:51,  8.40s/it]"
          ]
        },
        {
          "output_type": "stream",
          "name": "stdout",
          "text": [
            "torch.Size([64, 100])\n"
          ]
        },
        {
          "output_type": "stream",
          "name": "stderr",
          "text": [
            "\rValidating... (loss=X.X):   6%|| 9/157 [01:16<20:35,  8.35s/it]"
          ]
        },
        {
          "output_type": "stream",
          "name": "stdout",
          "text": [
            "torch.Size([64, 100])\n"
          ]
        },
        {
          "output_type": "stream",
          "name": "stderr",
          "text": [
            "\rValidating... (loss=X.X):   6%|| 10/157 [01:24<20:21,  8.31s/it]"
          ]
        },
        {
          "output_type": "stream",
          "name": "stdout",
          "text": [
            "torch.Size([64, 100])\n"
          ]
        },
        {
          "output_type": "stream",
          "name": "stderr",
          "text": [
            "\rValidating... (loss=X.X):   7%|| 11/157 [01:32<20:10,  8.29s/it]"
          ]
        },
        {
          "output_type": "stream",
          "name": "stdout",
          "text": [
            "torch.Size([64, 100])\n"
          ]
        },
        {
          "output_type": "stream",
          "name": "stderr",
          "text": [
            "\rValidating... (loss=X.X):   8%|| 12/157 [01:41<20:08,  8.34s/it]"
          ]
        },
        {
          "output_type": "stream",
          "name": "stdout",
          "text": [
            "torch.Size([64, 100])\n"
          ]
        },
        {
          "output_type": "stream",
          "name": "stderr",
          "text": [
            "\rValidating... (loss=X.X):   8%|| 13/157 [01:49<20:02,  8.35s/it]"
          ]
        },
        {
          "output_type": "stream",
          "name": "stdout",
          "text": [
            "torch.Size([64, 100])\n"
          ]
        },
        {
          "output_type": "stream",
          "name": "stderr",
          "text": [
            "\rValidating... (loss=X.X):   9%|| 14/157 [01:57<19:57,  8.37s/it]"
          ]
        },
        {
          "output_type": "stream",
          "name": "stdout",
          "text": [
            "torch.Size([64, 100])\n"
          ]
        },
        {
          "output_type": "stream",
          "name": "stderr",
          "text": [
            "\rValidating... (loss=X.X):  10%|| 15/157 [02:06<19:49,  8.38s/it]"
          ]
        },
        {
          "output_type": "stream",
          "name": "stdout",
          "text": [
            "torch.Size([64, 100])\n"
          ]
        },
        {
          "output_type": "stream",
          "name": "stderr",
          "text": [
            "\rValidating... (loss=X.X):  10%|| 16/157 [02:14<19:39,  8.36s/it]"
          ]
        },
        {
          "output_type": "stream",
          "name": "stdout",
          "text": [
            "torch.Size([64, 100])\n"
          ]
        },
        {
          "output_type": "stream",
          "name": "stderr",
          "text": [
            "\rValidating... (loss=X.X):  11%|| 17/157 [02:22<19:28,  8.35s/it]"
          ]
        },
        {
          "output_type": "stream",
          "name": "stdout",
          "text": [
            "torch.Size([64, 100])\n"
          ]
        },
        {
          "output_type": "stream",
          "name": "stderr",
          "text": [
            "\rValidating... (loss=X.X):  11%|| 18/157 [02:31<19:19,  8.34s/it]"
          ]
        },
        {
          "output_type": "stream",
          "name": "stdout",
          "text": [
            "torch.Size([64, 100])\n"
          ]
        },
        {
          "output_type": "stream",
          "name": "stderr",
          "text": [
            "\rValidating... (loss=X.X):  12%|| 19/157 [02:39<19:10,  8.34s/it]"
          ]
        },
        {
          "output_type": "stream",
          "name": "stdout",
          "text": [
            "torch.Size([64, 100])\n"
          ]
        },
        {
          "output_type": "stream",
          "name": "stderr",
          "text": [
            "\rValidating... (loss=X.X):  13%|| 20/157 [02:48<19:04,  8.35s/it]"
          ]
        },
        {
          "output_type": "stream",
          "name": "stdout",
          "text": [
            "torch.Size([64, 100])\n"
          ]
        },
        {
          "output_type": "stream",
          "name": "stderr",
          "text": [
            "\rValidating... (loss=X.X):  13%|| 21/157 [02:56<18:55,  8.35s/it]"
          ]
        },
        {
          "output_type": "stream",
          "name": "stdout",
          "text": [
            "torch.Size([64, 100])\n"
          ]
        },
        {
          "output_type": "stream",
          "name": "stderr",
          "text": [
            "\rValidating... (loss=X.X):  14%|| 22/157 [03:04<18:43,  8.33s/it]"
          ]
        },
        {
          "output_type": "stream",
          "name": "stdout",
          "text": [
            "torch.Size([64, 100])\n"
          ]
        },
        {
          "output_type": "stream",
          "name": "stderr",
          "text": [
            "\rValidating... (loss=X.X):  15%|| 23/157 [03:12<18:36,  8.33s/it]"
          ]
        },
        {
          "output_type": "stream",
          "name": "stdout",
          "text": [
            "torch.Size([64, 100])\n"
          ]
        },
        {
          "output_type": "stream",
          "name": "stderr",
          "text": [
            "\rValidating... (loss=X.X):  15%|| 24/157 [03:21<18:24,  8.30s/it]"
          ]
        },
        {
          "output_type": "stream",
          "name": "stdout",
          "text": [
            "torch.Size([64, 100])\n"
          ]
        },
        {
          "output_type": "stream",
          "name": "stderr",
          "text": [
            "\rValidating... (loss=X.X):  16%|| 25/157 [03:29<18:15,  8.30s/it]"
          ]
        },
        {
          "output_type": "stream",
          "name": "stdout",
          "text": [
            "torch.Size([64, 100])\n"
          ]
        },
        {
          "output_type": "stream",
          "name": "stderr",
          "text": [
            "\rValidating... (loss=X.X):  17%|| 26/157 [03:37<18:08,  8.31s/it]"
          ]
        },
        {
          "output_type": "stream",
          "name": "stdout",
          "text": [
            "torch.Size([64, 100])\n"
          ]
        },
        {
          "output_type": "stream",
          "name": "stderr",
          "text": [
            "\rValidating... (loss=X.X):  17%|| 27/157 [03:46<18:01,  8.32s/it]"
          ]
        },
        {
          "output_type": "stream",
          "name": "stdout",
          "text": [
            "torch.Size([64, 100])\n"
          ]
        },
        {
          "output_type": "stream",
          "name": "stderr",
          "text": [
            "\rValidating... (loss=X.X):  18%|| 28/157 [03:54<17:55,  8.34s/it]"
          ]
        },
        {
          "output_type": "stream",
          "name": "stdout",
          "text": [
            "torch.Size([64, 100])\n"
          ]
        },
        {
          "output_type": "stream",
          "name": "stderr",
          "text": [
            "\rValidating... (loss=X.X):  18%|| 29/157 [04:03<17:50,  8.36s/it]"
          ]
        },
        {
          "output_type": "stream",
          "name": "stdout",
          "text": [
            "torch.Size([64, 100])\n"
          ]
        },
        {
          "output_type": "stream",
          "name": "stderr",
          "text": [
            "\rValidating... (loss=X.X):  19%|| 30/157 [04:11<17:43,  8.38s/it]"
          ]
        },
        {
          "output_type": "stream",
          "name": "stdout",
          "text": [
            "torch.Size([64, 100])\n"
          ]
        },
        {
          "output_type": "stream",
          "name": "stderr",
          "text": [
            "\rValidating... (loss=X.X):  20%|| 31/157 [04:19<17:32,  8.35s/it]"
          ]
        },
        {
          "output_type": "stream",
          "name": "stdout",
          "text": [
            "torch.Size([64, 100])\n"
          ]
        },
        {
          "output_type": "stream",
          "name": "stderr",
          "text": [
            "\rValidating... (loss=X.X):  20%|| 32/157 [04:28<17:25,  8.36s/it]"
          ]
        },
        {
          "output_type": "stream",
          "name": "stdout",
          "text": [
            "torch.Size([64, 100])\n"
          ]
        },
        {
          "output_type": "stream",
          "name": "stderr",
          "text": [
            "\rValidating... (loss=X.X):  21%|| 33/157 [04:36<17:23,  8.41s/it]"
          ]
        },
        {
          "output_type": "stream",
          "name": "stdout",
          "text": [
            "torch.Size([64, 100])\n"
          ]
        },
        {
          "output_type": "stream",
          "name": "stderr",
          "text": [
            "\rValidating... (loss=X.X):  22%|| 34/157 [04:45<17:19,  8.45s/it]"
          ]
        },
        {
          "output_type": "stream",
          "name": "stdout",
          "text": [
            "torch.Size([64, 100])\n"
          ]
        },
        {
          "output_type": "stream",
          "name": "stderr",
          "text": [
            "\rValidating... (loss=X.X):  22%|| 35/157 [04:53<17:07,  8.42s/it]"
          ]
        },
        {
          "output_type": "stream",
          "name": "stdout",
          "text": [
            "torch.Size([64, 100])\n"
          ]
        },
        {
          "output_type": "stream",
          "name": "stderr",
          "text": [
            "\rValidating... (loss=X.X):  23%|| 36/157 [05:01<16:53,  8.38s/it]"
          ]
        },
        {
          "output_type": "stream",
          "name": "stdout",
          "text": [
            "torch.Size([64, 100])\n"
          ]
        },
        {
          "output_type": "stream",
          "name": "stderr",
          "text": [
            "\rValidating... (loss=X.X):  24%|| 37/157 [05:10<16:45,  8.38s/it]"
          ]
        },
        {
          "output_type": "stream",
          "name": "stdout",
          "text": [
            "torch.Size([64, 100])\n"
          ]
        },
        {
          "output_type": "stream",
          "name": "stderr",
          "text": [
            "\rValidating... (loss=X.X):  24%|| 38/157 [05:18<16:32,  8.34s/it]"
          ]
        },
        {
          "output_type": "stream",
          "name": "stdout",
          "text": [
            "torch.Size([64, 100])\n"
          ]
        },
        {
          "output_type": "stream",
          "name": "stderr",
          "text": [
            "\rValidating... (loss=X.X):  25%|| 39/157 [05:26<16:20,  8.31s/it]"
          ]
        },
        {
          "output_type": "stream",
          "name": "stdout",
          "text": [
            "torch.Size([64, 100])\n"
          ]
        },
        {
          "output_type": "stream",
          "name": "stderr",
          "text": [
            "\rValidating... (loss=X.X):  25%|| 40/157 [05:34<16:10,  8.29s/it]"
          ]
        },
        {
          "output_type": "stream",
          "name": "stdout",
          "text": [
            "torch.Size([64, 100])\n"
          ]
        },
        {
          "output_type": "stream",
          "name": "stderr",
          "text": [
            "\rValidating... (loss=X.X):  26%|| 41/157 [05:43<16:07,  8.34s/it]"
          ]
        },
        {
          "output_type": "stream",
          "name": "stdout",
          "text": [
            "torch.Size([64, 100])\n"
          ]
        },
        {
          "output_type": "stream",
          "name": "stderr",
          "text": [
            "\rValidating... (loss=X.X):  27%|| 42/157 [05:51<16:00,  8.35s/it]"
          ]
        },
        {
          "output_type": "stream",
          "name": "stdout",
          "text": [
            "torch.Size([64, 100])\n"
          ]
        },
        {
          "output_type": "stream",
          "name": "stderr",
          "text": [
            "\rValidating... (loss=X.X):  27%|| 43/157 [06:00<15:51,  8.34s/it]"
          ]
        },
        {
          "output_type": "stream",
          "name": "stdout",
          "text": [
            "torch.Size([64, 100])\n"
          ]
        },
        {
          "output_type": "stream",
          "name": "stderr",
          "text": [
            "\rValidating... (loss=X.X):  28%|| 44/157 [06:08<15:42,  8.34s/it]"
          ]
        },
        {
          "output_type": "stream",
          "name": "stdout",
          "text": [
            "torch.Size([64, 100])\n"
          ]
        },
        {
          "output_type": "stream",
          "name": "stderr",
          "text": [
            "\rValidating... (loss=X.X):  29%|| 45/157 [06:16<15:32,  8.33s/it]"
          ]
        },
        {
          "output_type": "stream",
          "name": "stdout",
          "text": [
            "torch.Size([64, 100])\n"
          ]
        },
        {
          "output_type": "stream",
          "name": "stderr",
          "text": [
            "\rValidating... (loss=X.X):  29%|| 46/157 [06:24<15:21,  8.30s/it]"
          ]
        },
        {
          "output_type": "stream",
          "name": "stdout",
          "text": [
            "torch.Size([64, 100])\n"
          ]
        },
        {
          "output_type": "stream",
          "name": "stderr",
          "text": [
            "\rValidating... (loss=X.X):  30%|| 47/157 [06:33<15:11,  8.29s/it]"
          ]
        },
        {
          "output_type": "stream",
          "name": "stdout",
          "text": [
            "torch.Size([64, 100])\n"
          ]
        },
        {
          "output_type": "stream",
          "name": "stderr",
          "text": [
            "\rValidating... (loss=X.X):  31%|| 48/157 [06:41<15:04,  8.29s/it]"
          ]
        },
        {
          "output_type": "stream",
          "name": "stdout",
          "text": [
            "torch.Size([64, 100])\n"
          ]
        },
        {
          "output_type": "stream",
          "name": "stderr",
          "text": [
            "\rValidating... (loss=X.X):  31%|| 49/157 [06:49<14:58,  8.32s/it]"
          ]
        },
        {
          "output_type": "stream",
          "name": "stdout",
          "text": [
            "torch.Size([64, 100])\n"
          ]
        },
        {
          "output_type": "stream",
          "name": "stderr",
          "text": [
            "\rValidating... (loss=X.X):  32%|| 50/157 [06:58<14:51,  8.33s/it]"
          ]
        },
        {
          "output_type": "stream",
          "name": "stdout",
          "text": [
            "torch.Size([64, 100])\n"
          ]
        },
        {
          "output_type": "stream",
          "name": "stderr",
          "text": [
            "\rValidating... (loss=X.X):  32%|| 51/157 [07:06<14:44,  8.34s/it]"
          ]
        },
        {
          "output_type": "stream",
          "name": "stdout",
          "text": [
            "torch.Size([64, 100])\n"
          ]
        },
        {
          "output_type": "stream",
          "name": "stderr",
          "text": [
            "\rValidating... (loss=X.X):  33%|| 52/157 [07:14<14:33,  8.31s/it]"
          ]
        },
        {
          "output_type": "stream",
          "name": "stdout",
          "text": [
            "torch.Size([64, 100])\n"
          ]
        },
        {
          "output_type": "stream",
          "name": "stderr",
          "text": [
            "\rValidating... (loss=X.X):  34%|| 53/157 [07:23<14:22,  8.29s/it]"
          ]
        },
        {
          "output_type": "stream",
          "name": "stdout",
          "text": [
            "torch.Size([64, 100])\n"
          ]
        },
        {
          "output_type": "stream",
          "name": "stderr",
          "text": [
            "\rValidating... (loss=X.X):  34%|| 54/157 [07:31<14:12,  8.28s/it]"
          ]
        },
        {
          "output_type": "stream",
          "name": "stdout",
          "text": [
            "torch.Size([64, 100])\n"
          ]
        },
        {
          "output_type": "stream",
          "name": "stderr",
          "text": [
            "\rValidating... (loss=X.X):  35%|| 55/157 [07:39<14:07,  8.31s/it]"
          ]
        },
        {
          "output_type": "stream",
          "name": "stdout",
          "text": [
            "torch.Size([64, 100])\n"
          ]
        },
        {
          "output_type": "stream",
          "name": "stderr",
          "text": [
            "\rValidating... (loss=X.X):  36%|| 56/157 [07:48<13:59,  8.32s/it]"
          ]
        },
        {
          "output_type": "stream",
          "name": "stdout",
          "text": [
            "torch.Size([64, 100])\n"
          ]
        },
        {
          "output_type": "stream",
          "name": "stderr",
          "text": [
            "\rValidating... (loss=X.X):  36%|| 57/157 [07:56<13:52,  8.33s/it]"
          ]
        },
        {
          "output_type": "stream",
          "name": "stdout",
          "text": [
            "torch.Size([64, 100])\n"
          ]
        },
        {
          "output_type": "stream",
          "name": "stderr",
          "text": [
            "\rValidating... (loss=X.X):  37%|| 58/157 [08:04<13:42,  8.31s/it]"
          ]
        },
        {
          "output_type": "stream",
          "name": "stdout",
          "text": [
            "torch.Size([64, 100])\n"
          ]
        },
        {
          "output_type": "stream",
          "name": "stderr",
          "text": [
            "\rValidating... (loss=X.X):  38%|| 59/157 [08:13<13:36,  8.33s/it]"
          ]
        },
        {
          "output_type": "stream",
          "name": "stdout",
          "text": [
            "torch.Size([64, 100])\n"
          ]
        },
        {
          "output_type": "stream",
          "name": "stderr",
          "text": [
            "\rValidating... (loss=X.X):  38%|| 60/157 [08:21<13:25,  8.31s/it]"
          ]
        },
        {
          "output_type": "stream",
          "name": "stdout",
          "text": [
            "torch.Size([64, 100])\n"
          ]
        },
        {
          "output_type": "stream",
          "name": "stderr",
          "text": [
            "\rValidating... (loss=X.X):  39%|| 61/157 [08:29<13:17,  8.31s/it]"
          ]
        },
        {
          "output_type": "stream",
          "name": "stdout",
          "text": [
            "torch.Size([64, 100])\n"
          ]
        },
        {
          "output_type": "stream",
          "name": "stderr",
          "text": [
            "\rValidating... (loss=X.X):  39%|| 62/157 [08:37<13:08,  8.30s/it]"
          ]
        },
        {
          "output_type": "stream",
          "name": "stdout",
          "text": [
            "torch.Size([64, 100])\n"
          ]
        },
        {
          "output_type": "stream",
          "name": "stderr",
          "text": [
            "\rValidating... (loss=X.X):  40%|| 63/157 [08:46<12:59,  8.29s/it]"
          ]
        },
        {
          "output_type": "stream",
          "name": "stdout",
          "text": [
            "torch.Size([64, 100])\n"
          ]
        },
        {
          "output_type": "stream",
          "name": "stderr",
          "text": [
            "\rValidating... (loss=X.X):  41%|| 64/157 [08:54<12:56,  8.35s/it]"
          ]
        },
        {
          "output_type": "stream",
          "name": "stdout",
          "text": [
            "torch.Size([64, 100])\n"
          ]
        },
        {
          "output_type": "stream",
          "name": "stderr",
          "text": [
            "\rValidating... (loss=X.X):  41%|| 65/157 [09:03<12:51,  8.38s/it]"
          ]
        },
        {
          "output_type": "stream",
          "name": "stdout",
          "text": [
            "torch.Size([64, 100])\n"
          ]
        },
        {
          "output_type": "stream",
          "name": "stderr",
          "text": [
            "\rValidating... (loss=X.X):  42%|| 66/157 [09:11<12:45,  8.42s/it]"
          ]
        },
        {
          "output_type": "stream",
          "name": "stdout",
          "text": [
            "torch.Size([64, 100])\n"
          ]
        },
        {
          "output_type": "stream",
          "name": "stderr",
          "text": [
            "\rValidating... (loss=X.X):  43%|| 67/157 [09:19<12:34,  8.38s/it]"
          ]
        },
        {
          "output_type": "stream",
          "name": "stdout",
          "text": [
            "torch.Size([64, 100])\n"
          ]
        },
        {
          "output_type": "stream",
          "name": "stderr",
          "text": [
            "\rValidating... (loss=X.X):  43%|| 68/157 [09:28<12:24,  8.37s/it]"
          ]
        },
        {
          "output_type": "stream",
          "name": "stdout",
          "text": [
            "torch.Size([64, 100])\n"
          ]
        },
        {
          "output_type": "stream",
          "name": "stderr",
          "text": [
            "\rValidating... (loss=X.X):  44%|| 69/157 [09:36<12:17,  8.38s/it]"
          ]
        },
        {
          "output_type": "stream",
          "name": "stdout",
          "text": [
            "torch.Size([64, 100])\n"
          ]
        },
        {
          "output_type": "stream",
          "name": "stderr",
          "text": [
            "\rValidating... (loss=X.X):  45%|| 70/157 [09:45<12:11,  8.41s/it]"
          ]
        },
        {
          "output_type": "stream",
          "name": "stdout",
          "text": [
            "torch.Size([64, 100])\n"
          ]
        },
        {
          "output_type": "stream",
          "name": "stderr",
          "text": [
            "\rValidating... (loss=X.X):  45%|| 71/157 [09:53<12:09,  8.48s/it]"
          ]
        },
        {
          "output_type": "stream",
          "name": "stdout",
          "text": [
            "torch.Size([64, 100])\n"
          ]
        },
        {
          "output_type": "stream",
          "name": "stderr",
          "text": [
            "\rValidating... (loss=X.X):  46%|| 72/157 [10:02<11:57,  8.44s/it]"
          ]
        },
        {
          "output_type": "stream",
          "name": "stdout",
          "text": [
            "torch.Size([64, 100])\n"
          ]
        },
        {
          "output_type": "stream",
          "name": "stderr",
          "text": [
            "\rValidating... (loss=X.X):  46%|| 73/157 [10:10<11:46,  8.41s/it]"
          ]
        },
        {
          "output_type": "stream",
          "name": "stdout",
          "text": [
            "torch.Size([64, 100])\n"
          ]
        },
        {
          "output_type": "stream",
          "name": "stderr",
          "text": [
            "\rValidating... (loss=X.X):  47%|| 74/157 [10:18<11:35,  8.38s/it]"
          ]
        },
        {
          "output_type": "stream",
          "name": "stdout",
          "text": [
            "torch.Size([64, 100])\n"
          ]
        },
        {
          "output_type": "stream",
          "name": "stderr",
          "text": [
            "\rValidating... (loss=X.X):  48%|| 75/157 [10:27<11:25,  8.35s/it]"
          ]
        },
        {
          "output_type": "stream",
          "name": "stdout",
          "text": [
            "torch.Size([64, 100])\n"
          ]
        },
        {
          "output_type": "stream",
          "name": "stderr",
          "text": [
            "\rValidating... (loss=X.X):  48%|| 76/157 [10:35<11:16,  8.35s/it]"
          ]
        },
        {
          "output_type": "stream",
          "name": "stdout",
          "text": [
            "torch.Size([64, 100])\n"
          ]
        },
        {
          "output_type": "stream",
          "name": "stderr",
          "text": [
            "\rValidating... (loss=X.X):  49%|| 77/157 [10:43<11:08,  8.36s/it]"
          ]
        },
        {
          "output_type": "stream",
          "name": "stdout",
          "text": [
            "torch.Size([64, 100])\n"
          ]
        },
        {
          "output_type": "stream",
          "name": "stderr",
          "text": [
            "\rValidating... (loss=X.X):  50%|| 78/157 [10:52<10:59,  8.35s/it]"
          ]
        },
        {
          "output_type": "stream",
          "name": "stdout",
          "text": [
            "torch.Size([64, 100])\n"
          ]
        },
        {
          "output_type": "stream",
          "name": "stderr",
          "text": [
            "\rValidating... (loss=X.X):  50%|| 79/157 [11:01<11:12,  8.62s/it]"
          ]
        },
        {
          "output_type": "stream",
          "name": "stdout",
          "text": [
            "torch.Size([64, 100])\n"
          ]
        },
        {
          "output_type": "stream",
          "name": "stderr",
          "text": [
            "\rValidating... (loss=X.X):  51%|| 80/157 [11:09<10:57,  8.54s/it]"
          ]
        },
        {
          "output_type": "stream",
          "name": "stdout",
          "text": [
            "torch.Size([64, 100])\n"
          ]
        },
        {
          "output_type": "stream",
          "name": "stderr",
          "text": [
            "\rValidating... (loss=X.X):  52%|| 81/157 [11:17<10:42,  8.46s/it]"
          ]
        },
        {
          "output_type": "stream",
          "name": "stdout",
          "text": [
            "torch.Size([64, 100])\n"
          ]
        },
        {
          "output_type": "stream",
          "name": "stderr",
          "text": [
            "\rValidating... (loss=X.X):  52%|| 82/157 [11:26<10:29,  8.39s/it]"
          ]
        },
        {
          "output_type": "stream",
          "name": "stdout",
          "text": [
            "torch.Size([64, 100])\n"
          ]
        },
        {
          "output_type": "stream",
          "name": "stderr",
          "text": [
            "\rValidating... (loss=X.X):  53%|| 83/157 [11:34<10:17,  8.35s/it]"
          ]
        },
        {
          "output_type": "stream",
          "name": "stdout",
          "text": [
            "torch.Size([64, 100])\n"
          ]
        },
        {
          "output_type": "stream",
          "name": "stderr",
          "text": [
            "\rValidating... (loss=X.X):  54%|| 84/157 [11:42<10:12,  8.38s/it]"
          ]
        },
        {
          "output_type": "stream",
          "name": "stdout",
          "text": [
            "torch.Size([64, 100])\n"
          ]
        },
        {
          "output_type": "stream",
          "name": "stderr",
          "text": [
            "\rValidating... (loss=X.X):  54%|| 85/157 [11:51<10:04,  8.39s/it]"
          ]
        },
        {
          "output_type": "stream",
          "name": "stdout",
          "text": [
            "torch.Size([64, 100])\n"
          ]
        },
        {
          "output_type": "stream",
          "name": "stderr",
          "text": [
            "\rValidating... (loss=X.X):  55%|| 86/157 [11:59<09:56,  8.41s/it]"
          ]
        },
        {
          "output_type": "stream",
          "name": "stdout",
          "text": [
            "torch.Size([64, 100])\n"
          ]
        },
        {
          "output_type": "stream",
          "name": "stderr",
          "text": [
            "\rValidating... (loss=X.X):  55%|| 87/157 [12:08<09:48,  8.40s/it]"
          ]
        },
        {
          "output_type": "stream",
          "name": "stdout",
          "text": [
            "torch.Size([64, 100])\n"
          ]
        },
        {
          "output_type": "stream",
          "name": "stderr",
          "text": [
            "\rValidating... (loss=X.X):  56%|| 88/157 [12:16<09:36,  8.36s/it]"
          ]
        },
        {
          "output_type": "stream",
          "name": "stdout",
          "text": [
            "torch.Size([64, 100])\n"
          ]
        },
        {
          "output_type": "stream",
          "name": "stderr",
          "text": [
            "\rValidating... (loss=X.X):  57%|| 89/157 [12:24<09:27,  8.34s/it]"
          ]
        },
        {
          "output_type": "stream",
          "name": "stdout",
          "text": [
            "torch.Size([64, 100])\n"
          ]
        },
        {
          "output_type": "stream",
          "name": "stderr",
          "text": [
            "\rValidating... (loss=X.X):  57%|| 90/157 [12:33<09:19,  8.34s/it]"
          ]
        },
        {
          "output_type": "stream",
          "name": "stdout",
          "text": [
            "torch.Size([64, 100])\n"
          ]
        },
        {
          "output_type": "stream",
          "name": "stderr",
          "text": [
            "\rValidating... (loss=X.X):  58%|| 91/157 [12:41<09:10,  8.34s/it]"
          ]
        },
        {
          "output_type": "stream",
          "name": "stdout",
          "text": [
            "torch.Size([64, 100])\n"
          ]
        },
        {
          "output_type": "stream",
          "name": "stderr",
          "text": [
            "\rValidating... (loss=X.X):  59%|| 92/157 [12:49<09:00,  8.32s/it]"
          ]
        },
        {
          "output_type": "stream",
          "name": "stdout",
          "text": [
            "torch.Size([64, 100])\n"
          ]
        },
        {
          "output_type": "stream",
          "name": "stderr",
          "text": [
            "\rValidating... (loss=X.X):  59%|| 93/157 [12:58<08:53,  8.34s/it]"
          ]
        },
        {
          "output_type": "stream",
          "name": "stdout",
          "text": [
            "torch.Size([64, 100])\n"
          ]
        },
        {
          "output_type": "stream",
          "name": "stderr",
          "text": [
            "\rValidating... (loss=X.X):  60%|| 94/157 [13:07<09:02,  8.61s/it]"
          ]
        },
        {
          "output_type": "stream",
          "name": "stdout",
          "text": [
            "torch.Size([64, 100])\n"
          ]
        },
        {
          "output_type": "stream",
          "name": "stderr",
          "text": [
            "\rValidating... (loss=X.X):  61%|| 95/157 [13:15<08:50,  8.55s/it]"
          ]
        },
        {
          "output_type": "stream",
          "name": "stdout",
          "text": [
            "torch.Size([64, 100])\n"
          ]
        },
        {
          "output_type": "stream",
          "name": "stderr",
          "text": [
            "\rValidating... (loss=X.X):  61%|| 96/157 [13:24<08:37,  8.48s/it]"
          ]
        },
        {
          "output_type": "stream",
          "name": "stdout",
          "text": [
            "torch.Size([64, 100])\n"
          ]
        },
        {
          "output_type": "stream",
          "name": "stderr",
          "text": [
            "\rValidating... (loss=X.X):  62%|| 97/157 [13:32<08:25,  8.43s/it]"
          ]
        },
        {
          "output_type": "stream",
          "name": "stdout",
          "text": [
            "torch.Size([64, 100])\n"
          ]
        },
        {
          "output_type": "stream",
          "name": "stderr",
          "text": [
            "\rValidating... (loss=X.X):  62%|| 98/157 [13:40<08:17,  8.43s/it]"
          ]
        },
        {
          "output_type": "stream",
          "name": "stdout",
          "text": [
            "torch.Size([64, 100])\n"
          ]
        },
        {
          "output_type": "stream",
          "name": "stderr",
          "text": [
            "\rValidating... (loss=X.X):  63%|| 99/157 [13:49<08:07,  8.41s/it]"
          ]
        },
        {
          "output_type": "stream",
          "name": "stdout",
          "text": [
            "torch.Size([64, 100])\n"
          ]
        },
        {
          "output_type": "stream",
          "name": "stderr",
          "text": [
            "\rValidating... (loss=X.X):  64%|| 100/157 [13:57<07:59,  8.41s/it]"
          ]
        },
        {
          "output_type": "stream",
          "name": "stdout",
          "text": [
            "torch.Size([64, 100])\n"
          ]
        },
        {
          "output_type": "stream",
          "name": "stderr",
          "text": [
            "\rValidating... (loss=X.X):  64%|| 101/157 [14:05<07:50,  8.40s/it]"
          ]
        },
        {
          "output_type": "stream",
          "name": "stdout",
          "text": [
            "torch.Size([64, 100])\n"
          ]
        },
        {
          "output_type": "stream",
          "name": "stderr",
          "text": [
            "\rValidating... (loss=X.X):  65%|| 102/157 [14:14<07:43,  8.43s/it]"
          ]
        },
        {
          "output_type": "stream",
          "name": "stdout",
          "text": [
            "torch.Size([64, 100])\n"
          ]
        },
        {
          "output_type": "stream",
          "name": "stderr",
          "text": [
            "\rValidating... (loss=X.X):  66%|| 103/157 [14:22<07:34,  8.41s/it]"
          ]
        },
        {
          "output_type": "stream",
          "name": "stdout",
          "text": [
            "torch.Size([64, 100])\n"
          ]
        },
        {
          "output_type": "stream",
          "name": "stderr",
          "text": [
            "\rValidating... (loss=X.X):  66%|| 104/157 [14:31<07:25,  8.40s/it]"
          ]
        },
        {
          "output_type": "stream",
          "name": "stdout",
          "text": [
            "torch.Size([64, 100])\n"
          ]
        },
        {
          "output_type": "stream",
          "name": "stderr",
          "text": [
            "\rValidating... (loss=X.X):  67%|| 105/157 [14:39<07:16,  8.40s/it]"
          ]
        },
        {
          "output_type": "stream",
          "name": "stdout",
          "text": [
            "torch.Size([64, 100])\n"
          ]
        },
        {
          "output_type": "stream",
          "name": "stderr",
          "text": [
            "\rValidating... (loss=X.X):  68%|| 106/157 [14:47<07:08,  8.40s/it]"
          ]
        },
        {
          "output_type": "stream",
          "name": "stdout",
          "text": [
            "torch.Size([64, 100])\n"
          ]
        },
        {
          "output_type": "stream",
          "name": "stderr",
          "text": [
            "\rValidating... (loss=X.X):  68%|| 107/157 [14:56<06:59,  8.38s/it]"
          ]
        },
        {
          "output_type": "stream",
          "name": "stdout",
          "text": [
            "torch.Size([64, 100])\n"
          ]
        },
        {
          "output_type": "stream",
          "name": "stderr",
          "text": [
            "\rValidating... (loss=X.X):  69%|| 108/157 [15:04<06:50,  8.37s/it]"
          ]
        },
        {
          "output_type": "stream",
          "name": "stdout",
          "text": [
            "torch.Size([64, 100])\n"
          ]
        },
        {
          "output_type": "stream",
          "name": "stderr",
          "text": [
            "\rValidating... (loss=X.X):  69%|| 109/157 [15:12<06:41,  8.36s/it]"
          ]
        },
        {
          "output_type": "stream",
          "name": "stdout",
          "text": [
            "torch.Size([64, 100])\n"
          ]
        },
        {
          "output_type": "stream",
          "name": "stderr",
          "text": [
            "\rValidating... (loss=X.X):  70%|| 110/157 [15:21<06:32,  8.34s/it]"
          ]
        },
        {
          "output_type": "stream",
          "name": "stdout",
          "text": [
            "torch.Size([64, 100])\n"
          ]
        },
        {
          "output_type": "stream",
          "name": "stderr",
          "text": [
            "\rValidating... (loss=X.X):  71%|| 111/157 [15:29<06:22,  8.31s/it]"
          ]
        },
        {
          "output_type": "stream",
          "name": "stdout",
          "text": [
            "torch.Size([64, 100])\n"
          ]
        },
        {
          "output_type": "stream",
          "name": "stderr",
          "text": [
            "\rValidating... (loss=X.X):  71%|| 112/157 [15:37<06:15,  8.35s/it]"
          ]
        },
        {
          "output_type": "stream",
          "name": "stdout",
          "text": [
            "torch.Size([64, 100])\n"
          ]
        },
        {
          "output_type": "stream",
          "name": "stderr",
          "text": [
            "\rValidating... (loss=X.X):  72%|| 113/157 [15:46<06:07,  8.35s/it]"
          ]
        },
        {
          "output_type": "stream",
          "name": "stdout",
          "text": [
            "torch.Size([64, 100])\n"
          ]
        },
        {
          "output_type": "stream",
          "name": "stderr",
          "text": [
            "\rValidating... (loss=X.X):  73%|| 114/157 [15:54<05:59,  8.37s/it]"
          ]
        },
        {
          "output_type": "stream",
          "name": "stdout",
          "text": [
            "torch.Size([64, 100])\n"
          ]
        },
        {
          "output_type": "stream",
          "name": "stderr",
          "text": [
            "\rValidating... (loss=X.X):  73%|| 115/157 [16:02<05:50,  8.34s/it]"
          ]
        },
        {
          "output_type": "stream",
          "name": "stdout",
          "text": [
            "torch.Size([64, 100])\n"
          ]
        },
        {
          "output_type": "stream",
          "name": "stderr",
          "text": [
            "\rValidating... (loss=X.X):  74%|| 116/157 [16:11<05:41,  8.32s/it]"
          ]
        },
        {
          "output_type": "stream",
          "name": "stdout",
          "text": [
            "torch.Size([64, 100])\n"
          ]
        },
        {
          "output_type": "stream",
          "name": "stderr",
          "text": [
            "\rValidating... (loss=X.X):  75%|| 117/157 [16:19<05:31,  8.30s/it]"
          ]
        },
        {
          "output_type": "stream",
          "name": "stdout",
          "text": [
            "torch.Size([64, 100])\n"
          ]
        },
        {
          "output_type": "stream",
          "name": "stderr",
          "text": [
            "\rValidating... (loss=X.X):  75%|| 118/157 [16:27<05:23,  8.31s/it]"
          ]
        },
        {
          "output_type": "stream",
          "name": "stdout",
          "text": [
            "torch.Size([64, 100])\n"
          ]
        },
        {
          "output_type": "stream",
          "name": "stderr",
          "text": [
            "\rValidating... (loss=X.X):  76%|| 119/157 [16:36<05:16,  8.32s/it]"
          ]
        },
        {
          "output_type": "stream",
          "name": "stdout",
          "text": [
            "torch.Size([64, 100])\n"
          ]
        },
        {
          "output_type": "stream",
          "name": "stderr",
          "text": [
            "\rValidating... (loss=X.X):  76%|| 120/157 [16:44<05:08,  8.34s/it]"
          ]
        },
        {
          "output_type": "stream",
          "name": "stdout",
          "text": [
            "torch.Size([64, 100])\n"
          ]
        },
        {
          "output_type": "stream",
          "name": "stderr",
          "text": [
            "\rValidating... (loss=X.X):  77%|| 121/157 [16:52<05:00,  8.35s/it]"
          ]
        },
        {
          "output_type": "stream",
          "name": "stdout",
          "text": [
            "torch.Size([64, 100])\n"
          ]
        },
        {
          "output_type": "stream",
          "name": "stderr",
          "text": [
            "\rValidating... (loss=X.X):  78%|| 122/157 [17:01<04:52,  8.36s/it]"
          ]
        },
        {
          "output_type": "stream",
          "name": "stdout",
          "text": [
            "torch.Size([64, 100])\n"
          ]
        },
        {
          "output_type": "stream",
          "name": "stderr",
          "text": [
            "\rValidating... (loss=X.X):  78%|| 123/157 [17:11<05:01,  8.87s/it]"
          ]
        },
        {
          "output_type": "stream",
          "name": "stdout",
          "text": [
            "torch.Size([64, 100])\n"
          ]
        },
        {
          "output_type": "stream",
          "name": "stderr",
          "text": [
            "\rValidating... (loss=X.X):  79%|| 124/157 [17:21<05:07,  9.33s/it]"
          ]
        },
        {
          "output_type": "stream",
          "name": "stdout",
          "text": [
            "torch.Size([64, 100])\n"
          ]
        },
        {
          "output_type": "stream",
          "name": "stderr",
          "text": [
            "\rValidating... (loss=X.X):  80%|| 125/157 [17:30<04:51,  9.10s/it]"
          ]
        },
        {
          "output_type": "stream",
          "name": "stdout",
          "text": [
            "torch.Size([64, 100])\n"
          ]
        },
        {
          "output_type": "stream",
          "name": "stderr",
          "text": [
            "\rValidating... (loss=X.X):  80%|| 126/157 [17:38<04:35,  8.89s/it]"
          ]
        },
        {
          "output_type": "stream",
          "name": "stdout",
          "text": [
            "torch.Size([64, 100])\n"
          ]
        },
        {
          "output_type": "stream",
          "name": "stderr",
          "text": [
            "\rValidating... (loss=X.X):  81%|| 127/157 [17:47<04:22,  8.74s/it]"
          ]
        },
        {
          "output_type": "stream",
          "name": "stdout",
          "text": [
            "torch.Size([64, 100])\n"
          ]
        },
        {
          "output_type": "stream",
          "name": "stderr",
          "text": [
            "\rValidating... (loss=X.X):  82%|| 128/157 [17:55<04:10,  8.64s/it]"
          ]
        },
        {
          "output_type": "stream",
          "name": "stdout",
          "text": [
            "torch.Size([64, 100])\n"
          ]
        },
        {
          "output_type": "stream",
          "name": "stderr",
          "text": [
            "\rValidating... (loss=X.X):  82%|| 129/157 [18:03<03:58,  8.53s/it]"
          ]
        },
        {
          "output_type": "stream",
          "name": "stdout",
          "text": [
            "torch.Size([64, 100])\n"
          ]
        },
        {
          "output_type": "stream",
          "name": "stderr",
          "text": [
            "\rValidating... (loss=X.X):  83%|| 130/157 [18:12<03:48,  8.45s/it]"
          ]
        },
        {
          "output_type": "stream",
          "name": "stdout",
          "text": [
            "torch.Size([64, 100])\n"
          ]
        },
        {
          "output_type": "stream",
          "name": "stderr",
          "text": [
            "\rValidating... (loss=X.X):  83%|| 131/157 [18:20<03:37,  8.38s/it]"
          ]
        },
        {
          "output_type": "stream",
          "name": "stdout",
          "text": [
            "torch.Size([64, 100])\n"
          ]
        },
        {
          "output_type": "stream",
          "name": "stderr",
          "text": [
            "\rValidating... (loss=X.X):  84%|| 132/157 [18:28<03:28,  8.34s/it]"
          ]
        },
        {
          "output_type": "stream",
          "name": "stdout",
          "text": [
            "torch.Size([64, 100])\n"
          ]
        },
        {
          "output_type": "stream",
          "name": "stderr",
          "text": [
            "\rValidating... (loss=X.X):  85%|| 133/157 [18:36<03:19,  8.32s/it]"
          ]
        },
        {
          "output_type": "stream",
          "name": "stdout",
          "text": [
            "torch.Size([64, 100])\n"
          ]
        },
        {
          "output_type": "stream",
          "name": "stderr",
          "text": [
            "\rValidating... (loss=X.X):  85%|| 134/157 [18:45<03:11,  8.33s/it]"
          ]
        },
        {
          "output_type": "stream",
          "name": "stdout",
          "text": [
            "torch.Size([64, 100])\n"
          ]
        },
        {
          "output_type": "stream",
          "name": "stderr",
          "text": [
            "\rValidating... (loss=X.X):  86%|| 135/157 [18:53<03:03,  8.35s/it]"
          ]
        },
        {
          "output_type": "stream",
          "name": "stdout",
          "text": [
            "torch.Size([64, 100])\n"
          ]
        },
        {
          "output_type": "stream",
          "name": "stderr",
          "text": [
            "\rValidating... (loss=X.X):  87%|| 136/157 [19:01<02:55,  8.35s/it]"
          ]
        },
        {
          "output_type": "stream",
          "name": "stdout",
          "text": [
            "torch.Size([64, 100])\n"
          ]
        },
        {
          "output_type": "stream",
          "name": "stderr",
          "text": [
            "\rValidating... (loss=X.X):  87%|| 137/157 [19:10<02:46,  8.35s/it]"
          ]
        },
        {
          "output_type": "stream",
          "name": "stdout",
          "text": [
            "torch.Size([64, 100])\n"
          ]
        },
        {
          "output_type": "stream",
          "name": "stderr",
          "text": [
            "\rValidating... (loss=X.X):  88%|| 138/157 [19:18<02:38,  8.34s/it]"
          ]
        },
        {
          "output_type": "stream",
          "name": "stdout",
          "text": [
            "torch.Size([64, 100])\n"
          ]
        },
        {
          "output_type": "stream",
          "name": "stderr",
          "text": [
            "\rValidating... (loss=X.X):  89%|| 139/157 [19:26<02:29,  8.33s/it]"
          ]
        },
        {
          "output_type": "stream",
          "name": "stdout",
          "text": [
            "torch.Size([64, 100])\n"
          ]
        },
        {
          "output_type": "stream",
          "name": "stderr",
          "text": [
            "\rValidating... (loss=X.X):  89%|| 140/157 [19:35<02:21,  8.33s/it]"
          ]
        },
        {
          "output_type": "stream",
          "name": "stdout",
          "text": [
            "torch.Size([64, 100])\n"
          ]
        },
        {
          "output_type": "stream",
          "name": "stderr",
          "text": [
            "\rValidating... (loss=X.X):  90%|| 141/157 [19:43<02:14,  8.40s/it]"
          ]
        },
        {
          "output_type": "stream",
          "name": "stdout",
          "text": [
            "torch.Size([64, 100])\n"
          ]
        },
        {
          "output_type": "stream",
          "name": "stderr",
          "text": [
            "\rValidating... (loss=X.X):  90%|| 142/157 [19:52<02:05,  8.38s/it]"
          ]
        },
        {
          "output_type": "stream",
          "name": "stdout",
          "text": [
            "torch.Size([64, 100])\n"
          ]
        },
        {
          "output_type": "stream",
          "name": "stderr",
          "text": [
            "\rValidating... (loss=X.X):  91%|| 143/157 [20:00<01:57,  8.38s/it]"
          ]
        },
        {
          "output_type": "stream",
          "name": "stdout",
          "text": [
            "torch.Size([64, 100])\n"
          ]
        },
        {
          "output_type": "stream",
          "name": "stderr",
          "text": [
            "\rValidating... (loss=X.X):  92%|| 144/157 [20:08<01:48,  8.35s/it]"
          ]
        },
        {
          "output_type": "stream",
          "name": "stdout",
          "text": [
            "torch.Size([64, 100])\n"
          ]
        },
        {
          "output_type": "stream",
          "name": "stderr",
          "text": [
            "\rValidating... (loss=X.X):  92%|| 145/157 [20:17<01:40,  8.34s/it]"
          ]
        },
        {
          "output_type": "stream",
          "name": "stdout",
          "text": [
            "torch.Size([64, 100])\n"
          ]
        },
        {
          "output_type": "stream",
          "name": "stderr",
          "text": [
            "\rValidating... (loss=X.X):  93%|| 146/157 [20:25<01:31,  8.35s/it]"
          ]
        },
        {
          "output_type": "stream",
          "name": "stdout",
          "text": [
            "torch.Size([64, 100])\n"
          ]
        },
        {
          "output_type": "stream",
          "name": "stderr",
          "text": [
            "\rValidating... (loss=X.X):  94%|| 147/157 [20:33<01:23,  8.32s/it]"
          ]
        },
        {
          "output_type": "stream",
          "name": "stdout",
          "text": [
            "torch.Size([64, 100])\n"
          ]
        },
        {
          "output_type": "stream",
          "name": "stderr",
          "text": [
            "\rValidating... (loss=X.X):  94%|| 148/157 [20:42<01:14,  8.33s/it]"
          ]
        },
        {
          "output_type": "stream",
          "name": "stdout",
          "text": [
            "torch.Size([64, 100])\n"
          ]
        },
        {
          "output_type": "stream",
          "name": "stderr",
          "text": [
            "\rValidating... (loss=X.X):  95%|| 149/157 [20:50<01:06,  8.30s/it]"
          ]
        },
        {
          "output_type": "stream",
          "name": "stdout",
          "text": [
            "torch.Size([64, 100])\n"
          ]
        },
        {
          "output_type": "stream",
          "name": "stderr",
          "text": [
            "\rValidating... (loss=X.X):  96%|| 150/157 [20:58<00:58,  8.29s/it]"
          ]
        },
        {
          "output_type": "stream",
          "name": "stdout",
          "text": [
            "torch.Size([64, 100])\n"
          ]
        },
        {
          "output_type": "stream",
          "name": "stderr",
          "text": [
            "\rValidating... (loss=X.X):  96%|| 151/157 [21:06<00:49,  8.28s/it]"
          ]
        },
        {
          "output_type": "stream",
          "name": "stdout",
          "text": [
            "torch.Size([64, 100])\n"
          ]
        },
        {
          "output_type": "stream",
          "name": "stderr",
          "text": [
            "\rValidating... (loss=X.X):  97%|| 152/157 [21:15<00:41,  8.26s/it]"
          ]
        },
        {
          "output_type": "stream",
          "name": "stdout",
          "text": [
            "torch.Size([64, 100])\n"
          ]
        },
        {
          "output_type": "stream",
          "name": "stderr",
          "text": [
            "\rValidating... (loss=X.X):  97%|| 153/157 [21:23<00:32,  8.25s/it]"
          ]
        },
        {
          "output_type": "stream",
          "name": "stdout",
          "text": [
            "torch.Size([64, 100])\n"
          ]
        },
        {
          "output_type": "stream",
          "name": "stderr",
          "text": [
            "\rValidating... (loss=X.X):  98%|| 154/157 [21:31<00:24,  8.25s/it]"
          ]
        },
        {
          "output_type": "stream",
          "name": "stdout",
          "text": [
            "torch.Size([64, 100])\n"
          ]
        },
        {
          "output_type": "stream",
          "name": "stderr",
          "text": [
            "\rValidating... (loss=X.X):  99%|| 155/157 [21:39<00:16,  8.27s/it]"
          ]
        },
        {
          "output_type": "stream",
          "name": "stdout",
          "text": [
            "torch.Size([64, 100])\n"
          ]
        },
        {
          "output_type": "stream",
          "name": "stderr",
          "text": [
            "\rValidating... (loss=X.X):  99%|| 156/157 [21:48<00:08,  8.28s/it]"
          ]
        },
        {
          "output_type": "stream",
          "name": "stdout",
          "text": [
            "torch.Size([64, 100])\n"
          ]
        },
        {
          "output_type": "stream",
          "name": "stderr",
          "text": [
            "Validating... (loss=X.X): 100%|| 157/157 [21:50<00:00,  8.35s/it]"
          ]
        },
        {
          "output_type": "stream",
          "name": "stdout",
          "text": [
            "torch.Size([16, 100])\n",
            "Valid Accuracy: 0.82610\n"
          ]
        },
        {
          "output_type": "stream",
          "name": "stderr",
          "text": [
            "\n"
          ]
        }
      ],
      "source": [
        "import torch.quantization\n",
        "quantized_model = torch.quantization.quantize_dynamic(model, {torch.nn.Linear}, dtype=torch.qint8)\n",
        "test(quantized_model, test_loader)"
      ]
    },
    {
      "cell_type": "code",
      "execution_count": 11,
      "metadata": {
        "id": "6Gmvdoa5XvAo",
        "colab": {
          "base_uri": "https://localhost:8080/"
        },
        "outputId": "2f24e4ff-866c-4923-ca49-80448466a4ca"
      },
      "outputs": [
        {
          "output_type": "stream",
          "name": "stdout",
          "text": [
            "----------------------------------------------------------------\n",
            "        Layer (type)               Output Shape         Param #\n",
            "================================================================\n",
            "            Conv2d-1          [-1, 768, 14, 14]         590,592\n",
            "          Identity-2             [-1, 196, 768]               0\n",
            "        PatchEmbed-3             [-1, 196, 768]               0\n",
            "           Dropout-4             [-1, 197, 768]               0\n",
            "         LayerNorm-5             [-1, 197, 768]           1,536\n",
            "            Linear-6            [-1, 197, 2304]       1,771,776\n",
            "           Dropout-7         [-1, 12, 197, 197]               0\n",
            "            Linear-8             [-1, 197, 768]         590,592\n",
            "           Dropout-9             [-1, 197, 768]               0\n",
            "        Attention-10             [-1, 197, 768]               0\n",
            "         Identity-11             [-1, 197, 768]               0\n",
            "        LayerNorm-12             [-1, 197, 768]           1,536\n",
            "           Linear-13            [-1, 197, 3072]       2,362,368\n",
            "             GELU-14            [-1, 197, 3072]               0\n",
            "          Dropout-15            [-1, 197, 3072]               0\n",
            "           Linear-16             [-1, 197, 768]       2,360,064\n",
            "          Dropout-17             [-1, 197, 768]               0\n",
            "              Mlp-18             [-1, 197, 768]               0\n",
            "         Identity-19             [-1, 197, 768]               0\n",
            "            Block-20             [-1, 197, 768]               0\n",
            "        LayerNorm-21             [-1, 197, 768]           1,536\n",
            "           Linear-22            [-1, 197, 2304]       1,771,776\n",
            "          Dropout-23         [-1, 12, 197, 197]               0\n",
            "           Linear-24             [-1, 197, 768]         590,592\n",
            "          Dropout-25             [-1, 197, 768]               0\n",
            "        Attention-26             [-1, 197, 768]               0\n",
            "         DropPath-27             [-1, 197, 768]               0\n",
            "        LayerNorm-28             [-1, 197, 768]           1,536\n",
            "           Linear-29            [-1, 197, 3072]       2,362,368\n",
            "             GELU-30            [-1, 197, 3072]               0\n",
            "          Dropout-31            [-1, 197, 3072]               0\n",
            "           Linear-32             [-1, 197, 768]       2,360,064\n",
            "          Dropout-33             [-1, 197, 768]               0\n",
            "              Mlp-34             [-1, 197, 768]               0\n",
            "         DropPath-35             [-1, 197, 768]               0\n",
            "            Block-36             [-1, 197, 768]               0\n",
            "        LayerNorm-37             [-1, 197, 768]           1,536\n",
            "           Linear-38            [-1, 197, 2304]       1,771,776\n",
            "          Dropout-39         [-1, 12, 197, 197]               0\n",
            "           Linear-40             [-1, 197, 768]         590,592\n",
            "          Dropout-41             [-1, 197, 768]               0\n",
            "        Attention-42             [-1, 197, 768]               0\n",
            "         DropPath-43             [-1, 197, 768]               0\n",
            "        LayerNorm-44             [-1, 197, 768]           1,536\n",
            "           Linear-45            [-1, 197, 3072]       2,362,368\n",
            "             GELU-46            [-1, 197, 3072]               0\n",
            "          Dropout-47            [-1, 197, 3072]               0\n",
            "           Linear-48             [-1, 197, 768]       2,360,064\n",
            "          Dropout-49             [-1, 197, 768]               0\n",
            "              Mlp-50             [-1, 197, 768]               0\n",
            "         DropPath-51             [-1, 197, 768]               0\n",
            "            Block-52             [-1, 197, 768]               0\n",
            "        LayerNorm-53             [-1, 197, 768]           1,536\n",
            "           Linear-54            [-1, 197, 2304]       1,771,776\n",
            "          Dropout-55         [-1, 12, 197, 197]               0\n",
            "           Linear-56             [-1, 197, 768]         590,592\n",
            "          Dropout-57             [-1, 197, 768]               0\n",
            "        Attention-58             [-1, 197, 768]               0\n",
            "         DropPath-59             [-1, 197, 768]               0\n",
            "        LayerNorm-60             [-1, 197, 768]           1,536\n",
            "           Linear-61            [-1, 197, 3072]       2,362,368\n",
            "             GELU-62            [-1, 197, 3072]               0\n",
            "          Dropout-63            [-1, 197, 3072]               0\n",
            "           Linear-64             [-1, 197, 768]       2,360,064\n",
            "          Dropout-65             [-1, 197, 768]               0\n",
            "              Mlp-66             [-1, 197, 768]               0\n",
            "         DropPath-67             [-1, 197, 768]               0\n",
            "            Block-68             [-1, 197, 768]               0\n",
            "        LayerNorm-69             [-1, 197, 768]           1,536\n",
            "           Linear-70            [-1, 197, 2304]       1,771,776\n",
            "          Dropout-71         [-1, 12, 197, 197]               0\n",
            "           Linear-72             [-1, 197, 768]         590,592\n",
            "          Dropout-73             [-1, 197, 768]               0\n",
            "        Attention-74             [-1, 197, 768]               0\n",
            "         DropPath-75             [-1, 197, 768]               0\n",
            "        LayerNorm-76             [-1, 197, 768]           1,536\n",
            "           Linear-77            [-1, 197, 3072]       2,362,368\n",
            "             GELU-78            [-1, 197, 3072]               0\n",
            "          Dropout-79            [-1, 197, 3072]               0\n",
            "           Linear-80             [-1, 197, 768]       2,360,064\n",
            "          Dropout-81             [-1, 197, 768]               0\n",
            "              Mlp-82             [-1, 197, 768]               0\n",
            "         DropPath-83             [-1, 197, 768]               0\n",
            "            Block-84             [-1, 197, 768]               0\n",
            "        LayerNorm-85             [-1, 197, 768]           1,536\n",
            "           Linear-86            [-1, 197, 2304]       1,771,776\n",
            "          Dropout-87         [-1, 12, 197, 197]               0\n",
            "           Linear-88             [-1, 197, 768]         590,592\n",
            "          Dropout-89             [-1, 197, 768]               0\n",
            "        Attention-90             [-1, 197, 768]               0\n",
            "         DropPath-91             [-1, 197, 768]               0\n",
            "        LayerNorm-92             [-1, 197, 768]           1,536\n",
            "           Linear-93            [-1, 197, 3072]       2,362,368\n",
            "             GELU-94            [-1, 197, 3072]               0\n",
            "          Dropout-95            [-1, 197, 3072]               0\n",
            "           Linear-96             [-1, 197, 768]       2,360,064\n",
            "          Dropout-97             [-1, 197, 768]               0\n",
            "              Mlp-98             [-1, 197, 768]               0\n",
            "         DropPath-99             [-1, 197, 768]               0\n",
            "           Block-100             [-1, 197, 768]               0\n",
            "       LayerNorm-101             [-1, 197, 768]           1,536\n",
            "          Linear-102            [-1, 197, 2304]       1,771,776\n",
            "         Dropout-103         [-1, 12, 197, 197]               0\n",
            "          Linear-104             [-1, 197, 768]         590,592\n",
            "         Dropout-105             [-1, 197, 768]               0\n",
            "       Attention-106             [-1, 197, 768]               0\n",
            "        DropPath-107             [-1, 197, 768]               0\n",
            "       LayerNorm-108             [-1, 197, 768]           1,536\n",
            "          Linear-109            [-1, 197, 3072]       2,362,368\n",
            "            GELU-110            [-1, 197, 3072]               0\n",
            "         Dropout-111            [-1, 197, 3072]               0\n",
            "          Linear-112             [-1, 197, 768]       2,360,064\n",
            "         Dropout-113             [-1, 197, 768]               0\n",
            "             Mlp-114             [-1, 197, 768]               0\n",
            "        DropPath-115             [-1, 197, 768]               0\n",
            "           Block-116             [-1, 197, 768]               0\n",
            "       LayerNorm-117             [-1, 197, 768]           1,536\n",
            "          Linear-118            [-1, 197, 2304]       1,771,776\n",
            "         Dropout-119         [-1, 12, 197, 197]               0\n",
            "          Linear-120             [-1, 197, 768]         590,592\n",
            "         Dropout-121             [-1, 197, 768]               0\n",
            "       Attention-122             [-1, 197, 768]               0\n",
            "        DropPath-123             [-1, 197, 768]               0\n",
            "       LayerNorm-124             [-1, 197, 768]           1,536\n",
            "          Linear-125            [-1, 197, 3072]       2,362,368\n",
            "            GELU-126            [-1, 197, 3072]               0\n",
            "         Dropout-127            [-1, 197, 3072]               0\n",
            "          Linear-128             [-1, 197, 768]       2,360,064\n",
            "         Dropout-129             [-1, 197, 768]               0\n",
            "             Mlp-130             [-1, 197, 768]               0\n",
            "        DropPath-131             [-1, 197, 768]               0\n",
            "           Block-132             [-1, 197, 768]               0\n",
            "       LayerNorm-133             [-1, 197, 768]           1,536\n",
            "          Linear-134            [-1, 197, 2304]       1,771,776\n",
            "         Dropout-135         [-1, 12, 197, 197]               0\n",
            "          Linear-136             [-1, 197, 768]         590,592\n",
            "         Dropout-137             [-1, 197, 768]               0\n",
            "       Attention-138             [-1, 197, 768]               0\n",
            "        DropPath-139             [-1, 197, 768]               0\n",
            "       LayerNorm-140             [-1, 197, 768]           1,536\n",
            "          Linear-141            [-1, 197, 3072]       2,362,368\n",
            "            GELU-142            [-1, 197, 3072]               0\n",
            "         Dropout-143            [-1, 197, 3072]               0\n",
            "          Linear-144             [-1, 197, 768]       2,360,064\n",
            "         Dropout-145             [-1, 197, 768]               0\n",
            "             Mlp-146             [-1, 197, 768]               0\n",
            "        DropPath-147             [-1, 197, 768]               0\n",
            "           Block-148             [-1, 197, 768]               0\n",
            "       LayerNorm-149             [-1, 197, 768]           1,536\n",
            "          Linear-150            [-1, 197, 2304]       1,771,776\n",
            "         Dropout-151         [-1, 12, 197, 197]               0\n",
            "          Linear-152             [-1, 197, 768]         590,592\n",
            "         Dropout-153             [-1, 197, 768]               0\n",
            "       Attention-154             [-1, 197, 768]               0\n",
            "        DropPath-155             [-1, 197, 768]               0\n",
            "       LayerNorm-156             [-1, 197, 768]           1,536\n",
            "          Linear-157            [-1, 197, 3072]       2,362,368\n",
            "            GELU-158            [-1, 197, 3072]               0\n",
            "         Dropout-159            [-1, 197, 3072]               0\n",
            "          Linear-160             [-1, 197, 768]       2,360,064\n",
            "         Dropout-161             [-1, 197, 768]               0\n",
            "             Mlp-162             [-1, 197, 768]               0\n",
            "        DropPath-163             [-1, 197, 768]               0\n",
            "           Block-164             [-1, 197, 768]               0\n",
            "       LayerNorm-165             [-1, 197, 768]           1,536\n",
            "          Linear-166            [-1, 197, 2304]       1,771,776\n",
            "         Dropout-167         [-1, 12, 197, 197]               0\n",
            "          Linear-168             [-1, 197, 768]         590,592\n",
            "         Dropout-169             [-1, 197, 768]               0\n",
            "       Attention-170             [-1, 197, 768]               0\n",
            "        DropPath-171             [-1, 197, 768]               0\n",
            "       LayerNorm-172             [-1, 197, 768]           1,536\n",
            "          Linear-173            [-1, 197, 3072]       2,362,368\n",
            "            GELU-174            [-1, 197, 3072]               0\n",
            "         Dropout-175            [-1, 197, 3072]               0\n",
            "          Linear-176             [-1, 197, 768]       2,360,064\n",
            "         Dropout-177             [-1, 197, 768]               0\n",
            "             Mlp-178             [-1, 197, 768]               0\n",
            "        DropPath-179             [-1, 197, 768]               0\n",
            "           Block-180             [-1, 197, 768]               0\n",
            "       LayerNorm-181             [-1, 197, 768]           1,536\n",
            "          Linear-182            [-1, 197, 2304]       1,771,776\n",
            "         Dropout-183         [-1, 12, 197, 197]               0\n",
            "          Linear-184             [-1, 197, 768]         590,592\n",
            "         Dropout-185             [-1, 197, 768]               0\n",
            "       Attention-186             [-1, 197, 768]               0\n",
            "        DropPath-187             [-1, 197, 768]               0\n",
            "       LayerNorm-188             [-1, 197, 768]           1,536\n",
            "          Linear-189            [-1, 197, 3072]       2,362,368\n",
            "            GELU-190            [-1, 197, 3072]               0\n",
            "         Dropout-191            [-1, 197, 3072]               0\n",
            "          Linear-192             [-1, 197, 768]       2,360,064\n",
            "         Dropout-193             [-1, 197, 768]               0\n",
            "             Mlp-194             [-1, 197, 768]               0\n",
            "        DropPath-195             [-1, 197, 768]               0\n",
            "           Block-196             [-1, 197, 768]               0\n",
            "       LayerNorm-197             [-1, 197, 768]           1,536\n",
            "        Identity-198                  [-1, 768]               0\n",
            "          Linear-199                  [-1, 100]          76,900\n",
            "================================================================\n",
            "Total params: 85,723,492\n",
            "Trainable params: 85,723,492\n",
            "Non-trainable params: 0\n",
            "----------------------------------------------------------------\n",
            "Input size (MB): 0.57\n",
            "Forward/backward pass size (MB): 408.54\n",
            "Params size (MB): 327.01\n",
            "Estimated Total Size (MB): 736.12\n",
            "----------------------------------------------------------------\n",
            "----------------------------------------------------------------\n",
            "        Layer (type)               Output Shape         Param #\n",
            "================================================================\n",
            "            Conv2d-1          [-1, 768, 14, 14]         590,592\n",
            "          Identity-2             [-1, 196, 768]               0\n",
            "        PatchEmbed-3             [-1, 196, 768]               0\n",
            "           Dropout-4             [-1, 197, 768]               0\n",
            "         LayerNorm-5             [-1, 197, 768]           1,536\n",
            "            Linear-6            [-1, 197, 2304]               0\n",
            "           Dropout-7         [-1, 12, 197, 197]               0\n",
            "            Linear-8             [-1, 197, 768]               0\n",
            "           Dropout-9             [-1, 197, 768]               0\n",
            "        Attention-10             [-1, 197, 768]               0\n",
            "         Identity-11             [-1, 197, 768]               0\n",
            "        LayerNorm-12             [-1, 197, 768]           1,536\n",
            "           Linear-13            [-1, 197, 3072]               0\n",
            "             GELU-14            [-1, 197, 3072]               0\n",
            "          Dropout-15            [-1, 197, 3072]               0\n",
            "           Linear-16             [-1, 197, 768]               0\n",
            "          Dropout-17             [-1, 197, 768]               0\n",
            "              Mlp-18             [-1, 197, 768]               0\n",
            "         Identity-19             [-1, 197, 768]               0\n",
            "            Block-20             [-1, 197, 768]               0\n",
            "        LayerNorm-21             [-1, 197, 768]           1,536\n",
            "           Linear-22            [-1, 197, 2304]               0\n",
            "          Dropout-23         [-1, 12, 197, 197]               0\n",
            "           Linear-24             [-1, 197, 768]               0\n",
            "          Dropout-25             [-1, 197, 768]               0\n",
            "        Attention-26             [-1, 197, 768]               0\n",
            "         DropPath-27             [-1, 197, 768]               0\n",
            "        LayerNorm-28             [-1, 197, 768]           1,536\n",
            "           Linear-29            [-1, 197, 3072]               0\n",
            "             GELU-30            [-1, 197, 3072]               0\n",
            "          Dropout-31            [-1, 197, 3072]               0\n",
            "           Linear-32             [-1, 197, 768]               0\n",
            "          Dropout-33             [-1, 197, 768]               0\n",
            "              Mlp-34             [-1, 197, 768]               0\n",
            "         DropPath-35             [-1, 197, 768]               0\n",
            "            Block-36             [-1, 197, 768]               0\n",
            "        LayerNorm-37             [-1, 197, 768]           1,536\n",
            "           Linear-38            [-1, 197, 2304]               0\n",
            "          Dropout-39         [-1, 12, 197, 197]               0\n",
            "           Linear-40             [-1, 197, 768]               0\n",
            "          Dropout-41             [-1, 197, 768]               0\n",
            "        Attention-42             [-1, 197, 768]               0\n",
            "         DropPath-43             [-1, 197, 768]               0\n",
            "        LayerNorm-44             [-1, 197, 768]           1,536\n",
            "           Linear-45            [-1, 197, 3072]               0\n",
            "             GELU-46            [-1, 197, 3072]               0\n",
            "          Dropout-47            [-1, 197, 3072]               0\n",
            "           Linear-48             [-1, 197, 768]               0\n",
            "          Dropout-49             [-1, 197, 768]               0\n",
            "              Mlp-50             [-1, 197, 768]               0\n",
            "         DropPath-51             [-1, 197, 768]               0\n",
            "            Block-52             [-1, 197, 768]               0\n",
            "        LayerNorm-53             [-1, 197, 768]           1,536\n",
            "           Linear-54            [-1, 197, 2304]               0\n",
            "          Dropout-55         [-1, 12, 197, 197]               0\n",
            "           Linear-56             [-1, 197, 768]               0\n",
            "          Dropout-57             [-1, 197, 768]               0\n",
            "        Attention-58             [-1, 197, 768]               0\n",
            "         DropPath-59             [-1, 197, 768]               0\n",
            "        LayerNorm-60             [-1, 197, 768]           1,536\n",
            "           Linear-61            [-1, 197, 3072]               0\n",
            "             GELU-62            [-1, 197, 3072]               0\n",
            "          Dropout-63            [-1, 197, 3072]               0\n",
            "           Linear-64             [-1, 197, 768]               0\n",
            "          Dropout-65             [-1, 197, 768]               0\n",
            "              Mlp-66             [-1, 197, 768]               0\n",
            "         DropPath-67             [-1, 197, 768]               0\n",
            "            Block-68             [-1, 197, 768]               0\n",
            "        LayerNorm-69             [-1, 197, 768]           1,536\n",
            "           Linear-70            [-1, 197, 2304]               0\n",
            "          Dropout-71         [-1, 12, 197, 197]               0\n",
            "           Linear-72             [-1, 197, 768]               0\n",
            "          Dropout-73             [-1, 197, 768]               0\n",
            "        Attention-74             [-1, 197, 768]               0\n",
            "         DropPath-75             [-1, 197, 768]               0\n",
            "        LayerNorm-76             [-1, 197, 768]           1,536\n",
            "           Linear-77            [-1, 197, 3072]               0\n",
            "             GELU-78            [-1, 197, 3072]               0\n",
            "          Dropout-79            [-1, 197, 3072]               0\n",
            "           Linear-80             [-1, 197, 768]               0\n",
            "          Dropout-81             [-1, 197, 768]               0\n",
            "              Mlp-82             [-1, 197, 768]               0\n",
            "         DropPath-83             [-1, 197, 768]               0\n",
            "            Block-84             [-1, 197, 768]               0\n",
            "        LayerNorm-85             [-1, 197, 768]           1,536\n",
            "           Linear-86            [-1, 197, 2304]               0\n",
            "          Dropout-87         [-1, 12, 197, 197]               0\n",
            "           Linear-88             [-1, 197, 768]               0\n",
            "          Dropout-89             [-1, 197, 768]               0\n",
            "        Attention-90             [-1, 197, 768]               0\n",
            "         DropPath-91             [-1, 197, 768]               0\n",
            "        LayerNorm-92             [-1, 197, 768]           1,536\n",
            "           Linear-93            [-1, 197, 3072]               0\n",
            "             GELU-94            [-1, 197, 3072]               0\n",
            "          Dropout-95            [-1, 197, 3072]               0\n",
            "           Linear-96             [-1, 197, 768]               0\n",
            "          Dropout-97             [-1, 197, 768]               0\n",
            "              Mlp-98             [-1, 197, 768]               0\n",
            "         DropPath-99             [-1, 197, 768]               0\n",
            "           Block-100             [-1, 197, 768]               0\n",
            "       LayerNorm-101             [-1, 197, 768]           1,536\n",
            "          Linear-102            [-1, 197, 2304]               0\n",
            "         Dropout-103         [-1, 12, 197, 197]               0\n",
            "          Linear-104             [-1, 197, 768]               0\n",
            "         Dropout-105             [-1, 197, 768]               0\n",
            "       Attention-106             [-1, 197, 768]               0\n",
            "        DropPath-107             [-1, 197, 768]               0\n",
            "       LayerNorm-108             [-1, 197, 768]           1,536\n",
            "          Linear-109            [-1, 197, 3072]               0\n",
            "            GELU-110            [-1, 197, 3072]               0\n",
            "         Dropout-111            [-1, 197, 3072]               0\n",
            "          Linear-112             [-1, 197, 768]               0\n",
            "         Dropout-113             [-1, 197, 768]               0\n",
            "             Mlp-114             [-1, 197, 768]               0\n",
            "        DropPath-115             [-1, 197, 768]               0\n",
            "           Block-116             [-1, 197, 768]               0\n",
            "       LayerNorm-117             [-1, 197, 768]           1,536\n",
            "          Linear-118            [-1, 197, 2304]               0\n",
            "         Dropout-119         [-1, 12, 197, 197]               0\n",
            "          Linear-120             [-1, 197, 768]               0\n",
            "         Dropout-121             [-1, 197, 768]               0\n",
            "       Attention-122             [-1, 197, 768]               0\n",
            "        DropPath-123             [-1, 197, 768]               0\n",
            "       LayerNorm-124             [-1, 197, 768]           1,536\n",
            "          Linear-125            [-1, 197, 3072]               0\n",
            "            GELU-126            [-1, 197, 3072]               0\n",
            "         Dropout-127            [-1, 197, 3072]               0\n",
            "          Linear-128             [-1, 197, 768]               0\n",
            "         Dropout-129             [-1, 197, 768]               0\n",
            "             Mlp-130             [-1, 197, 768]               0\n",
            "        DropPath-131             [-1, 197, 768]               0\n",
            "           Block-132             [-1, 197, 768]               0\n",
            "       LayerNorm-133             [-1, 197, 768]           1,536\n",
            "          Linear-134            [-1, 197, 2304]               0\n",
            "         Dropout-135         [-1, 12, 197, 197]               0\n",
            "          Linear-136             [-1, 197, 768]               0\n",
            "         Dropout-137             [-1, 197, 768]               0\n",
            "       Attention-138             [-1, 197, 768]               0\n",
            "        DropPath-139             [-1, 197, 768]               0\n",
            "       LayerNorm-140             [-1, 197, 768]           1,536\n",
            "          Linear-141            [-1, 197, 3072]               0\n",
            "            GELU-142            [-1, 197, 3072]               0\n",
            "         Dropout-143            [-1, 197, 3072]               0\n",
            "          Linear-144             [-1, 197, 768]               0\n",
            "         Dropout-145             [-1, 197, 768]               0\n",
            "             Mlp-146             [-1, 197, 768]               0\n",
            "        DropPath-147             [-1, 197, 768]               0\n",
            "           Block-148             [-1, 197, 768]               0\n",
            "       LayerNorm-149             [-1, 197, 768]           1,536\n",
            "          Linear-150            [-1, 197, 2304]               0\n",
            "         Dropout-151         [-1, 12, 197, 197]               0\n",
            "          Linear-152             [-1, 197, 768]               0\n",
            "         Dropout-153             [-1, 197, 768]               0\n",
            "       Attention-154             [-1, 197, 768]               0\n",
            "        DropPath-155             [-1, 197, 768]               0\n",
            "       LayerNorm-156             [-1, 197, 768]           1,536\n",
            "          Linear-157            [-1, 197, 3072]               0\n",
            "            GELU-158            [-1, 197, 3072]               0\n",
            "         Dropout-159            [-1, 197, 3072]               0\n",
            "          Linear-160             [-1, 197, 768]               0\n",
            "         Dropout-161             [-1, 197, 768]               0\n",
            "             Mlp-162             [-1, 197, 768]               0\n",
            "        DropPath-163             [-1, 197, 768]               0\n",
            "           Block-164             [-1, 197, 768]               0\n",
            "       LayerNorm-165             [-1, 197, 768]           1,536\n",
            "          Linear-166            [-1, 197, 2304]               0\n",
            "         Dropout-167         [-1, 12, 197, 197]               0\n",
            "          Linear-168             [-1, 197, 768]               0\n",
            "         Dropout-169             [-1, 197, 768]               0\n",
            "       Attention-170             [-1, 197, 768]               0\n",
            "        DropPath-171             [-1, 197, 768]               0\n",
            "       LayerNorm-172             [-1, 197, 768]           1,536\n",
            "          Linear-173            [-1, 197, 3072]               0\n",
            "            GELU-174            [-1, 197, 3072]               0\n",
            "         Dropout-175            [-1, 197, 3072]               0\n",
            "          Linear-176             [-1, 197, 768]               0\n",
            "         Dropout-177             [-1, 197, 768]               0\n",
            "             Mlp-178             [-1, 197, 768]               0\n",
            "        DropPath-179             [-1, 197, 768]               0\n",
            "           Block-180             [-1, 197, 768]               0\n",
            "       LayerNorm-181             [-1, 197, 768]           1,536\n",
            "          Linear-182            [-1, 197, 2304]               0\n",
            "         Dropout-183         [-1, 12, 197, 197]               0\n",
            "          Linear-184             [-1, 197, 768]               0\n",
            "         Dropout-185             [-1, 197, 768]               0\n",
            "       Attention-186             [-1, 197, 768]               0\n",
            "        DropPath-187             [-1, 197, 768]               0\n",
            "       LayerNorm-188             [-1, 197, 768]           1,536\n",
            "          Linear-189            [-1, 197, 3072]               0\n",
            "            GELU-190            [-1, 197, 3072]               0\n",
            "         Dropout-191            [-1, 197, 3072]               0\n",
            "          Linear-192             [-1, 197, 768]               0\n",
            "         Dropout-193             [-1, 197, 768]               0\n",
            "             Mlp-194             [-1, 197, 768]               0\n",
            "        DropPath-195             [-1, 197, 768]               0\n",
            "           Block-196             [-1, 197, 768]               0\n",
            "       LayerNorm-197             [-1, 197, 768]           1,536\n",
            "        Identity-198                  [-1, 768]               0\n",
            "          Linear-199                  [-1, 100]               0\n",
            "================================================================\n",
            "Total params: 628,992\n",
            "Trainable params: 628,992\n",
            "Non-trainable params: 0\n",
            "----------------------------------------------------------------\n",
            "Input size (MB): 0.57\n",
            "Forward/backward pass size (MB): 408.54\n",
            "Params size (MB): 2.40\n",
            "Estimated Total Size (MB): 411.51\n",
            "----------------------------------------------------------------\n"
          ]
        }
      ],
      "source": [
        "from torchvision import models\n",
        "from torchsummary import summary\n",
        "summary(model, (3, 224, 224))\n",
        "quantized_model = torch.quantization.quantize_dynamic(model, {torch.nn.Linear}, dtype=torch.qint8)\n",
        "summary(quantized_model, (3, 224, 224))"
      ]
    },
    {
      "cell_type": "code",
      "source": [
        "def print_model_size(mdl):\n",
        "    torch.save(mdl.state_dict(), \"tmp.pt\")\n",
        "    print(\"%.2f MB\" %(os.path.getsize(\"tmp.pt\")/(1024*1024)))\n",
        "    os.remove('tmp.pt')\n",
        "\n",
        "print_model_size(quantized_model)"
      ],
      "metadata": {
        "colab": {
          "base_uri": "https://localhost:8080/"
        },
        "id": "1_J1nu1lKBev",
        "outputId": "8f2508be-115c-4bce-db91-83306ead80c9"
      },
      "execution_count": 12,
      "outputs": [
        {
          "output_type": "stream",
          "name": "stdout",
          "text": [
            "84.45 MB\n"
          ]
        }
      ]
    }
  ],
  "metadata": {
    "colab": {
      "collapsed_sections": [],
      "machine_shape": "hm",
      "name": "DeiT_cifar100_quantization.ipynb",
      "provenance": []
    },
    "kernelspec": {
      "display_name": "Python 3",
      "name": "python3"
    },
    "language_info": {
      "name": "python"
    },
    "widgets": {
      "application/vnd.jupyter.widget-state+json": {
        "3a8bfa877ea14610b23cb04f042b0be7": {
          "model_module": "@jupyter-widgets/controls",
          "model_name": "HBoxModel",
          "model_module_version": "1.5.0",
          "state": {
            "_dom_classes": [],
            "_model_module": "@jupyter-widgets/controls",
            "_model_module_version": "1.5.0",
            "_model_name": "HBoxModel",
            "_view_count": null,
            "_view_module": "@jupyter-widgets/controls",
            "_view_module_version": "1.5.0",
            "_view_name": "HBoxView",
            "box_style": "",
            "children": [
              "IPY_MODEL_e1db7e1296a045f4b803900a5c62cffe",
              "IPY_MODEL_2ac369f1a39046ae8b313bc74086bbf6",
              "IPY_MODEL_dd0eb4126465463381530ae74329d3f6"
            ],
            "layout": "IPY_MODEL_6760cc08545444759f378e3af8e39f61"
          }
        },
        "e1db7e1296a045f4b803900a5c62cffe": {
          "model_module": "@jupyter-widgets/controls",
          "model_name": "HTMLModel",
          "model_module_version": "1.5.0",
          "state": {
            "_dom_classes": [],
            "_model_module": "@jupyter-widgets/controls",
            "_model_module_version": "1.5.0",
            "_model_name": "HTMLModel",
            "_view_count": null,
            "_view_module": "@jupyter-widgets/controls",
            "_view_module_version": "1.5.0",
            "_view_name": "HTMLView",
            "description": "",
            "description_tooltip": null,
            "layout": "IPY_MODEL_f5d96be001a5428e88109f372a322f0a",
            "placeholder": "​",
            "style": "IPY_MODEL_c8ccd146b39b4c5099c324c9e28c8704",
            "value": ""
          }
        },
        "2ac369f1a39046ae8b313bc74086bbf6": {
          "model_module": "@jupyter-widgets/controls",
          "model_name": "FloatProgressModel",
          "model_module_version": "1.5.0",
          "state": {
            "_dom_classes": [],
            "_model_module": "@jupyter-widgets/controls",
            "_model_module_version": "1.5.0",
            "_model_name": "FloatProgressModel",
            "_view_count": null,
            "_view_module": "@jupyter-widgets/controls",
            "_view_module_version": "1.5.0",
            "_view_name": "ProgressView",
            "bar_style": "success",
            "description": "",
            "description_tooltip": null,
            "layout": "IPY_MODEL_d593a5e65cba4a229d9c9f45761bb35f",
            "max": 169001437,
            "min": 0,
            "orientation": "horizontal",
            "style": "IPY_MODEL_c95a4e1e255744b19c18328f91986057",
            "value": 169001437
          }
        },
        "dd0eb4126465463381530ae74329d3f6": {
          "model_module": "@jupyter-widgets/controls",
          "model_name": "HTMLModel",
          "model_module_version": "1.5.0",
          "state": {
            "_dom_classes": [],
            "_model_module": "@jupyter-widgets/controls",
            "_model_module_version": "1.5.0",
            "_model_name": "HTMLModel",
            "_view_count": null,
            "_view_module": "@jupyter-widgets/controls",
            "_view_module_version": "1.5.0",
            "_view_name": "HTMLView",
            "description": "",
            "description_tooltip": null,
            "layout": "IPY_MODEL_aaa31e1bf9eb47548403cd286c8db2d9",
            "placeholder": "​",
            "style": "IPY_MODEL_73edbacecd6f4b389fa724e93306f0b7",
            "value": " 169001984/? [00:01&lt;00:00, 112977339.65it/s]"
          }
        },
        "6760cc08545444759f378e3af8e39f61": {
          "model_module": "@jupyter-widgets/base",
          "model_name": "LayoutModel",
          "model_module_version": "1.2.0",
          "state": {
            "_model_module": "@jupyter-widgets/base",
            "_model_module_version": "1.2.0",
            "_model_name": "LayoutModel",
            "_view_count": null,
            "_view_module": "@jupyter-widgets/base",
            "_view_module_version": "1.2.0",
            "_view_name": "LayoutView",
            "align_content": null,
            "align_items": null,
            "align_self": null,
            "border": null,
            "bottom": null,
            "display": null,
            "flex": null,
            "flex_flow": null,
            "grid_area": null,
            "grid_auto_columns": null,
            "grid_auto_flow": null,
            "grid_auto_rows": null,
            "grid_column": null,
            "grid_gap": null,
            "grid_row": null,
            "grid_template_areas": null,
            "grid_template_columns": null,
            "grid_template_rows": null,
            "height": null,
            "justify_content": null,
            "justify_items": null,
            "left": null,
            "margin": null,
            "max_height": null,
            "max_width": null,
            "min_height": null,
            "min_width": null,
            "object_fit": null,
            "object_position": null,
            "order": null,
            "overflow": null,
            "overflow_x": null,
            "overflow_y": null,
            "padding": null,
            "right": null,
            "top": null,
            "visibility": null,
            "width": null
          }
        },
        "f5d96be001a5428e88109f372a322f0a": {
          "model_module": "@jupyter-widgets/base",
          "model_name": "LayoutModel",
          "model_module_version": "1.2.0",
          "state": {
            "_model_module": "@jupyter-widgets/base",
            "_model_module_version": "1.2.0",
            "_model_name": "LayoutModel",
            "_view_count": null,
            "_view_module": "@jupyter-widgets/base",
            "_view_module_version": "1.2.0",
            "_view_name": "LayoutView",
            "align_content": null,
            "align_items": null,
            "align_self": null,
            "border": null,
            "bottom": null,
            "display": null,
            "flex": null,
            "flex_flow": null,
            "grid_area": null,
            "grid_auto_columns": null,
            "grid_auto_flow": null,
            "grid_auto_rows": null,
            "grid_column": null,
            "grid_gap": null,
            "grid_row": null,
            "grid_template_areas": null,
            "grid_template_columns": null,
            "grid_template_rows": null,
            "height": null,
            "justify_content": null,
            "justify_items": null,
            "left": null,
            "margin": null,
            "max_height": null,
            "max_width": null,
            "min_height": null,
            "min_width": null,
            "object_fit": null,
            "object_position": null,
            "order": null,
            "overflow": null,
            "overflow_x": null,
            "overflow_y": null,
            "padding": null,
            "right": null,
            "top": null,
            "visibility": null,
            "width": null
          }
        },
        "c8ccd146b39b4c5099c324c9e28c8704": {
          "model_module": "@jupyter-widgets/controls",
          "model_name": "DescriptionStyleModel",
          "model_module_version": "1.5.0",
          "state": {
            "_model_module": "@jupyter-widgets/controls",
            "_model_module_version": "1.5.0",
            "_model_name": "DescriptionStyleModel",
            "_view_count": null,
            "_view_module": "@jupyter-widgets/base",
            "_view_module_version": "1.2.0",
            "_view_name": "StyleView",
            "description_width": ""
          }
        },
        "d593a5e65cba4a229d9c9f45761bb35f": {
          "model_module": "@jupyter-widgets/base",
          "model_name": "LayoutModel",
          "model_module_version": "1.2.0",
          "state": {
            "_model_module": "@jupyter-widgets/base",
            "_model_module_version": "1.2.0",
            "_model_name": "LayoutModel",
            "_view_count": null,
            "_view_module": "@jupyter-widgets/base",
            "_view_module_version": "1.2.0",
            "_view_name": "LayoutView",
            "align_content": null,
            "align_items": null,
            "align_self": null,
            "border": null,
            "bottom": null,
            "display": null,
            "flex": null,
            "flex_flow": null,
            "grid_area": null,
            "grid_auto_columns": null,
            "grid_auto_flow": null,
            "grid_auto_rows": null,
            "grid_column": null,
            "grid_gap": null,
            "grid_row": null,
            "grid_template_areas": null,
            "grid_template_columns": null,
            "grid_template_rows": null,
            "height": null,
            "justify_content": null,
            "justify_items": null,
            "left": null,
            "margin": null,
            "max_height": null,
            "max_width": null,
            "min_height": null,
            "min_width": null,
            "object_fit": null,
            "object_position": null,
            "order": null,
            "overflow": null,
            "overflow_x": null,
            "overflow_y": null,
            "padding": null,
            "right": null,
            "top": null,
            "visibility": null,
            "width": null
          }
        },
        "c95a4e1e255744b19c18328f91986057": {
          "model_module": "@jupyter-widgets/controls",
          "model_name": "ProgressStyleModel",
          "model_module_version": "1.5.0",
          "state": {
            "_model_module": "@jupyter-widgets/controls",
            "_model_module_version": "1.5.0",
            "_model_name": "ProgressStyleModel",
            "_view_count": null,
            "_view_module": "@jupyter-widgets/base",
            "_view_module_version": "1.2.0",
            "_view_name": "StyleView",
            "bar_color": null,
            "description_width": ""
          }
        },
        "aaa31e1bf9eb47548403cd286c8db2d9": {
          "model_module": "@jupyter-widgets/base",
          "model_name": "LayoutModel",
          "model_module_version": "1.2.0",
          "state": {
            "_model_module": "@jupyter-widgets/base",
            "_model_module_version": "1.2.0",
            "_model_name": "LayoutModel",
            "_view_count": null,
            "_view_module": "@jupyter-widgets/base",
            "_view_module_version": "1.2.0",
            "_view_name": "LayoutView",
            "align_content": null,
            "align_items": null,
            "align_self": null,
            "border": null,
            "bottom": null,
            "display": null,
            "flex": null,
            "flex_flow": null,
            "grid_area": null,
            "grid_auto_columns": null,
            "grid_auto_flow": null,
            "grid_auto_rows": null,
            "grid_column": null,
            "grid_gap": null,
            "grid_row": null,
            "grid_template_areas": null,
            "grid_template_columns": null,
            "grid_template_rows": null,
            "height": null,
            "justify_content": null,
            "justify_items": null,
            "left": null,
            "margin": null,
            "max_height": null,
            "max_width": null,
            "min_height": null,
            "min_width": null,
            "object_fit": null,
            "object_position": null,
            "order": null,
            "overflow": null,
            "overflow_x": null,
            "overflow_y": null,
            "padding": null,
            "right": null,
            "top": null,
            "visibility": null,
            "width": null
          }
        },
        "73edbacecd6f4b389fa724e93306f0b7": {
          "model_module": "@jupyter-widgets/controls",
          "model_name": "DescriptionStyleModel",
          "model_module_version": "1.5.0",
          "state": {
            "_model_module": "@jupyter-widgets/controls",
            "_model_module_version": "1.5.0",
            "_model_name": "DescriptionStyleModel",
            "_view_count": null,
            "_view_module": "@jupyter-widgets/base",
            "_view_module_version": "1.2.0",
            "_view_name": "StyleView",
            "description_width": ""
          }
        }
      }
    }
  },
  "nbformat": 4,
  "nbformat_minor": 0
}